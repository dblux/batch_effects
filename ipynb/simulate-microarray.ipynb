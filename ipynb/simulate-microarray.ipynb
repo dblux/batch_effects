{
 "cells": [
  {
   "cell_type": "code",
   "execution_count": 13,
   "id": "432919d6",
   "metadata": {},
   "outputs": [],
   "source": [
    "library(ggplot2)"
   ]
  },
  {
   "cell_type": "code",
   "execution_count": 3,
   "id": "49fb7b70",
   "metadata": {
    "scrolled": true
   },
   "outputs": [
    {
     "name": "stdout",
     "output_type": "stream",
     "text": [
      "Sourced file: ../../relapse_prediction/R/batch.R\n",
      "Sourced file: ../../relapse_prediction/R/calc.R\n",
      "Sourced file: ../../relapse_prediction/R/gpca.R\n",
      "Sourced file: ../../relapse_prediction/R/misc.R\n",
      "Sourced file: ../../relapse_prediction/R/normalise.R\n",
      "Sourced file: ../../relapse_prediction/R/plot.R\n",
      "Sourced file: ../../relapse_prediction/R/predict.R\n",
      "Sourced file: ../../relapse_prediction/R/rvp.R\n",
      "Sourced file: ../../relapse_prediction/R/subset.R\n",
      "Sourced file: ../../relapse_prediction/R/utils.R\n"
     ]
    }
   ],
   "source": [
    "# source files\n",
    "src_files <- list.files('../../relapse_prediction/R', full.names = TRUE)\n",
    "for (f in src_files) {\n",
    "  source(f)\n",
    "  cat(sprintf('Sourced file: %s\\n', f))\n",
    "}\n",
    "source('../R/simulate.R')"
   ]
  },
  {
   "cell_type": "markdown",
   "id": "283bde84",
   "metadata": {},
   "source": [
    "# Simulate microarray\n",
    "- Delta: Max - 1"
   ]
  },
  {
   "cell_type": "code",
   "execution_count": 193,
   "id": "233c0f5c",
   "metadata": {
    "scrolled": true
   },
   "outputs": [
    {
     "name": "stdout",
     "output_type": "stream",
     "text": [
      "[1] 0.2\n",
      "[1] 0.3\n",
      "[1] 0.4\n",
      "[1] 0.5\n",
      "[1] 0.6\n",
      "[1] 0.7\n",
      "[1] 0.8\n",
      "[1] 0.9\n",
      "[1] 1\n",
      "[1] 1.1\n",
      "[1] 1.2\n"
     ]
    }
   ],
   "source": [
    "npercond <- c(20, 20, 20, 20)\n",
    "crosstab <- matrix(npercond, 2, 2)\n",
    "\n",
    "for (delta in seq(0.2, 1.2, 0.1)) {\n",
    "  print(delta)\n",
    "  simdata <- simulate_microarray(\n",
    "    8000, sum(npercond), crosstab,\n",
    "    delta = delta, phi = 0.1, zeta = 1.5,\n",
    "    dropout = FALSE\n",
    "  )\n",
    "\n",
    "  file1 <- sprintf('../data/simulated/small/balanced/bal-%.1f.pdf', delta)\n",
    "  write.table(simdata$X, file1, quote = FALSE, sep = '\\t', row.names = F)\n",
    "\n",
    "  ax_pca <- ggplot_pca(simdata$X, simdata$metadata, col = 'batch', pch = 'class')\n",
    "  file2 <- sprintf('~/Dropbox/tmp/pca_bal-%.1f.pdf', delta)\n",
    "  ggsave(file2, ax_pca, width = 6, height = 4)\n",
    "\n",
    "  ax_top_pc <- ggplot_top_pc(\n",
    "    simdata$X, simdata$metadata,\n",
    "    x_axis = 'batch', col = 'batch', pch = 'class'\n",
    "  )\n",
    "  file3 <- sprintf('~/Dropbox/tmp/top_pc_bal-%.1f.pdf', delta)\n",
    "  ggsave(file3, ax_top_pc, width = 6, height = 4)\n",
    "\n",
    "  file4 <- sprintf('~/Dropbox/tmp/log_beta_bal-%.1f.pdf', delta)\n",
    "  pdf(file4, width = 6, height = 4)\n",
    "  hist(simdata$log_beta[, 1])\n",
    "  dev.off()\n",
    "}"
   ]
  },
  {
   "cell_type": "code",
   "execution_count": 180,
   "id": "d012aecf",
   "metadata": {},
   "outputs": [],
   "source": [
    "# file <- sprintf('../data/simulated/small/balanced/bal-%d.pdf', 0)\n",
    "# write.table(simdata$Z, file, quote = FALSE, sep = '\\t', row.names = FALSE)"
   ]
  },
  {
   "cell_type": "code",
   "execution_count": 194,
   "id": "736b2d7c",
   "metadata": {},
   "outputs": [
    {
     "name": "stdout",
     "output_type": "stream",
     "text": [
      "[1] 0.2\n",
      "[1] 0.3\n",
      "[1] 0.4\n",
      "[1] 0.5\n",
      "[1] 0.6\n",
      "[1] 0.7\n",
      "[1] 0.8\n",
      "[1] 0.9\n",
      "[1] 1\n",
      "[1] 1.1\n",
      "[1] 1.2\n"
     ]
    }
   ],
   "source": [
    "npercond <- c(10, 30, 30, 10)\n",
    "crosstab <- matrix(npercond, 2, 2)\n",
    "\n",
    "for (delta in seq(0.2, 1.2, 0.1)) {\n",
    "  print(delta)\n",
    "  simdata <- simulate_microarray(\n",
    "    8000, sum(npercond), crosstab,\n",
    "    delta = delta, phi = 0.1, zeta = 1.5,\n",
    "    dropout = FALSE\n",
    "  )\n",
    "\n",
    "  file1 <- sprintf('../data/simulated/small/imbalanced/imbal-%.1f.pdf', delta)\n",
    "  write.table(simdata$X, file1, quote = FALSE, sep = '\\t', row.names = F)\n",
    "\n",
    "  ax_pca <- ggplot_pca(simdata$X, simdata$metadata, col = 'batch', pch = 'class')\n",
    "  file2 <- sprintf('~/Dropbox/tmp/pca_imbal-%.1f.pdf', delta)\n",
    "  ggsave(file2, ax_pca, width = 6, height = 4)\n",
    "\n",
    "  ax_top_pc <- ggplot_top_pc(\n",
    "    simdata$X, simdata$metadata,\n",
    "    x_axis = 'batch', col = 'batch', pch = 'class'\n",
    "  )\n",
    "  file3 <- sprintf('~/Dropbox/tmp/top_pc_imbal-%.1f.pdf', delta)\n",
    "  ggsave(file3, ax_top_pc, width = 6, height = 4)\n",
    "\n",
    "  file4 <- sprintf('~/Dropbox/tmp/log_beta_imbal-%.1f.pdf', delta)\n",
    "  pdf(file4, width = 6, height = 4)\n",
    "  hist(simdata$log_beta[, 1])\n",
    "  dev.off()\n",
    "}"
   ]
  },
  {
   "cell_type": "code",
   "execution_count": null,
   "id": "9aa8a3c3",
   "metadata": {},
   "outputs": [],
   "source": [
    "file <- sprintf('../data/simulated/small/imbalanced/imbal-%d.pdf', 0)\n",
    "write.table(simdata$Z, file, quote = FALSE, sep = '\\t', row.names = FALSE)"
   ]
  },
  {
   "cell_type": "markdown",
   "id": "8aaa997a",
   "metadata": {},
   "source": [
    "## Plots"
   ]
  },
  {
   "cell_type": "code",
   "execution_count": 6,
   "id": "24460c8a",
   "metadata": {},
   "outputs": [
    {
     "name": "stdout",
     "output_type": "stream",
     "text": [
      " [1] \"../data/simulated/small/balanced/bal-0.pdf\"  \n",
      " [2] \"../data/simulated/small/balanced/bal-0.2.pdf\"\n",
      " [3] \"../data/simulated/small/balanced/bal-0.3.pdf\"\n",
      " [4] \"../data/simulated/small/balanced/bal-0.4.pdf\"\n",
      " [5] \"../data/simulated/small/balanced/bal-0.5.pdf\"\n",
      " [6] \"../data/simulated/small/balanced/bal-0.6.pdf\"\n",
      " [7] \"../data/simulated/small/balanced/bal-0.7.pdf\"\n",
      " [8] \"../data/simulated/small/balanced/bal-0.8.pdf\"\n",
      " [9] \"../data/simulated/small/balanced/bal-0.9.pdf\"\n",
      "[10] \"../data/simulated/small/balanced/bal-1.0.pdf\"\n",
      "[11] \"../data/simulated/small/balanced/bal-1.1.pdf\"\n"
     ]
    }
   ],
   "source": [
    "dir <- '../data/simulated/small/balanced'\n",
    "files <- list.files(dir, full.names = T)\n",
    "files <- files[c(9, 1:8, 10:11)]\n",
    "print(files)\n",
    "list_data <- lapply(files, read.table, sep = \"\\t\", header = T)"
   ]
  },
  {
   "cell_type": "code",
   "execution_count": 14,
   "id": "a563b4f8",
   "metadata": {},
   "outputs": [
    {
     "name": "stdout",
     "output_type": "stream",
     "text": [
      " [1] \"bal-0.pdf\"   \"bal-0.2.pdf\" \"bal-0.3.pdf\" \"bal-0.4.pdf\" \"bal-0.5.pdf\"\n",
      " [6] \"bal-0.6.pdf\" \"bal-0.7.pdf\" \"bal-0.8.pdf\" \"bal-0.9.pdf\" \"bal-1.0.pdf\"\n",
      "[11] \"bal-1.1.pdf\"\n"
     ]
    }
   ],
   "source": [
    "ids <- sapply(files, function(x) substring(x, 34), USE.NAMES = F)\n",
    "print(ids)\n",
    "names(list_data) <- ids"
   ]
  },
  {
   "cell_type": "code",
   "execution_count": 15,
   "id": "f7d253cc",
   "metadata": {},
   "outputs": [],
   "source": [
    "# metadata\n",
    "ncond <- 20\n",
    "batch <- as.factor(rep(1:2, each = ncond * 2))\n",
    "class <- rep(rep(LETTERS[1:2], each = ncond), 2)\n",
    "metadata <- data.frame(batch, class, row.names = colnames(list_data[[1]]))"
   ]
  },
  {
   "cell_type": "code",
   "execution_count": 16,
   "id": "15eb72ed",
   "metadata": {},
   "outputs": [
    {
     "name": "stdout",
     "output_type": "stream",
     "text": [
      " [1] \"bal-0.pdf\"   \"bal-0.2.pdf\" \"bal-0.3.pdf\" \"bal-0.4.pdf\" \"bal-0.5.pdf\"\n",
      " [6] \"bal-0.6.pdf\" \"bal-0.7.pdf\" \"bal-0.8.pdf\" \"bal-0.9.pdf\" \"bal-1.0.pdf\"\n",
      "[11] \"bal-1.1.pdf\"\n"
     ]
    }
   ],
   "source": [
    "print(names(list_data))\n",
    "X <- list_data[[2]]"
   ]
  },
  {
   "cell_type": "markdown",
   "id": "06463e1e",
   "metadata": {},
   "source": [
    "### PCA"
   ]
  },
  {
   "cell_type": "code",
   "execution_count": 161,
   "id": "8efbe208",
   "metadata": {
    "scrolled": true
   },
   "outputs": [
    {
     "data": {
      "image/png": "[encoded data removed]",
      "text/plain": [
       "plot without title"
      ]
     },
     "metadata": {
      "image/png": {
       "height": 420,
       "width": 420
      }
     },
     "output_type": "display_data"
    }
   ],
   "source": [
    "ax_pca <- ggplot_pca(simdata$X, simdata$metadata, col = 'batch', pch = 'class')"
   ]
  },
  {
   "cell_type": "markdown",
   "id": "c882dc07",
   "metadata": {},
   "source": [
    "### Feature"
   ]
  },
  {
   "cell_type": "code",
   "execution_count": 127,
   "id": "d20002bd",
   "metadata": {},
   "outputs": [],
   "source": [
    "npercond <- c(10, 30, 30, 10)\n",
    "crosstab <- matrix(npercond, 2, 2)\n",
    "delta <- 2\n",
    "simdata <- simulate_microarray(\n",
    "  8000, sum(npercond), crosstab,\n",
    "  delta = delta, gamma = 0.5,\n",
    "  phi = 0.1, zeta = 1.5,\n",
    "  dropout = FALSE\n",
    ")"
   ]
  },
  {
   "cell_type": "code",
   "execution_count": 128,
   "id": "03c1c1dd",
   "metadata": {},
   "outputs": [],
   "source": [
    "Z <- list_data[[1]]\n",
    "alpha <- list_data[[2]] - Z"
   ]
  },
  {
   "cell_type": "code",
   "execution_count": 129,
   "id": "08bde8d3",
   "metadata": {},
   "outputs": [],
   "source": [
    "i <- 0"
   ]
  },
  {
   "cell_type": "code",
   "execution_count": 134,
   "id": "0a758ffa",
   "metadata": {
    "scrolled": true
   },
   "outputs": [
    {
     "name": "stderr",
     "output_type": "stream",
     "text": [
      "Warning message:\n",
      "“\u001b[1m\u001b[22mRemoved 80 rows containing missing values (`geom_point()`).”\n"
     ]
    },
    {
     "data": {
      "image/png": "[encoded data removed]",
      "text/plain": [
       "plot without title"
      ]
     },
     "metadata": {
      "image/png": {
       "height": 420,
       "width": 420
      }
     },
     "output_type": "display_data"
    }
   ],
   "source": [
    "i <- i + 1\n",
    "feature <- data.frame(\n",
    "  value = as.vector(data.matrix(simdata$alpha[i, ])),\n",
    "  batch = metadata$batch,\n",
    "  class = metadata$class\n",
    ")\n",
    "\n",
    "ggplot(feature) +\n",
    "  geom_point(\n",
    "    aes(x = batch, y = value, pch = class, col = batch),\n",
    "    position = position_jitterdodge(jitter.width = .5),\n",
    "    show.legend = FALSE\n",
    "  ) +\n",
    "  ylim(0, 20)"
   ]
  },
  {
   "cell_type": "markdown",
   "id": "f11bc269",
   "metadata": {},
   "source": [
    "#### Histogram"
   ]
  },
  {
   "cell_type": "code",
   "execution_count": 196,
   "id": "2046c56d",
   "metadata": {
    "scrolled": false
   },
   "outputs": [
    {
     "data": {
      "image/png": "[encoded data removed]",
      "text/plain": [
       "Plot with title “Histogram of simdata$X[, 1]”"
      ]
     },
     "metadata": {
      "image/png": {
       "height": 420,
       "width": 420
      }
     },
     "output_type": "display_data"
    }
   ],
   "source": [
    "hist(simdata$X[, 1])"
   ]
  },
  {
   "cell_type": "markdown",
   "id": "6f80da16",
   "metadata": {},
   "source": [
    "#### Simulation distributions"
   ]
  },
  {
   "cell_type": "code",
   "execution_count": 174,
   "id": "3b7fa992",
   "metadata": {
    "scrolled": true
   },
   "outputs": [
    {
     "data": {
      "image/png": "[encoded data removed]",
      "text/plain": [
       "Plot with title “Histogram of simdata$log_beta[, 2]”"
      ]
     },
     "metadata": {
      "image/png": {
       "height": 420,
       "width": 420
      }
     },
     "output_type": "display_data"
    }
   ],
   "source": [
    "hist(simdata$log_beta[, 1])"
   ]
  }
 ],
 "metadata": {
  "kernelspec": {
   "display_name": "R",
   "language": "R",
   "name": "ir"
  },
  "language_info": {
   "codemirror_mode": "r",
   "file_extension": ".r",
   "mimetype": "text/x-r-source",
   "name": "R",
   "pygments_lexer": "r",
   "version": "4.2.3"
  }
 },
 "nbformat": 4,
 "nbformat_minor": 5
}

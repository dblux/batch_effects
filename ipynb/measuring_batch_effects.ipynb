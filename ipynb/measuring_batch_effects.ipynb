{
 "cells": [
  {
   "cell_type": "code",
   "execution_count": 1,
   "metadata": {
    "scrolled": true
   },
   "outputs": [
    {
     "name": "stderr",
     "output_type": "stream",
     "text": [
      "\n",
      "Attaching package: ‘dplyr’\n",
      "\n",
      "\n",
      "The following objects are masked from ‘package:stats’:\n",
      "\n",
      "    filter, lag\n",
      "\n",
      "\n",
      "The following objects are masked from ‘package:base’:\n",
      "\n",
      "    intersect, setdiff, setequal, union\n",
      "\n",
      "\n",
      "Loading required package: BiocGenerics\n",
      "\n",
      "Loading required package: parallel\n",
      "\n",
      "\n",
      "Attaching package: ‘BiocGenerics’\n",
      "\n",
      "\n",
      "The following objects are masked from ‘package:parallel’:\n",
      "\n",
      "    clusterApply, clusterApplyLB, clusterCall, clusterEvalQ,\n",
      "    clusterExport, clusterMap, parApply, parCapply, parLapply,\n",
      "    parLapplyLB, parRapply, parSapply, parSapplyLB\n",
      "\n",
      "\n",
      "The following objects are masked from ‘package:dplyr’:\n",
      "\n",
      "    combine, intersect, setdiff, union\n",
      "\n",
      "\n",
      "The following objects are masked from ‘package:stats’:\n",
      "\n",
      "    IQR, mad, sd, var, xtabs\n",
      "\n",
      "\n",
      "The following objects are masked from ‘package:base’:\n",
      "\n",
      "    anyDuplicated, append, as.data.frame, basename, cbind, colMeans,\n",
      "    colnames, colSums, dirname, do.call, duplicated, eval, evalq,\n",
      "    Filter, Find, get, grep, grepl, intersect, is.unsorted, lapply,\n",
      "    lengths, Map, mapply, match, mget, order, paste, pmax, pmax.int,\n",
      "    pmin, pmin.int, Position, rank, rbind, Reduce, rowMeans, rownames,\n",
      "    rowSums, sapply, setdiff, sort, table, tapply, union, unique,\n",
      "    unsplit, which, which.max, which.min\n",
      "\n",
      "\n",
      "Welcome to Bioconductor\n",
      "\n",
      "    Vignettes contain introductory material; view with\n",
      "    'browseVignettes()'. To cite Bioconductor, see\n",
      "    'citation(\"Biobase\")', and for packages 'citation(\"pkgname\")'.\n",
      "\n",
      "\n"
     ]
    }
   ],
   "source": [
    "library(dplyr)\n",
    "library(tibble)\n",
    "library(tidyr)\n",
    "\n",
    "library(Biobase)\n",
    "library(gPCA)\n",
    "library(pvca)\n",
    "\n",
    "library(ggplot2)\n",
    "library(cowplot)\n",
    "theme_set(theme_bw())\n",
    "\n",
    "# library(scran)\n",
    "# library(sva)\n",
    "# library(Harman)"
   ]
  },
  {
   "cell_type": "code",
   "execution_count": 2,
   "metadata": {},
   "outputs": [],
   "source": [
    "options(repr.plot.width = 6, repr.plot.height = 4)"
   ]
  },
  {
   "cell_type": "code",
   "execution_count": 21,
   "metadata": {},
   "outputs": [
    {
     "name": "stdout",
     "output_type": "stream",
     "text": [
      "Sourced file: ../../relapse_prediction/R/batch.R\n",
      "Sourced file: ../../relapse_prediction/R/calc.R\n",
      "Sourced file: ../../relapse_prediction/R/misc.R\n",
      "Sourced file: ../../relapse_prediction/R/normalise.R\n",
      "Sourced file: ../../relapse_prediction/R/plot.R\n",
      "Sourced file: ../../relapse_prediction/R/predict.R\n",
      "Sourced file: ../../relapse_prediction/R/subset.R\n",
      "Sourced file: ../../relapse_prediction/R/utils.R\n"
     ]
    }
   ],
   "source": [
    "# source files\n",
    "src_files <- list.files('../../relapse_prediction/R', full.names = TRUE)\n",
    "for (f in src_files) {\n",
    "  source(f)\n",
    "  cat(sprintf('Sourced file: %s\\n', f))\n",
    "}"
   ]
  },
  {
   "cell_type": "markdown",
   "metadata": {},
   "source": [
    "# Import data"
   ]
  },
  {
   "cell_type": "code",
   "execution_count": 4,
   "metadata": {},
   "outputs": [
    {
     "name": "stdout",
     "output_type": "stream",
     "text": [
      "AFX_1_A1 AFX_1_A2 AFX_1_A3 AFX_1_A4 AFX_1_A5 AFX_1_B1 \n",
      "6.167267 4.921776 6.064782 5.998307 5.594024 6.396092 \n",
      "[1] \"No. of ambiguous and AFFY probesets removed: 17320\"\n",
      "[1] \"No. of probesets removed = 18820\"\n"
     ]
    }
   ],
   "source": [
    "file_maqc <- \"../data/MAQC-I/processed/mas5_original-ref.tsv\"\n",
    "raw_maqc <- read.table(file_maqc, sep = \"\\t\", header = T, row.names = 1)\n",
    "\n",
    "# MAQC metadata\n",
    "# Class A - Universal Human Reference RNA (UHRR)\n",
    "# Class B - Human Brain Reference RNA (HBRR)\n",
    "batch_info <- as.factor(rep(1:6, each = 10))\n",
    "class_info <- rep(rep(LETTERS[1:2], each = 5), 6)\n",
    "metadata <- data.frame(\n",
    "  batch_info, class_info,\n",
    "  row.names = colnames(raw_maqc)\n",
    ")\n",
    "\n",
    "# SCALE->REMOVE->FILTER->LOG\n",
    "scaled_maqc <- raw_maqc %>%\n",
    "  normaliseMeanScaling()\n",
    "\n",
    "log_maqc <- scaled_maqc %>%\n",
    "  removeProbesets() %>%\n",
    "  filterProbesets(0.7, metadata) %>%\n",
    "  log2_transform()"
   ]
  },
  {
   "cell_type": "code",
   "execution_count": 33,
   "metadata": {},
   "outputs": [],
   "source": [
    "# log_nozero <- log_maqc[rowSums(log_maqc == 0) == 0, ]"
   ]
  },
  {
   "cell_type": "markdown",
   "metadata": {},
   "source": [
    "# Measuring batch effects\n",
    "- Different batch-class imbalance\n",
    "- No batch effects\n",
    "- Different magnitude of batch effects when there is batch-class imbalance\n",
    "- Measure when there is different number of features\n",
    "- Different batch sizes\n",
    "\n",
    "### Comparisons\n",
    "- gPCA delta: 0-1 (proportion of variance)\n",
    "    - Weak in quantifying small amounts of batch effects?\n",
    "    - Problems when there is no batch effects but there is class imbalance"
   ]
  },
  {
   "cell_type": "code",
   "execution_count": 5,
   "metadata": {
    "scrolled": true
   },
   "outputs": [],
   "source": [
    "# var_pct\n",
    "quantify_batch <- function(X, metadata) {\n",
    "  batch <- metadata[colnames(X), 'batch_info']\n",
    "  class <- metadata[colnames(X), \"class_info\"]\n",
    "  print(batch)\n",
    "  print(class)\n",
    "\n",
    "  batchpct_v1 <- calc_var_pct(X, batch)\n",
    "  batchpct <- calc_var_pct(X, batch, class, ret.obj = T)\n",
    "  rounded_pcts <- sapply(batchpct$pi_classes, round, digits = 4)\n",
    "  pct_classes <- do.call(paste, as.list(c(rounded_pcts, sep = '; ')))\n",
    "  batch_dists <- calc_batch_dist(X, metadata)\n",
    "  gpca <- gPCA.batchdetect(t(X), batch)\n",
    "  \n",
    "  list(\n",
    "    pct_v1 = batchpct_v1,\n",
    "    pct_v2 = pct_classes,\n",
    "    pct_v3 = batchpct$pi_total,\n",
    "    batch_dist = sum(batch_dists),\n",
    "    gpca_delta = gpca$delta,\n",
    "    gpca_pvalue = gpca$p.val\n",
    "  )\n",
    "}"
   ]
  },
  {
   "cell_type": "code",
   "execution_count": 1007,
   "metadata": {},
   "outputs": [],
   "source": [
    "# subsetting maqc\n",
    "maqc_bal <- log_maqc[, c(1:4, 6:9, 11:14, 16:19)]\n",
    "maqc_imbal <- log_maqc[, c(1:3, 6:10, 11:15, 16:18)]\n",
    "maqc_fakebatch <- log_maqc[, c(1:4, 6:9)]"
   ]
  },
  {
   "cell_type": "code",
   "execution_count": 1010,
   "metadata": {},
   "outputs": [
    {
     "data": {
      "text/html": [
       "<style>\n",
       ".list-inline {list-style: none; margin:0; padding: 0}\n",
       ".list-inline>li {display: inline-block}\n",
       ".list-inline>li:not(:last-child)::after {content: \"\\00b7\"; padding: 0 .5ex}\n",
       "</style>\n",
       "<ol class=list-inline><li>'AFX_1_A1'</li><li>'AFX_1_A2'</li><li>'AFX_1_A3'</li><li>'AFX_1_A4'</li><li>'AFX_1_B1'</li><li>'AFX_1_B2'</li><li>'AFX_1_B3'</li><li>'AFX_1_B4'</li></ol>\n"
      ],
      "text/latex": [
       "\\begin{enumerate*}\n",
       "\\item 'AFX\\_1\\_A1'\n",
       "\\item 'AFX\\_1\\_A2'\n",
       "\\item 'AFX\\_1\\_A3'\n",
       "\\item 'AFX\\_1\\_A4'\n",
       "\\item 'AFX\\_1\\_B1'\n",
       "\\item 'AFX\\_1\\_B2'\n",
       "\\item 'AFX\\_1\\_B3'\n",
       "\\item 'AFX\\_1\\_B4'\n",
       "\\end{enumerate*}\n"
      ],
      "text/markdown": [
       "1. 'AFX_1_A1'\n",
       "2. 'AFX_1_A2'\n",
       "3. 'AFX_1_A3'\n",
       "4. 'AFX_1_A4'\n",
       "5. 'AFX_1_B1'\n",
       "6. 'AFX_1_B2'\n",
       "7. 'AFX_1_B3'\n",
       "8. 'AFX_1_B4'\n",
       "\n",
       "\n"
      ],
      "text/plain": [
       "[1] \"AFX_1_A1\" \"AFX_1_A2\" \"AFX_1_A3\" \"AFX_1_A4\" \"AFX_1_B1\" \"AFX_1_B2\" \"AFX_1_B3\"\n",
       "[8] \"AFX_1_B4\""
      ]
     },
     "metadata": {},
     "output_type": "display_data"
    }
   ],
   "source": [
    "colnames(maqc_fakebatch)"
   ]
  },
  {
   "cell_type": "code",
   "execution_count": 152,
   "metadata": {},
   "outputs": [],
   "source": [
    "fake_metadata <- metadata[colnames(maqc_fakebatch), ]"
   ]
  },
  {
   "cell_type": "code",
   "execution_count": 161,
   "metadata": {
    "scrolled": true
   },
   "outputs": [
    {
     "data": {
      "text/html": [
       "<table>\n",
       "<caption>A data.frame: 8 × 2</caption>\n",
       "<thead>\n",
       "\t<tr><th></th><th scope=col>batch_info</th><th scope=col>class_info</th></tr>\n",
       "\t<tr><th></th><th scope=col>&lt;fct&gt;</th><th scope=col>&lt;fct&gt;</th></tr>\n",
       "</thead>\n",
       "<tbody>\n",
       "\t<tr><th scope=row>AFX_1_A1</th><td>1</td><td>A</td></tr>\n",
       "\t<tr><th scope=row>AFX_1_A2</th><td>1</td><td>A</td></tr>\n",
       "\t<tr><th scope=row>AFX_1_A3</th><td>2</td><td>A</td></tr>\n",
       "\t<tr><th scope=row>AFX_1_A4</th><td>2</td><td>A</td></tr>\n",
       "\t<tr><th scope=row>AFX_1_B1</th><td>1</td><td>B</td></tr>\n",
       "\t<tr><th scope=row>AFX_1_B2</th><td>1</td><td>B</td></tr>\n",
       "\t<tr><th scope=row>AFX_1_B3</th><td>2</td><td>B</td></tr>\n",
       "\t<tr><th scope=row>AFX_1_B4</th><td>2</td><td>B</td></tr>\n",
       "</tbody>\n",
       "</table>\n"
      ],
      "text/latex": [
       "A data.frame: 8 × 2\n",
       "\\begin{tabular}{r|ll}\n",
       "  & batch\\_info & class\\_info\\\\\n",
       "  & <fct> & <fct>\\\\\n",
       "\\hline\n",
       "\tAFX\\_1\\_A1 & 1 & A\\\\\n",
       "\tAFX\\_1\\_A2 & 1 & A\\\\\n",
       "\tAFX\\_1\\_A3 & 2 & A\\\\\n",
       "\tAFX\\_1\\_A4 & 2 & A\\\\\n",
       "\tAFX\\_1\\_B1 & 1 & B\\\\\n",
       "\tAFX\\_1\\_B2 & 1 & B\\\\\n",
       "\tAFX\\_1\\_B3 & 2 & B\\\\\n",
       "\tAFX\\_1\\_B4 & 2 & B\\\\\n",
       "\\end{tabular}\n"
      ],
      "text/markdown": [
       "\n",
       "A data.frame: 8 × 2\n",
       "\n",
       "| <!--/--> | batch_info &lt;fct&gt; | class_info &lt;fct&gt; |\n",
       "|---|---|---|\n",
       "| AFX_1_A1 | 1 | A |\n",
       "| AFX_1_A2 | 1 | A |\n",
       "| AFX_1_A3 | 2 | A |\n",
       "| AFX_1_A4 | 2 | A |\n",
       "| AFX_1_B1 | 1 | B |\n",
       "| AFX_1_B2 | 1 | B |\n",
       "| AFX_1_B3 | 2 | B |\n",
       "| AFX_1_B4 | 2 | B |\n",
       "\n"
      ],
      "text/plain": [
       "         batch_info class_info\n",
       "AFX_1_A1 1          A         \n",
       "AFX_1_A2 1          A         \n",
       "AFX_1_A3 2          A         \n",
       "AFX_1_A4 2          A         \n",
       "AFX_1_B1 1          B         \n",
       "AFX_1_B2 1          B         \n",
       "AFX_1_B3 2          B         \n",
       "AFX_1_B4 2          B         "
      ]
     },
     "metadata": {},
     "output_type": "display_data"
    }
   ],
   "source": [
    "fake_metadata[3, 1] <- 2\n",
    "fake_metadata[6, 1] <- 1"
   ]
  },
  {
   "cell_type": "code",
   "execution_count": 156,
   "metadata": {
    "scrolled": true
   },
   "outputs": [
    {
     "name": "stdout",
     "output_type": "stream",
     "text": [
      "[1] 1 1 1 2 1 2 2 2\n",
      "Levels: 1 2 3 4 5 6\n",
      "[1] A A A A B B B B\n",
      "Levels: A B\n",
      "Split into classes: A B\n"
     ]
    },
    {
     "data": {
      "text/html": [
       "<dl>\n",
       "\t<dt>$pct_v1</dt>\n",
       "\t\t<dd>0.215869480855456</dd>\n",
       "\t<dt>$pct_v2</dt>\n",
       "\t\t<dd>'0.3273; 0.3258'</dd>\n",
       "\t<dt>$pct_v3</dt>\n",
       "\t\t<dd>0.0863979782319586</dd>\n",
       "\t<dt>$batch_dist</dt>\n",
       "\t\t<dd>59785.3162292602</dd>\n",
       "\t<dt>$gpca_delta</dt>\n",
       "\t\t<dd>0.858220013864456</dd>\n",
       "\t<dt>$gpca_pvalue</dt>\n",
       "\t\t<dd>0.206</dd>\n",
       "</dl>\n"
      ],
      "text/latex": [
       "\\begin{description}\n",
       "\\item[\\$pct\\_v1] 0.215869480855456\n",
       "\\item[\\$pct\\_v2] '0.3273; 0.3258'\n",
       "\\item[\\$pct\\_v3] 0.0863979782319586\n",
       "\\item[\\$batch\\_dist] 59785.3162292602\n",
       "\\item[\\$gpca\\_delta] 0.858220013864456\n",
       "\\item[\\$gpca\\_pvalue] 0.206\n",
       "\\end{description}\n"
      ],
      "text/markdown": [
       "$pct_v1\n",
       ":   0.215869480855456\n",
       "$pct_v2\n",
       ":   '0.3273; 0.3258'\n",
       "$pct_v3\n",
       ":   0.0863979782319586\n",
       "$batch_dist\n",
       ":   59785.3162292602\n",
       "$gpca_delta\n",
       ":   0.858220013864456\n",
       "$gpca_pvalue\n",
       ":   0.206\n",
       "\n",
       "\n"
      ],
      "text/plain": [
       "$pct_v1\n",
       "[1] 0.2158695\n",
       "\n",
       "$pct_v2\n",
       "[1] \"0.3273; 0.3258\"\n",
       "\n",
       "$pct_v3\n",
       "[1] 0.08639798\n",
       "\n",
       "$batch_dist\n",
       "[1] 59785.32\n",
       "\n",
       "$gpca_delta\n",
       "[1] 0.85822\n",
       "\n",
       "$gpca_pvalue\n",
       "[1] 0.206\n"
      ]
     },
     "metadata": {},
     "output_type": "display_data"
    }
   ],
   "source": [
    "quantify_batch(maqc_fakebatch, fake_metadata)"
   ]
  },
  {
   "cell_type": "markdown",
   "metadata": {},
   "source": [
    "#### PVCA"
   ]
  },
  {
   "cell_type": "code",
   "execution_count": 177,
   "metadata": {},
   "outputs": [],
   "source": [
    "# create expressionset from biobase package\n",
    "meta_metadata <- data.frame(labelDescription = colnames(metadata))\n",
    "pheno_data <- new(\"AnnotatedDataFrame\", data = metadata, varMetadata = meta_metadata)\n",
    "maqc_eset <- ExpressionSet(assayData = as.matrix(log_maqc), phenoData = pheno_data)"
   ]
  },
  {
   "cell_type": "code",
   "execution_count": 178,
   "metadata": {},
   "outputs": [],
   "source": [
    "eset <- maqc_eset[, c(1:4, 6:9, 11:14, 16:19)]"
   ]
  },
  {
   "cell_type": "code",
   "execution_count": 172,
   "metadata": {},
   "outputs": [
    {
     "name": "stdout",
     "output_type": "stream",
     "text": [
      "         batch_info class_info\n",
      "AFX_1_A1          1          A\n",
      "AFX_1_A2          1          A\n",
      "AFX_1_A3          2          A\n",
      "AFX_1_A4          2          A\n",
      "AFX_1_B1          1          B\n",
      "AFX_1_B2          1          B\n",
      "AFX_1_B3          2          B\n",
      "AFX_1_B4          2          B\n"
     ]
    }
   ],
   "source": [
    "# create expressionset from biobase package\n",
    "print(fake_metadata)\n",
    "fake_pheno_data <- new(\"AnnotatedDataFrame\", data = fake_metadata, varMetadata = meta_metadata)\n",
    "fakebatch_eset <- ExpressionSet(assayData = as.matrix(maqc_fakebatch), phenoData = fake_pheno_data)"
   ]
  },
  {
   "cell_type": "code",
   "execution_count": 191,
   "metadata": {
    "scrolled": true
   },
   "outputs": [
    {
     "name": "stderr",
     "output_type": "stream",
     "text": [
      "singular fit\n",
      "singular fit\n",
      "singular fit\n"
     ]
    },
    {
     "name": "stdout",
     "output_type": "stream",
     "text": [
      "[1] \"batch_info:class_info\" \"class_info\"            \"batch_info\"           \n",
      "[4] \"resid\"                \n"
     ]
    },
    {
     "data": {
      "text/html": [
       "'0.0492; 0.8484; 0.1012; 0.0012'"
      ],
      "text/latex": [
       "'0.0492; 0.8484; 0.1012; 0.0012'"
      ],
      "text/markdown": [
       "'0.0492; 0.8484; 0.1012; 0.0012'"
      ],
      "text/plain": [
       "[1] \"0.0492; 0.8484; 0.1012; 0.0012\""
      ]
     },
     "metadata": {},
     "output_type": "display_data"
    }
   ],
   "source": [
    "pvca_obj <- pvcaBatchAssess(eset, c('batch_info', 'class_info'), 0.6)\n",
    "var_prop <- as.vector(pvca_obj$dat)\n",
    "factors <- as.vector(pvca_obj$label)\n",
    "print(factors)\n",
    "rounded_prop <- sapply(var_prop, round, digits = 4)\n",
    "do.call(paste, as.list(c(rounded_prop, sep = '; ')))"
   ]
  },
  {
   "cell_type": "markdown",
   "metadata": {},
   "source": [
    "## Ma-Spore ALL"
   ]
  },
  {
   "cell_type": "code",
   "execution_count": 7,
   "metadata": {},
   "outputs": [],
   "source": [
    "# Metadata\n",
    "METADATA_SID <- \"../../relapse_prediction/data/GSE67684/processed/metadata/sid-metadata_v2.tsv\"\n",
    "METADATA_PID <- \"../../relapse_prediction/data/GSE67684/processed/metadata/pid-metadata_v7.tsv\"\n",
    "metadata_sid <- read.table(METADATA_SID, sep = \"\\t\")\n",
    "metadata_pid <- read.table(METADATA_PID, sep = \"\\t\", row.names = 1, quote = '\"')\n",
    "\n",
    "## Data\n",
    "# Removed outliers, patients with timepoints from different batches and batch 5\n",
    "SUBSET_RPATH <- \"../../relapse_prediction/data/GSE67684/processed/subset_yeoh.tsv\"\n",
    "raw_yeoh <- read.table(SUBSET_RPATH, sep = \"\\t\")"
   ]
  },
  {
   "cell_type": "code",
   "execution_count": 8,
   "metadata": {},
   "outputs": [
    {
     "name": "stdout",
     "output_type": "stream",
     "text": [
      "  P001_D0   P004_D0   P005_D0   P007_D0   P008_D0   P009_D0 \n",
      " 5.796952  4.123342  3.981577  6.317643  4.841458 11.978124 \n",
      "[1] \"No. of ambiguous and AFFY probesets removed: 10503\"\n",
      "[1] \"No. of probesets removed = 6321\"\n"
     ]
    }
   ],
   "source": [
    "# Metadata\n",
    "metadata_sid$label <- as.factor(metadata_sid$label)\n",
    "levels(metadata_sid$label) <- c('Remission', 'Relapse')\n",
    "metadata_sid$batch_info <- as.factor(metadata_sid$batch_info) \n",
    "metadata_pid$label <- as.factor(metadata_pid$label)\n",
    "levels(metadata_pid$label) <- c('Remission', 'Relapse')\n",
    "\n",
    "# SCALE->REMOVE->FILTER->LOG\n",
    "scaled_yeoh <- normaliseMeanScaling(raw_yeoh)\n",
    "selected_yeoh <- removeProbesets(scaled_yeoh)\n",
    "yeoh <- log2_transform(filterProbesets(selected_yeoh, 0.7, metadata_sid))\n",
    "\n",
    "# All features\n",
    "yeoh_allps <- log2_transform(scaled_yeoh)\n",
    "yeoh_unfltr <- log2_transform(selected_yeoh)"
   ]
  },
  {
   "cell_type": "code",
   "execution_count": 15,
   "metadata": {},
   "outputs": [],
   "source": [
    "metadata_telaml1 <- subset(\n",
    "  metadata_sid,\n",
    "  subtype == 'TEL-AML1' &\n",
    "  label == 'Remission' &\n",
    "  batch_info %in% c(2, 9)\n",
    ")"
   ]
  },
  {
   "cell_type": "code",
   "execution_count": 31,
   "metadata": {},
   "outputs": [],
   "source": [
    "bal_sids <- get_sid(c(\n",
    "  'P022', 'P023', 'P024', 'P025',\n",
    "  'P099', 'P106', 'P120', 'P121'\n",
    "))\n",
    "imbal_sids <- c(\n",
    "  'P022_D0', 'P023_D0', 'P024_D0', 'P025_D0', 'P026_D0', 'P022_D8', 'P023_D8', 'P024_D8',\n",
    "  'P099_D0', 'P106_D0', 'P120_D0', 'P099_D8', 'P106_D8', 'P120_D8', 'P121_D8', 'P127_D8'\n",
    ")"
   ]
  },
  {
   "cell_type": "code",
   "execution_count": 33,
   "metadata": {},
   "outputs": [],
   "source": [
    "yeoh_bal <- yeoh[, bal_sids]\n",
    "yeoh_imbal <- yeoh[, imbal_sids]"
   ]
  },
  {
   "cell_type": "code",
   "execution_count": 46,
   "metadata": {},
   "outputs": [],
   "source": [
    "fakebatch_sids <- get_sid(c(\n",
    "  'P022', 'P023', 'P024', 'P025',\n",
    "  'P026', 'P027', 'P035', 'P036'\n",
    "))\n",
    "yeoh_fakebatch <- yeoh[, fakebatch_sids]"
   ]
  },
  {
   "cell_type": "code",
   "execution_count": 47,
   "metadata": {},
   "outputs": [],
   "source": [
    "fake_metadata <- metadata_sid[fakebatch_sids, ]\n",
    "fake_metadata1 <- fake_metadata\n",
    "fake_metadata2 <- fake_metadata\n",
    "fake_metadata1[c(1:4, 9:12), 1] <- 1\n",
    "fake_metadata2[c(1:6, 11:16), 1] <- 1"
   ]
  },
  {
   "cell_type": "code",
   "execution_count": 50,
   "metadata": {},
   "outputs": [
    {
     "name": "stdout",
     "output_type": "stream",
     "text": [
      " [1] 2 2 2 2 9 9 9 9 2 2 2 2 9 9 9 9\n",
      "Levels: 1 2 3 4 5 6 7 8 9 10\n",
      " [1] D0 D0 D0 D0 D0 D0 D0 D0 D8 D8 D8 D8 D8 D8 D8 D8\n",
      "Levels: D0 D8 N\n",
      "Split into classes: D0 D8\n"
     ]
    }
   ],
   "source": [
    "metrics1 <- quantify_batch(yeoh_bal, metadata_sid)"
   ]
  },
  {
   "cell_type": "code",
   "execution_count": 51,
   "metadata": {},
   "outputs": [
    {
     "name": "stdout",
     "output_type": "stream",
     "text": [
      " [1] 2 2 2 2 2 2 2 2 9 9 9 9 9 9 9 9\n",
      "Levels: 1 2 3 4 5 6 7 8 9 10\n",
      " [1] D0 D0 D0 D0 D0 D8 D8 D8 D0 D0 D0 D8 D8 D8 D8 D8\n",
      "Levels: D0 D8 N\n",
      "Split into classes: D0 D8\n"
     ]
    }
   ],
   "source": [
    "metrics2 <- quantify_batch(yeoh_imbal, metadata_sid)"
   ]
  },
  {
   "cell_type": "code",
   "execution_count": 53,
   "metadata": {},
   "outputs": [
    {
     "name": "stdout",
     "output_type": "stream",
     "text": [
      " [1] 1 1 1 1 2 2 2 2 1 1 1 1 2 2 2 2\n",
      "Levels: 1 2 3 4 5 6 7 8 9 10\n",
      " [1] D0 D0 D0 D0 D0 D0 D0 D0 D8 D8 D8 D8 D8 D8 D8 D8\n",
      "Levels: D0 D8 N\n",
      "Split into classes: D0 D8\n"
     ]
    }
   ],
   "source": [
    "metrics3 <- quantify_batch(yeoh_fakebatch, fake_metadata1)"
   ]
  },
  {
   "cell_type": "code",
   "execution_count": 54,
   "metadata": {},
   "outputs": [
    {
     "name": "stdout",
     "output_type": "stream",
     "text": [
      " [1] 1 1 1 1 1 1 2 2 2 2 1 1 1 1 1 1\n",
      "Levels: 1 2 3 4 5 6 7 8 9 10\n",
      " [1] D0 D0 D0 D0 D0 D0 D0 D0 D8 D8 D8 D8 D8 D8 D8 D8\n",
      "Levels: D0 D8 N\n",
      "Split into classes: D0 D8\n"
     ]
    }
   ],
   "source": [
    "metrics4 <- quantify_batch(yeoh_fakebatch, fake_metadata2)"
   ]
  },
  {
   "cell_type": "code",
   "execution_count": 68,
   "metadata": {
    "scrolled": true
   },
   "outputs": [
    {
     "data": {
      "text/html": [
       "<dl>\n",
       "\t<dt>$pct_v1</dt>\n",
       "\t\t<dd>0.0817559957197182</dd>\n",
       "\t<dt>$pct_v2</dt>\n",
       "\t\t<dd>'0.1567; 0.1732'</dd>\n",
       "\t<dt>$pct_v3</dt>\n",
       "\t\t<dd>0.141621575232193</dd>\n",
       "\t<dt>$batch_dist</dt>\n",
       "\t\t<dd>23122.4091529366</dd>\n",
       "\t<dt>$gpca_delta</dt>\n",
       "\t\t<dd>0.54512588149156</dd>\n",
       "\t<dt>$gpca_pvalue</dt>\n",
       "\t\t<dd>0.19</dd>\n",
       "</dl>\n"
      ],
      "text/latex": [
       "\\begin{description}\n",
       "\\item[\\$pct\\_v1] 0.0817559957197182\n",
       "\\item[\\$pct\\_v2] '0.1567; 0.1732'\n",
       "\\item[\\$pct\\_v3] 0.141621575232193\n",
       "\\item[\\$batch\\_dist] 23122.4091529366\n",
       "\\item[\\$gpca\\_delta] 0.54512588149156\n",
       "\\item[\\$gpca\\_pvalue] 0.19\n",
       "\\end{description}\n"
      ],
      "text/markdown": [
       "$pct_v1\n",
       ":   0.0817559957197182\n",
       "$pct_v2\n",
       ":   '0.1567; 0.1732'\n",
       "$pct_v3\n",
       ":   0.141621575232193\n",
       "$batch_dist\n",
       ":   23122.4091529366\n",
       "$gpca_delta\n",
       ":   0.54512588149156\n",
       "$gpca_pvalue\n",
       ":   0.19\n",
       "\n",
       "\n"
      ],
      "text/plain": [
       "$pct_v1\n",
       "[1] 0.081756\n",
       "\n",
       "$pct_v2\n",
       "[1] \"0.1567; 0.1732\"\n",
       "\n",
       "$pct_v3\n",
       "[1] 0.1416216\n",
       "\n",
       "$batch_dist\n",
       "[1] 23122.41\n",
       "\n",
       "$gpca_delta\n",
       "[1] 0.5451259\n",
       "\n",
       "$gpca_pvalue\n",
       "[1] 0.19\n"
      ]
     },
     "metadata": {},
     "output_type": "display_data"
    }
   ],
   "source": [
    "metrics4"
   ]
  },
  {
   "cell_type": "markdown",
   "metadata": {},
   "source": [
    "# PVCA"
   ]
  },
  {
   "cell_type": "code",
   "execution_count": 58,
   "metadata": {},
   "outputs": [],
   "source": [
    "metadata_yeoh <- metadata_sid[colnames(yeoh), ]"
   ]
  },
  {
   "cell_type": "code",
   "execution_count": 59,
   "metadata": {},
   "outputs": [],
   "source": [
    "# create expressionset from biobase package\n",
    "meta_metadata <- data.frame(labelDescription = colnames(metadata_sid))\n",
    "pheno_data <- new(\"AnnotatedDataFrame\", data = metadata_yeoh, varMetadata = meta_metadata)\n",
    "yeoh_eset <- ExpressionSet(assayData = as.matrix(yeoh), phenoData = pheno_data)"
   ]
  },
  {
   "cell_type": "code",
   "execution_count": 69,
   "metadata": {},
   "outputs": [],
   "source": [
    "# TODO\n",
    "eset <- yeoh_eset[, imbal_sids]"
   ]
  },
  {
   "cell_type": "code",
   "execution_count": 70,
   "metadata": {},
   "outputs": [
    {
     "name": "stderr",
     "output_type": "stream",
     "text": [
      "singular fit\n",
      "singular fit\n",
      "singular fit\n",
      "singular fit\n",
      "singular fit\n"
     ]
    },
    {
     "name": "stdout",
     "output_type": "stream",
     "text": [
      "[1] \"batch_info:class_info\" \"class_info\"            \"batch_info\"           \n",
      "[4] \"resid\"                \n"
     ]
    },
    {
     "data": {
      "text/html": [
       "'0.1864; 0.2284; 0.1907; 0.3944'"
      ],
      "text/latex": [
       "'0.1864; 0.2284; 0.1907; 0.3944'"
      ],
      "text/markdown": [
       "'0.1864; 0.2284; 0.1907; 0.3944'"
      ],
      "text/plain": [
       "[1] \"0.1864; 0.2284; 0.1907; 0.3944\""
      ]
     },
     "metadata": {},
     "output_type": "display_data"
    }
   ],
   "source": [
    "pvca_obj <- pvcaBatchAssess(eset, c('batch_info', 'class_info'), 0.6)\n",
    "var_prop <- as.vector(pvca_obj$dat)\n",
    "factors <- as.vector(pvca_obj$label)\n",
    "print(factors)\n",
    "rounded_prop <- sapply(var_prop, round, digits = 4)\n",
    "do.call(paste, as.list(c(rounded_prop, sep = '; ')))"
   ]
  },
  {
   "cell_type": "code",
   "execution_count": 75,
   "metadata": {
    "scrolled": true
   },
   "outputs": [
    {
     "name": "stdout",
     "output_type": "stream",
     "text": [
      "        batch_info class_info  subtype     label\n",
      "P022_D0          1         D0 TEL-AML1 Remission\n",
      "P023_D0          1         D0 TEL-AML1 Remission\n",
      "P024_D0          1         D0 TEL-AML1 Remission\n",
      "P025_D0          1         D0 TEL-AML1 Remission\n",
      "P026_D0          1         D0 TEL-AML1 Remission\n",
      "P027_D0          1         D0 TEL-AML1 Remission\n",
      "P035_D0          2         D0 TEL-AML1 Remission\n",
      "P036_D0          2         D0 TEL-AML1 Remission\n",
      "P022_D8          2         D8 TEL-AML1 Remission\n",
      "P023_D8          2         D8 TEL-AML1 Remission\n",
      "P024_D8          1         D8 TEL-AML1 Remission\n",
      "P025_D8          1         D8 TEL-AML1 Remission\n",
      "P026_D8          1         D8 TEL-AML1 Remission\n",
      "P027_D8          1         D8 TEL-AML1 Remission\n",
      "P035_D8          1         D8 TEL-AML1 Remission\n",
      "P036_D8          1         D8 TEL-AML1 Remission\n"
     ]
    }
   ],
   "source": [
    "# create expressionset from biobase package\n",
    "print(fake_metadata2)\n",
    "fake_pheno_data <- new(\"AnnotatedDataFrame\", data = fake_metadata2, varMetadata = meta_metadata)\n",
    "fakebatch_eset <- ExpressionSet(assayData = as.matrix(yeoh_fakebatch), phenoData = fake_pheno_data)"
   ]
  },
  {
   "cell_type": "code",
   "execution_count": 76,
   "metadata": {},
   "outputs": [
    {
     "name": "stderr",
     "output_type": "stream",
     "text": [
      "singular fit\n",
      "singular fit\n",
      "singular fit\n",
      "singular fit\n",
      "singular fit\n",
      "singular fit\n"
     ]
    },
    {
     "name": "stdout",
     "output_type": "stream",
     "text": [
      "[1] \"batch_info:class_info\" \"class_info\"            \"batch_info\"           \n",
      "[4] \"resid\"                \n"
     ]
    },
    {
     "data": {
      "text/html": [
       "'0.0783; 0.2255; 0.0738; 0.6225'"
      ],
      "text/latex": [
       "'0.0783; 0.2255; 0.0738; 0.6225'"
      ],
      "text/markdown": [
       "'0.0783; 0.2255; 0.0738; 0.6225'"
      ],
      "text/plain": [
       "[1] \"0.0783; 0.2255; 0.0738; 0.6225\""
      ]
     },
     "metadata": {},
     "output_type": "display_data"
    }
   ],
   "source": [
    "pvca_obj <- pvcaBatchAssess(fakebatch_eset, c('batch_info', 'class_info'), 0.6)\n",
    "var_prop <- as.vector(pvca_obj$dat)\n",
    "factors <- as.vector(pvca_obj$label)\n",
    "print(factors)\n",
    "rounded_prop <- sapply(var_prop, round, digits = 4)\n",
    "do.call(paste, as.list(c(rounded_prop, sep = '; ')))"
   ]
  },
  {
   "cell_type": "code",
   "execution_count": 61,
   "metadata": {
    "scrolled": true
   },
   "outputs": [],
   "source": [
    "# table(metadata_sid[colnames(yeoh_imbal), c('batch_info', 'class_info')])"
   ]
  },
  {
   "cell_type": "markdown",
   "metadata": {},
   "source": [
    "# Westlake"
   ]
  },
  {
   "cell_type": "code",
   "execution_count": 112,
   "metadata": {},
   "outputs": [],
   "source": [
    "# # regenerate fake batch data\n",
    "# file1 <- \"../data/westlake-A549_K562/processed/balanced.csv\"\n",
    "# data <- read.table(file1, sep = \",\", header = T, row.names = 1)\n",
    "\n",
    "# file2 <- \"../data/westlake-A549_K562/processed/metadata/fake_batch-balanced.csv\"\n",
    "# metadata <- read.table(file2, sep = \",\", header = T, row.names = 1)\n",
    "\n",
    "# fake_batch <- data[, rownames(metadata)]\n",
    "# file3 <- \"../data/westlake-A549_K562/processed/fake_batch.csv\"\n",
    "# write.csv(fake_batch, file3, quote = F)"
   ]
  },
  {
   "cell_type": "code",
   "execution_count": 120,
   "metadata": {},
   "outputs": [],
   "source": [
    "file1 <- \"../data/westlake-A549_K562/processed/fake_batch.csv\"\n",
    "file2 <- \"../data/westlake-A549_K562/processed/metadata/fake_batch-severe.csv\"\n",
    "\n",
    "data <- read.table(file1, sep = \",\", header = T, row.names = 1)\n",
    "metadata <- read.table(file2, sep = \",\", header = T, row.names = 1)\n",
    "stopifnot(identical(colnames(data), rownames(metadata)))"
   ]
  },
  {
   "cell_type": "markdown",
   "metadata": {},
   "source": [
    "### Time benchmarking: PCA"
   ]
  },
  {
   "cell_type": "code",
   "execution_count": 166,
   "metadata": {},
   "outputs": [],
   "source": [
    "m <- 20000\n",
    "n <- 1000\n",
    "X <- matrix(rnorm(m * n), m, n)\n",
    "\n",
    "start <- Sys.time()\n",
    "obj <- prcomp(X)\n",
    "end <- Sys.time()\n",
    "print(end - start)"
   ]
  },
  {
   "cell_type": "markdown",
   "metadata": {},
   "source": [
    "## Metrics"
   ]
  },
  {
   "cell_type": "code",
   "execution_count": 157,
   "metadata": {
    "scrolled": true
   },
   "outputs": [
    {
     "name": "stdout",
     "output_type": "stream",
     "text": [
      "Split into classes: A549 K562\n",
      "[1] 0.03313766\n",
      "Time difference of 0.430649 secs\n"
     ]
    }
   ],
   "source": [
    "start <- Sys.time()\n",
    "pvb <- PVB(data, metadata$machine, metadata$class)\n",
    "end <- Sys.time()\n",
    "print(pvb)\n",
    "print(end - start)"
   ]
  },
  {
   "cell_type": "code",
   "execution_count": 147,
   "metadata": {
    "scrolled": true
   },
   "outputs": [
    {
     "name": "stdout",
     "output_type": "stream",
     "text": [
      "[1] 0.9424993\n",
      "Time difference of 0.2675877 secs\n"
     ]
    }
   ],
   "source": [
    "start <- Sys.time()\n",
    "gpca <- gPCA.batchdetect(t(data), metadata$machine, nperm = 5)\n",
    "end <- Sys.time()\n",
    "print(gpca$delta)\n",
    "print(end - start)"
   ]
  },
  {
   "cell_type": "code",
   "execution_count": 123,
   "metadata": {},
   "outputs": [],
   "source": [
    "# create expressionset from biobase package\n",
    "meta_metadata <- data.frame(labelDescription = colnames(metadata))\n",
    "pheno_data <- new(\"AnnotatedDataFrame\", data = metadata, varMetadata = meta_metadata)\n",
    "eset <- ExpressionSet(assayData = as.matrix(data), phenoData = pheno_data)"
   ]
  },
  {
   "cell_type": "code",
   "execution_count": 132,
   "metadata": {
    "scrolled": false
   },
   "outputs": [
    {
     "name": "stderr",
     "output_type": "stream",
     "text": [
      "boundary (singular) fit: see help('isSingular')\n",
      "\n",
      "boundary (singular) fit: see help('isSingular')\n",
      "\n",
      "boundary (singular) fit: see help('isSingular')\n",
      "\n"
     ]
    },
    {
     "name": "stdout",
     "output_type": "stream",
     "text": [
      "[1] \"machine:class\" \"class\"         \"machine\"       \"resid\"        \n"
     ]
    },
    {
     "data": {
      "text/html": [
       "'0.009; 0.9263; 0; 0.0646'"
      ],
      "text/latex": [
       "'0.009; 0.9263; 0; 0.0646'"
      ],
      "text/markdown": [
       "'0.009; 0.9263; 0; 0.0646'"
      ],
      "text/plain": [
       "[1] \"0.009; 0.9263; 0; 0.0646\""
      ]
     },
     "metadata": {},
     "output_type": "display_data"
    },
    {
     "name": "stdout",
     "output_type": "stream",
     "text": [
      "Time difference of 1.857537 secs\n"
     ]
    }
   ],
   "source": [
    "# selected number of PCs have to account for >= 0.6 variance\n",
    "start <- Sys.time()\n",
    "pvca_obj <- pvcaBatchAssess(eset, c('machine', 'class'), 0.6)\n",
    "end <- Sys.time()\n",
    "var_prop <- as.vector(pvca_obj$dat)\n",
    "factors <- as.vector(pvca_obj$label)\n",
    "print(factors)\n",
    "rounded_prop <- sapply(var_prop, round, digits = 4)\n",
    "do.call(paste, as.list(c(rounded_prop, sep = '; ')))\n",
    "print(end - start)"
   ]
  },
  {
   "cell_type": "markdown",
   "metadata": {},
   "source": [
    "# BatchQC"
   ]
  },
  {
   "cell_type": "markdown",
   "metadata": {},
   "source": [
    "## Balanced"
   ]
  },
  {
   "cell_type": "code",
   "execution_count": 5,
   "metadata": {},
   "outputs": [],
   "source": [
    "dir <- '../data/batchqc/raw/balanced'\n",
    "files <- list.files(dir, full.names = T)\n",
    "list_data <- lapply(files, read.table, sep = \"\\t\", header = T, row.names = 1)\n",
    "id <- sapply(\n",
    "  files,\n",
    "  function(x) substring_head(strsplit(x, '_')[[1]][2], 4),\n",
    "  USE.NAMES = FALSE\n",
    ")\n",
    "names(list_data) <- id"
   ]
  },
  {
   "cell_type": "code",
   "execution_count": 6,
   "metadata": {},
   "outputs": [],
   "source": [
    "# metadata\n",
    "ncond <- 20\n",
    "batch <- as.factor(rep(1:2, each = ncond * 2))\n",
    "class <- rep(rep(LETTERS[1:2], each = ncond), 2)\n",
    "metadata <- data.frame(batch, class, row.names = colnames(list_data[[1]]))"
   ]
  },
  {
   "cell_type": "code",
   "execution_count": 24,
   "metadata": {},
   "outputs": [],
   "source": [
    "quantify_batch <- function(X, metadata) {\n",
    "  batch <- metadata[colnames(X), 'batch']\n",
    "  class <- metadata[colnames(X), 'class']\n",
    "\n",
    "  rvp <- RVP(X, batch, class)\n",
    "  batch_dists <- calc_batch_dist(X, metadata, batch_name = 'batch', class_name = 'class')\n",
    "  gpca <- gPCA.batchdetect(t(X), batch)\n",
    "  \n",
    "  # create expressionset from biobase package\n",
    "  meta_metadata <- data.frame(labelDescription = colnames(metadata))\n",
    "  pheno_data <- new(\"AnnotatedDataFrame\", data = metadata, varMetadata = meta_metadata)\n",
    "  eset <- ExpressionSet(assayData = as.matrix(X), phenoData = pheno_data)\n",
    "  pvca_obj <- pvcaBatchAssess(eset, c('batch', 'class'), 0.6)\n",
    "  var_prop <- as.vector(pvca_obj$dat)\n",
    "  print(var_prop)\n",
    "  labels <- as.vector(pvca_obj$label)\n",
    "  names(var_prop) <- labels\n",
    "\n",
    "  c(\n",
    "    gpca = gpca$delta,\n",
    "    pvca = var_prop['batch'],\n",
    "    rvp = rvp\n",
    "  )\n",
    "}"
   ]
  },
  {
   "cell_type": "code",
   "execution_count": null,
   "metadata": {},
   "outputs": [],
   "source": [
    "# TODO: Check PVCA including interaction term?"
   ]
  },
  {
   "cell_type": "code",
   "execution_count": 23,
   "metadata": {
    "scrolled": false
   },
   "outputs": [
    {
     "name": "stdout",
     "output_type": "stream",
     "text": [
      "Split into classes: A B\n"
     ]
    },
    {
     "name": "stderr",
     "output_type": "stream",
     "text": [
      "boundary (singular) fit: see help('isSingular')\n",
      "\n",
      "boundary (singular) fit: see help('isSingular')\n",
      "\n",
      "boundary (singular) fit: see help('isSingular')\n",
      "\n"
     ]
    },
    {
     "name": "stdout",
     "output_type": "stream",
     "text": [
      "[1] 0.0000000000 0.9923575966 0.0005328856 0.0071095178\n"
     ]
    },
    {
     "data": {
      "text/html": [
       "<style>\n",
       ".dl-inline {width: auto; margin:0; padding: 0}\n",
       ".dl-inline>dt, .dl-inline>dd {float: none; width: auto; display: inline-block}\n",
       ".dl-inline>dt::after {content: \":\\0020\"; padding-right: .5ex}\n",
       ".dl-inline>dt:not(:first-of-type) {padding-left: .5ex}\n",
       "</style><dl class=dl-inline><dt>gpca</dt><dd>0.0573128210933847</dd><dt>pvca.batch</dt><dd>0.000532885575965581</dd><dt>rvp</dt><dd>0.0204741103872991</dd></dl>\n"
      ],
      "text/latex": [
       "\\begin{description*}\n",
       "\\item[gpca] 0.0573128210933847\n",
       "\\item[pvca.batch] 0.000532885575965581\n",
       "\\item[rvp] 0.0204741103872991\n",
       "\\end{description*}\n"
      ],
      "text/markdown": [
       "gpca\n",
       ":   0.0573128210933847pvca.batch\n",
       ":   0.000532885575965581rvp\n",
       ":   0.0204741103872991\n",
       "\n"
      ],
      "text/plain": [
       "        gpca   pvca.batch          rvp \n",
       "0.0573128211 0.0005328856 0.0204741104 "
      ]
     },
     "metadata": {},
     "output_type": "display_data"
    }
   ],
   "source": [
    "quantify_batch(list_data[[1]], metadata)"
   ]
  },
  {
   "cell_type": "code",
   "execution_count": 25,
   "metadata": {
    "scrolled": true
   },
   "outputs": [
    {
     "name": "stdout",
     "output_type": "stream",
     "text": [
      "Split into classes: A B\n"
     ]
    },
    {
     "name": "stderr",
     "output_type": "stream",
     "text": [
      "boundary (singular) fit: see help('isSingular')\n",
      "\n",
      "boundary (singular) fit: see help('isSingular')\n",
      "\n",
      "boundary (singular) fit: see help('isSingular')\n",
      "\n"
     ]
    },
    {
     "name": "stdout",
     "output_type": "stream",
     "text": [
      "[1] 0.0000000000 0.9923575966 0.0005328856 0.0071095178\n",
      "Split into classes: A B\n"
     ]
    },
    {
     "name": "stderr",
     "output_type": "stream",
     "text": [
      "boundary (singular) fit: see help('isSingular')\n",
      "\n",
      "boundary (singular) fit: see help('isSingular')\n",
      "\n"
     ]
    },
    {
     "name": "stdout",
     "output_type": "stream",
     "text": [
      "[1] 6.045771e-05 9.894946e-01 4.981169e-04 9.946846e-03\n",
      "Split into classes: A B\n"
     ]
    },
    {
     "name": "stderr",
     "output_type": "stream",
     "text": [
      "boundary (singular) fit: see help('isSingular')\n",
      "\n",
      "boundary (singular) fit: see help('isSingular')\n",
      "\n",
      "boundary (singular) fit: see help('isSingular')\n",
      "\n",
      "boundary (singular) fit: see help('isSingular')\n",
      "\n",
      "boundary (singular) fit: see help('isSingular')\n",
      "\n",
      "boundary (singular) fit: see help('isSingular')\n",
      "\n"
     ]
    },
    {
     "name": "stdout",
     "output_type": "stream",
     "text": [
      "[1] 0.1491835 0.3712523 0.3727424 0.1068218\n",
      "Split into classes: A B\n"
     ]
    },
    {
     "name": "stderr",
     "output_type": "stream",
     "text": [
      "boundary (singular) fit: see help('isSingular')\n",
      "\n",
      "boundary (singular) fit: see help('isSingular')\n",
      "\n"
     ]
    },
    {
     "name": "stdout",
     "output_type": "stream",
     "text": [
      "[1] 0.0007808702 0.9840690997 0.0020525693 0.0130974608\n",
      "Split into classes: A B\n"
     ]
    },
    {
     "name": "stderr",
     "output_type": "stream",
     "text": [
      "boundary (singular) fit: see help('isSingular')\n",
      "\n",
      "boundary (singular) fit: see help('isSingular')\n",
      "\n"
     ]
    },
    {
     "name": "stdout",
     "output_type": "stream",
     "text": [
      "[1] 0.001520476 0.974833427 0.005535260 0.018110837\n",
      "Split into classes: A B\n"
     ]
    },
    {
     "name": "stderr",
     "output_type": "stream",
     "text": [
      "boundary (singular) fit: see help('isSingular')\n",
      "\n",
      "boundary (singular) fit: see help('isSingular')\n",
      "\n"
     ]
    },
    {
     "name": "stdout",
     "output_type": "stream",
     "text": [
      "[1] 0.005722749 0.958776778 0.012673926 0.022826546\n",
      "Split into classes: A B\n"
     ]
    },
    {
     "name": "stderr",
     "output_type": "stream",
     "text": [
      "boundary (singular) fit: see help('isSingular')\n",
      "\n",
      "boundary (singular) fit: see help('isSingular')\n",
      "\n"
     ]
    },
    {
     "name": "stdout",
     "output_type": "stream",
     "text": [
      "[1] 0.01702558 0.93134796 0.02677220 0.02485425\n",
      "Split into classes: A B\n"
     ]
    },
    {
     "name": "stderr",
     "output_type": "stream",
     "text": [
      "boundary (singular) fit: see help('isSingular')\n",
      "\n",
      "boundary (singular) fit: see help('isSingular')\n",
      "\n"
     ]
    },
    {
     "name": "stdout",
     "output_type": "stream",
     "text": [
      "[1] 0.03779298 0.88282669 0.05395338 0.02542695\n",
      "Split into classes: A B\n"
     ]
    },
    {
     "name": "stderr",
     "output_type": "stream",
     "text": [
      "boundary (singular) fit: see help('isSingular')\n",
      "\n",
      "boundary (singular) fit: see help('isSingular')\n",
      "\n",
      "boundary (singular) fit: see help('isSingular')\n",
      "\n"
     ]
    },
    {
     "name": "stdout",
     "output_type": "stream",
     "text": [
      "[1] 0.06534387 0.78693680 0.09937502 0.04834432\n",
      "Split into classes: A B\n"
     ]
    },
    {
     "name": "stderr",
     "output_type": "stream",
     "text": [
      "boundary (singular) fit: see help('isSingular')\n",
      "\n",
      "boundary (singular) fit: see help('isSingular')\n",
      "\n",
      "boundary (singular) fit: see help('isSingular')\n",
      "\n",
      "boundary (singular) fit: see help('isSingular')\n",
      "\n",
      "boundary (singular) fit: see help('isSingular')\n",
      "\n"
     ]
    },
    {
     "name": "stdout",
     "output_type": "stream",
     "text": [
      "[1] 0.09745536 0.64357280 0.16670624 0.09226560\n",
      "Split into classes: A B\n"
     ]
    },
    {
     "name": "stderr",
     "output_type": "stream",
     "text": [
      "boundary (singular) fit: see help('isSingular')\n",
      "\n",
      "boundary (singular) fit: see help('isSingular')\n",
      "\n",
      "boundary (singular) fit: see help('isSingular')\n",
      "\n",
      "boundary (singular) fit: see help('isSingular')\n",
      "\n",
      "boundary (singular) fit: see help('isSingular')\n",
      "\n",
      "boundary (singular) fit: see help('isSingular')\n",
      "\n"
     ]
    },
    {
     "name": "stdout",
     "output_type": "stream",
     "text": [
      "[1] 0.1274015 0.5002883 0.2588485 0.1134617\n"
     ]
    }
   ],
   "source": [
    "metrics <- lapply(list_data, quantify_batch, metadata)"
   ]
  },
  {
   "cell_type": "code",
   "execution_count": 738,
   "metadata": {},
   "outputs": [],
   "source": [
    "# M1 <- rownames_to_column(metrics3)\n",
    "# colnames(M1)[1] <- 'feature'\n",
    "# M2 <- gather(M1, key = 'batch_delta', value = 'value', -feature)\n",
    "# M2$value <- as.numeric(M2$value)\n",
    "# M2$batch_delta <- as.numeric(substring(M2$batch_delta, 2))"
   ]
  },
  {
   "cell_type": "code",
   "execution_count": 26,
   "metadata": {},
   "outputs": [],
   "source": [
    "metrics_short <- metrics %>%\n",
    "  data.frame() %>%\n",
    "  t() %>%\n",
    "  data.frame() %>%\n",
    "  mutate(batch_delta = substring(rownames(.), 2))"
   ]
  },
  {
   "cell_type": "markdown",
   "metadata": {},
   "source": [
    "### Estimated variance"
   ]
  },
  {
   "cell_type": "code",
   "execution_count": 28,
   "metadata": {},
   "outputs": [],
   "source": [
    "ngenes <- 8000\n",
    "n <- 80\n",
    "var_total <- sapply(list_data, function(X) sum(apply(X, 1, var)))\n",
    "metrics_var <-  data.frame(var_total) %>%\n",
    "  rownames_to_column(var = 'batch_delta') %>%\n",
    "  merge(metrics_short, by = 'batch_delta') %>%\n",
    "  mutate_all(function(x) as.numeric(as.character(x))) %>%\n",
    "  mutate(var_delta = (batch_delta / 2)^2 * n * ngenes / (n - 1)) %>%\n",
    "  mutate(pct_var = var_delta / var_total)"
   ]
  },
  {
   "cell_type": "code",
   "execution_count": 107,
   "metadata": {},
   "outputs": [],
   "source": [
    "ggcols <- ggplot_palette(3)\n",
    "names(ggcols) <- c('RVP', 'gPCA', 'PVCA')\n",
    "\n",
    "var_gpca_lab <- expression(paste(\"gPCA \", delta, \" * \", S[bold(X)]^2))\n",
    "var_pvca_lab <- expression(paste(\"PVCA * \", S[bold(X)]^2))\n",
    "var_rvp_lab <- expression(paste(\"RVP * \", S[bold(X)]^2))"
   ]
  },
  {
   "cell_type": "code",
   "execution_count": 108,
   "metadata": {},
   "outputs": [],
   "source": [
    "label1 <- 'Theoretical batch effects variance'\n",
    "\n",
    "ax <- ggplot(metrics_var) +\n",
    "  geom_line(aes(x = var_delta, y = pvca.batch * var_total, col = 'PVCA'), show.legend = F) + \n",
    "  geom_abline(slope = 1, intercept = 0, col = 'gray', linetype = 'longdash') +\n",
    "  scale_color_manual(values = ggcols, labels = var_labs) +\n",
    "  scale_x_continuous(breaks = seq(0, 2e11, by = 1e11)) +\n",
    "  theme(text = element_text(size = 10)) +\n",
    "  labs(x = label1, y = var_pvca_lab) +\n",
    "  ylim(0, 5e11)"
   ]
  },
  {
   "cell_type": "code",
   "execution_count": 109,
   "metadata": {
    "scrolled": true
   },
   "outputs": [
    {
     "data": {
      "image/png": "[encoded data removed]",
      "text/plain": [
       "plot without title"
      ]
     },
     "metadata": {
      "image/png": {
       "height": 240,
       "width": 360
      }
     },
     "output_type": "display_data"
    }
   ],
   "source": [
    "ax"
   ]
  },
  {
   "cell_type": "code",
   "execution_count": 609,
   "metadata": {},
   "outputs": [],
   "source": [
    "file <- '~/Dropbox/tmp/var_bal-pvca.pdf'\n",
    "ggsave(file, ax, width = 3, height = 2.5)"
   ]
  },
  {
   "cell_type": "markdown",
   "metadata": {},
   "source": [
    "#### Combined"
   ]
  },
  {
   "cell_type": "code",
   "execution_count": 110,
   "metadata": {},
   "outputs": [],
   "source": [
    "var_labs <- c(var_gpca_lab, var_pvca_lab, var_rvp_lab)\n",
    "label1 <- 'Theoretical batch effects variance'\n",
    "label2 <- 'Estimated batch effects variance'\n",
    "\n",
    "ax <- ggplot(metrics_var) +\n",
    "  geom_line(aes(x = var_delta, y = rvp * var_total, col = 'RVP')) + \n",
    "  geom_line(aes(x = var_delta, y = gpca * var_total, col = 'gPCA')) + \n",
    "  geom_line(aes(x = var_delta, y = pvca.batch * var_total, col = 'PVCA')) + \n",
    "  geom_abline(slope = 1, intercept = 0, col = 'gray', linetype = 'longdash') +\n",
    "  labs(x = label1, y = label2) +\n",
    "  scale_color_manual(values = ggcols, labels = var_labs) +\n",
    "  scale_x_continuous(breaks = seq(0, 2e11, by = 1e11)) +\n",
    "  theme(\n",
    "    legend.text = element_text(size = 8),\n",
    "    legend.position = c(.99, .85),\n",
    "    legend.justification = c(\"right\", \"top\"),\n",
    "    legend.box.just = \"right\",\n",
    "    legend.key = element_rect(fill='transparent'),\n",
    "    legend.background = element_rect(fill='transparent'),\n",
    "    legend.title = element_blank()\n",
    "  )\n",
    "#   ylim(0, 2.4e11)"
   ]
  },
  {
   "cell_type": "code",
   "execution_count": 111,
   "metadata": {
    "scrolled": true
   },
   "outputs": [
    {
     "data": {
      "image/png": "[encoded data removed]",
      "text/plain": [
       "plot without title"
      ]
     },
     "metadata": {
      "image/png": {
       "height": 240,
       "width": 360
      }
     },
     "output_type": "display_data"
    }
   ],
   "source": [
    "ax"
   ]
  },
  {
   "cell_type": "code",
   "execution_count": 987,
   "metadata": {},
   "outputs": [],
   "source": [
    "file <- '~/Dropbox/tmp/var_bal.pdf'\n",
    "ggsave(file, ax, width = 3.5, height = 3)"
   ]
  },
  {
   "cell_type": "markdown",
   "metadata": {},
   "source": [
    "## Theoretical percentage of batch effects"
   ]
  },
  {
   "cell_type": "code",
   "execution_count": 112,
   "metadata": {},
   "outputs": [],
   "source": [
    "# nbatch <- 2\n",
    "# ncond <- 2\n",
    "# npercond <- 20\n",
    "n <- 80\n",
    "ngenes <- 8000\n",
    "\n",
    "basemean <- 5000\n",
    "basedisp <- 2000\n",
    "ggstep <- 100\n",
    "bdispstep <- 0\n",
    "swvar <- 2000\n",
    "\n",
    "batch_delta <- 1000\n",
    "class_delta <- 10000"
   ]
  },
  {
   "cell_type": "code",
   "execution_count": 113,
   "metadata": {},
   "outputs": [],
   "source": [
    "calc_pct_expression <- function(\n",
    "  delta_k, delta_g, delta_i, \n",
    "  n_i, n_j, alpha, epsilon,\n",
    "  ret.obj = F\n",
    ") {\n",
    "  if (length(delta_i) != n_i)\n",
    "    stop(sprintf('delta_i has to be of length %d', n_i))\n",
    "  \n",
    "  n_k <- n / 2 \n",
    "  n_g <- n / 2\n",
    "  total_batch <- n_i * n_k * delta_k\n",
    "  # Assumption: Two batches with same size and two classes with same size\n",
    "  total_x1 <- n_i * n_j * alpha + n_i * n_j * epsilon * 0.5 +\n",
    "    n_i * n_g * delta_g + n_j * sum(delta_i)\n",
    "  \n",
    "  if (ret.obj)\n",
    "    return(c(total_batch = total_batch, total_x = total_x1))\n",
    "  \n",
    "  total_batch / total_x1\n",
    "}"
   ]
  },
  {
   "cell_type": "code",
   "execution_count": 114,
   "metadata": {},
   "outputs": [],
   "source": [
    "batch_deltas <- seq(0, 10000, by = 1000)\n",
    "delta_i <- seq(0, length.out = ngenes, by = ggstep)\n",
    "pct_magnitude <- sapply(\n",
    "  batch_deltas,\n",
    "  calc_pct_expression,\n",
    "  class_delta, delta_i,\n",
    "  ngenes, n, basemean, swvar\n",
    ")\n",
    "names(pct_magnitude) <- batch_deltas"
   ]
  },
  {
   "cell_type": "code",
   "execution_count": 115,
   "metadata": {},
   "outputs": [],
   "source": [
    "metrics_magnitude <-  data.frame(pct_magnitude) %>%\n",
    "  rownames_to_column(var = 'batch_delta') %>%\n",
    "  merge(metrics_short, by = 'batch_delta') %>%\n",
    "  mutate_all(function(x) as.numeric(as.character(x)))"
   ]
  },
  {
   "cell_type": "code",
   "execution_count": 116,
   "metadata": {},
   "outputs": [
    {
     "data": {
      "text/html": [
       "<style>\n",
       ".dl-inline {width: auto; margin:0; padding: 0}\n",
       ".dl-inline>dt, .dl-inline>dd {float: none; width: auto; display: inline-block}\n",
       ".dl-inline>dt::after {content: \":\\0020\"; padding-right: .5ex}\n",
       ".dl-inline>dt:not(:first-of-type) {padding-left: .5ex}\n",
       "</style><dl class=dl-inline><dt>RVP</dt><dd>'#F8766D'</dd><dt>gPCA</dt><dd>'#00BA38'</dd><dt>PVCA</dt><dd>'#619CFF'</dd></dl>\n"
      ],
      "text/latex": [
       "\\begin{description*}\n",
       "\\item[RVP] '\\#F8766D'\n",
       "\\item[gPCA] '\\#00BA38'\n",
       "\\item[PVCA] '\\#619CFF'\n",
       "\\end{description*}\n"
      ],
      "text/markdown": [
       "RVP\n",
       ":   '#F8766D'gPCA\n",
       ":   '#00BA38'PVCA\n",
       ":   '#619CFF'\n",
       "\n"
      ],
      "text/plain": [
       "      RVP      gPCA      PVCA \n",
       "\"#F8766D\" \"#00BA38\" \"#619CFF\" "
      ]
     },
     "metadata": {},
     "output_type": "display_data"
    }
   ],
   "source": [
    "ggcols"
   ]
  },
  {
   "cell_type": "code",
   "execution_count": 119,
   "metadata": {
    "scrolled": true
   },
   "outputs": [],
   "source": [
    "gpca_lab <- expression(paste(\"gPCA \", delta))\n",
    "\n",
    "metric <- 'PVCA'\n",
    "ax <- ggplot(metrics_magnitude) +\n",
    "  geom_line(aes(x = pct_magnitude, y = pvca.batch, col = metric), show.legend = F) + \n",
    "  geom_abline(slope = 1, intercept = 0, col = 'gray', linetype = 'longdash') +\n",
    "  labs(x = 'Percentage of batch effects in data', y = metric) +\n",
    "  scale_color_manual(values = ggcols, labels = metric) +\n",
    "  scale_x_continuous(breaks = seq(0, 0.01, by = 0.005))\n",
    "#   ylim(0, 0.18)"
   ]
  },
  {
   "cell_type": "code",
   "execution_count": 120,
   "metadata": {
    "scrolled": true
   },
   "outputs": [
    {
     "data": {
      "image/png": "[encoded data removed]",
      "text/plain": [
       "plot without title"
      ]
     },
     "metadata": {
      "image/png": {
       "height": 240,
       "width": 360
      }
     },
     "output_type": "display_data"
    }
   ],
   "source": [
    "ax"
   ]
  },
  {
   "cell_type": "code",
   "execution_count": 1000,
   "metadata": {},
   "outputs": [],
   "source": [
    "file <- '~/Dropbox/tmp/pct_magnitude_bal-rvp.pdf'\n",
    "ggsave(file, ax, width = 3, height = 2.5)"
   ]
  },
  {
   "cell_type": "markdown",
   "metadata": {},
   "source": [
    "#### Combined"
   ]
  },
  {
   "cell_type": "code",
   "execution_count": 123,
   "metadata": {},
   "outputs": [],
   "source": [
    "gpca_lab <- expression(paste(\"gPCA \", delta))\n",
    "metric_labs <- c(gpca_lab, 'PVCA', 'RVP')\n",
    "ax <- ggplot(metrics_magnitude) +\n",
    "  geom_line(aes(x = pct_magnitude, y = rvp, col = 'RVP')) + \n",
    "  geom_line(aes(x = pct_magnitude, y = gpca, col = 'gPCA')) + \n",
    "  geom_line(aes(x = pct_magnitude, y = pvca.batch, col = 'PVCA')) + \n",
    "  geom_abline(slope = 1, intercept = 0, col = 'gray', linetype = 'longdash') +\n",
    "  labs(x = 'Percentage of batch effects in data', y = 'Metric value') +\n",
    "  scale_x_continuous(breaks = seq(0, 0.01, by = 0.005)) +\n",
    "  ylim(0, 1) +\n",
    "  labs(x = label1, y = label2) +\n",
    "  scale_color_manual(values = ggcols, labels = metric_labs) +\n",
    "  theme(\n",
    "    legend.text = element_text(size = 8),\n",
    "    legend.position = c(.99, .85),\n",
    "    legend.justification = c(\"right\", \"top\"),\n",
    "    legend.box.just = \"right\",\n",
    "    legend.key = element_rect(fill='transparent'),\n",
    "    legend.background = element_rect(fill='transparent'),\n",
    "    legend.title = element_blank()\n",
    "  )"
   ]
  },
  {
   "cell_type": "code",
   "execution_count": 124,
   "metadata": {
    "scrolled": true
   },
   "outputs": [
    {
     "data": {
      "image/png": "[encoded data removed]",
      "text/plain": [
       "plot without title"
      ]
     },
     "metadata": {
      "image/png": {
       "height": 240,
       "width": 360
      }
     },
     "output_type": "display_data"
    }
   ],
   "source": [
    "ax"
   ]
  },
  {
   "cell_type": "code",
   "execution_count": 1008,
   "metadata": {},
   "outputs": [],
   "source": [
    "file <- '~/Dropbox/tmp/pct_magnitude_bal.pdf'\n",
    "ggsave(file, ax, width = 3.5, height = 3)"
   ]
  },
  {
   "cell_type": "code",
   "execution_count": 507,
   "metadata": {},
   "outputs": [],
   "source": [
    "# theoretical v.s. empirical expected sum\n",
    "totals <- calc_pct_expression(\n",
    "  0, class_delta, delta_i,\n",
    "  ngenes, n, basemean, swvar, ret.obj = T\n",
    ")\n",
    "\n",
    "X_0 <- list_data[['0']]\n",
    "empirical_sum <- sum(rowSums(X_0))\n",
    "theoretical_sum <- totals['total_x']\n",
    "(empirical_sum - theoretical_sum) / empirical_sum"
   ]
  },
  {
   "cell_type": "markdown",
   "metadata": {},
   "source": [
    "## Imbalanced"
   ]
  },
  {
   "cell_type": "code",
   "execution_count": 125,
   "metadata": {},
   "outputs": [],
   "source": [
    "dir <- '../data/batchqc/raw/imbalanced'\n",
    "files <- list.files(dir, full.names = T)\n",
    "list_data <- lapply(files, read.table, sep = \"\\t\", header = T, row.names = 1)"
   ]
  },
  {
   "cell_type": "code",
   "execution_count": 126,
   "metadata": {},
   "outputs": [],
   "source": [
    "id <- sapply(\n",
    "  files,\n",
    "  function(x) substring_head(strsplit(x, '-')[[1]][2], 4),\n",
    "  USE.NAMES = FALSE\n",
    ")\n",
    "names(list_data) <- id"
   ]
  },
  {
   "cell_type": "code",
   "execution_count": 127,
   "metadata": {},
   "outputs": [],
   "source": [
    "# metadata\n",
    "ncond <- 30\n",
    "batch <- as.factor(rep(1:2, each = ncond * 2))\n",
    "class <- rep(rep(LETTERS[1:2], each = ncond), 2)\n",
    "metadata <- data.frame(batch, class, row.names = colnames(list_data[[1]]))"
   ]
  },
  {
   "cell_type": "code",
   "execution_count": 128,
   "metadata": {},
   "outputs": [
    {
     "name": "stdout",
     "output_type": "stream",
     "text": [
      "     class\n",
      "batch  A  B\n",
      "    1 10 30\n",
      "    2 30 10\n"
     ]
    }
   ],
   "source": [
    "# subsampling\n",
    "# severe imbalance (1:3)\n",
    "idx <- c(seq(21, 100))\n",
    "metadata_imbal <- metadata[idx, ]\n",
    "print(table(metadata_imbal))\n",
    "\n",
    "list_imbal <- lapply(list_data, function(X) X[, idx])"
   ]
  },
  {
   "cell_type": "code",
   "execution_count": 129,
   "metadata": {},
   "outputs": [
    {
     "name": "stdout",
     "output_type": "stream",
     "text": [
      "Split into classes: A B\n"
     ]
    },
    {
     "name": "stderr",
     "output_type": "stream",
     "text": [
      "boundary (singular) fit: see help('isSingular')\n",
      "\n",
      "boundary (singular) fit: see help('isSingular')\n",
      "\n"
     ]
    },
    {
     "name": "stdout",
     "output_type": "stream",
     "text": [
      "[1] 1.405902e-05 9.913970e-01 5.683614e-05 8.532099e-03\n",
      "Split into classes: A B\n"
     ]
    },
    {
     "name": "stderr",
     "output_type": "stream",
     "text": [
      "boundary (singular) fit: see help('isSingular')\n",
      "\n",
      "boundary (singular) fit: see help('isSingular')\n",
      "\n"
     ]
    },
    {
     "name": "stdout",
     "output_type": "stream",
     "text": [
      "[1] 6.991382e-06 9.882602e-01 3.820468e-04 1.135078e-02\n",
      "Split into classes: A B\n"
     ]
    },
    {
     "name": "stderr",
     "output_type": "stream",
     "text": [
      "boundary (singular) fit: see help('isSingular')\n",
      "\n",
      "boundary (singular) fit: see help('isSingular')\n",
      "\n",
      "boundary (singular) fit: see help('isSingular')\n",
      "\n",
      "boundary (singular) fit: see help('isSingular')\n",
      "\n",
      "boundary (singular) fit: see help('isSingular')\n",
      "\n",
      "boundary (singular) fit: see help('isSingular')\n",
      "\n",
      "boundary (singular) fit: see help('isSingular')\n",
      "\n",
      "boundary (singular) fit: see help('isSingular')\n",
      "\n",
      "boundary (singular) fit: see help('isSingular')\n",
      "\n",
      "boundary (singular) fit: see help('isSingular')\n",
      "\n",
      "boundary (singular) fit: see help('isSingular')\n",
      "\n",
      "boundary (singular) fit: see help('isSingular')\n",
      "\n",
      "boundary (singular) fit: see help('isSingular')\n",
      "\n",
      "boundary (singular) fit: see help('isSingular')\n",
      "\n",
      "boundary (singular) fit: see help('isSingular')\n",
      "\n",
      "boundary (singular) fit: see help('isSingular')\n",
      "\n",
      "boundary (singular) fit: see help('isSingular')\n",
      "\n",
      "boundary (singular) fit: see help('isSingular')\n",
      "\n",
      "boundary (singular) fit: see help('isSingular')\n",
      "\n",
      "boundary (singular) fit: see help('isSingular')\n",
      "\n",
      "boundary (singular) fit: see help('isSingular')\n",
      "\n",
      "boundary (singular) fit: see help('isSingular')\n",
      "\n",
      "boundary (singular) fit: see help('isSingular')\n",
      "\n",
      "boundary (singular) fit: see help('isSingular')\n",
      "\n",
      "boundary (singular) fit: see help('isSingular')\n",
      "\n",
      "boundary (singular) fit: see help('isSingular')\n",
      "\n"
     ]
    },
    {
     "name": "stdout",
     "output_type": "stream",
     "text": [
      "[1] 0.0154817 0.2122086 0.2128891 0.5594206\n",
      "Split into classes: A B\n"
     ]
    },
    {
     "name": "stderr",
     "output_type": "stream",
     "text": [
      "boundary (singular) fit: see help('isSingular')\n",
      "\n",
      "boundary (singular) fit: see help('isSingular')\n",
      "\n",
      "boundary (singular) fit: see help('isSingular')\n",
      "\n",
      "boundary (singular) fit: see help('isSingular')\n",
      "\n",
      "boundary (singular) fit: see help('isSingular')\n",
      "\n",
      "boundary (singular) fit: see help('isSingular')\n",
      "\n",
      "boundary (singular) fit: see help('isSingular')\n",
      "\n",
      "boundary (singular) fit: see help('isSingular')\n",
      "\n",
      "boundary (singular) fit: see help('isSingular')\n",
      "\n",
      "boundary (singular) fit: see help('isSingular')\n",
      "\n",
      "boundary (singular) fit: see help('isSingular')\n",
      "\n",
      "boundary (singular) fit: see help('isSingular')\n",
      "\n",
      "boundary (singular) fit: see help('isSingular')\n",
      "\n",
      "boundary (singular) fit: see help('isSingular')\n",
      "\n",
      "boundary (singular) fit: see help('isSingular')\n",
      "\n",
      "boundary (singular) fit: see help('isSingular')\n",
      "\n",
      "boundary (singular) fit: see help('isSingular')\n",
      "\n",
      "boundary (singular) fit: see help('isSingular')\n",
      "\n",
      "boundary (singular) fit: see help('isSingular')\n",
      "\n",
      "boundary (singular) fit: see help('isSingular')\n",
      "\n",
      "boundary (singular) fit: see help('isSingular')\n",
      "\n",
      "boundary (singular) fit: see help('isSingular')\n",
      "\n",
      "boundary (singular) fit: see help('isSingular')\n",
      "\n",
      "boundary (singular) fit: see help('isSingular')\n",
      "\n",
      "boundary (singular) fit: see help('isSingular')\n",
      "\n",
      "boundary (singular) fit: see help('isSingular')\n",
      "\n",
      "boundary (singular) fit: see help('isSingular')\n",
      "\n",
      "boundary (singular) fit: see help('isSingular')\n",
      "\n",
      "boundary (singular) fit: see help('isSingular')\n",
      "\n",
      "boundary (singular) fit: see help('isSingular')\n",
      "\n",
      "boundary (singular) fit: see help('isSingular')\n",
      "\n",
      "boundary (singular) fit: see help('isSingular')\n",
      "\n",
      "boundary (singular) fit: see help('isSingular')\n",
      "\n",
      "boundary (singular) fit: see help('isSingular')\n",
      "\n",
      "boundary (singular) fit: see help('isSingular')\n",
      "\n",
      "boundary (singular) fit: see help('isSingular')\n",
      "\n",
      "boundary (singular) fit: see help('isSingular')\n",
      "\n",
      "boundary (singular) fit: see help('isSingular')\n",
      "\n",
      "boundary (singular) fit: see help('isSingular')\n",
      "\n",
      "boundary (singular) fit: see help('isSingular')\n",
      "\n"
     ]
    },
    {
     "name": "stdout",
     "output_type": "stream",
     "text": [
      "[1] 0.123739825 0.004159966 0.004319914 0.867780295\n",
      "Split into classes: A B\n"
     ]
    },
    {
     "name": "stderr",
     "output_type": "stream",
     "text": [
      "boundary (singular) fit: see help('isSingular')\n",
      "\n",
      "boundary (singular) fit: see help('isSingular')\n",
      "\n"
     ]
    },
    {
     "name": "stdout",
     "output_type": "stream",
     "text": [
      "[1] 0.0003717474 0.9737238714 0.0052127497 0.0206916316\n",
      "Split into classes: A B\n"
     ]
    },
    {
     "name": "stderr",
     "output_type": "stream",
     "text": [
      "boundary (singular) fit: see help('isSingular')\n",
      "\n",
      "boundary (singular) fit: see help('isSingular')\n",
      "\n"
     ]
    },
    {
     "name": "stdout",
     "output_type": "stream",
     "text": [
      "[1] 0.0008903909 0.9586879060 0.0121852293 0.0282364738\n",
      "Split into classes: A B\n"
     ]
    },
    {
     "name": "stderr",
     "output_type": "stream",
     "text": [
      "boundary (singular) fit: see help('isSingular')\n",
      "\n",
      "boundary (singular) fit: see help('isSingular')\n",
      "\n",
      "boundary (singular) fit: see help('isSingular')\n",
      "\n",
      "boundary (singular) fit: see help('isSingular')\n",
      "\n",
      "boundary (singular) fit: see help('isSingular')\n",
      "\n"
     ]
    },
    {
     "name": "stdout",
     "output_type": "stream",
     "text": [
      "[1] 0.001977164 0.889859140 0.024667753 0.083495943\n",
      "Split into classes: A B\n"
     ]
    },
    {
     "name": "stderr",
     "output_type": "stream",
     "text": [
      "boundary (singular) fit: see help('isSingular')\n",
      "\n",
      "boundary (singular) fit: see help('isSingular')\n",
      "\n",
      "boundary (singular) fit: see help('isSingular')\n",
      "\n",
      "boundary (singular) fit: see help('isSingular')\n",
      "\n",
      "boundary (singular) fit: see help('isSingular')\n",
      "\n",
      "boundary (singular) fit: see help('isSingular')\n",
      "\n",
      "boundary (singular) fit: see help('isSingular')\n",
      "\n",
      "boundary (singular) fit: see help('isSingular')\n",
      "\n",
      "boundary (singular) fit: see help('isSingular')\n",
      "\n",
      "boundary (singular) fit: see help('isSingular')\n",
      "\n",
      "boundary (singular) fit: see help('isSingular')\n",
      "\n",
      "boundary (singular) fit: see help('isSingular')\n",
      "\n"
     ]
    },
    {
     "name": "stdout",
     "output_type": "stream",
     "text": [
      "[1] 0.003765234 0.733010485 0.042765949 0.220458332\n",
      "Split into classes: A B\n"
     ]
    },
    {
     "name": "stderr",
     "output_type": "stream",
     "text": [
      "boundary (singular) fit: see help('isSingular')\n",
      "\n",
      "boundary (singular) fit: see help('isSingular')\n",
      "\n",
      "boundary (singular) fit: see help('isSingular')\n",
      "\n",
      "boundary (singular) fit: see help('isSingular')\n",
      "\n",
      "boundary (singular) fit: see help('isSingular')\n",
      "\n",
      "boundary (singular) fit: see help('isSingular')\n",
      "\n",
      "boundary (singular) fit: see help('isSingular')\n",
      "\n",
      "boundary (singular) fit: see help('isSingular')\n",
      "\n",
      "boundary (singular) fit: see help('isSingular')\n",
      "\n",
      "boundary (singular) fit: see help('isSingular')\n",
      "\n",
      "boundary (singular) fit: see help('isSingular')\n",
      "\n",
      "boundary (singular) fit: see help('isSingular')\n",
      "\n",
      "boundary (singular) fit: see help('isSingular')\n",
      "\n",
      "boundary (singular) fit: see help('isSingular')\n",
      "\n",
      "boundary (singular) fit: see help('isSingular')\n",
      "\n",
      "boundary (singular) fit: see help('isSingular')\n",
      "\n",
      "boundary (singular) fit: see help('isSingular')\n",
      "\n",
      "boundary (singular) fit: see help('isSingular')\n",
      "\n"
     ]
    },
    {
     "name": "stdout",
     "output_type": "stream",
     "text": [
      "[1] 0.006303132 0.565825490 0.068355468 0.359515910\n",
      "Split into classes: A B\n"
     ]
    },
    {
     "name": "stderr",
     "output_type": "stream",
     "text": [
      "boundary (singular) fit: see help('isSingular')\n",
      "\n",
      "boundary (singular) fit: see help('isSingular')\n",
      "\n",
      "boundary (singular) fit: see help('isSingular')\n",
      "\n",
      "boundary (singular) fit: see help('isSingular')\n",
      "\n",
      "boundary (singular) fit: see help('isSingular')\n",
      "\n",
      "boundary (singular) fit: see help('isSingular')\n",
      "\n",
      "boundary (singular) fit: see help('isSingular')\n",
      "\n",
      "boundary (singular) fit: see help('isSingular')\n",
      "\n",
      "boundary (singular) fit: see help('isSingular')\n",
      "\n",
      "boundary (singular) fit: see help('isSingular')\n",
      "\n",
      "boundary (singular) fit: see help('isSingular')\n",
      "\n",
      "boundary (singular) fit: see help('isSingular')\n",
      "\n",
      "boundary (singular) fit: see help('isSingular')\n",
      "\n",
      "boundary (singular) fit: see help('isSingular')\n",
      "\n",
      "boundary (singular) fit: see help('isSingular')\n",
      "\n",
      "boundary (singular) fit: see help('isSingular')\n",
      "\n",
      "boundary (singular) fit: see help('isSingular')\n",
      "\n",
      "boundary (singular) fit: see help('isSingular')\n",
      "\n",
      "boundary (singular) fit: see help('isSingular')\n",
      "\n",
      "boundary (singular) fit: see help('isSingular')\n",
      "\n",
      "boundary (singular) fit: see help('isSingular')\n",
      "\n",
      "boundary (singular) fit: see help('isSingular')\n",
      "\n"
     ]
    },
    {
     "name": "stdout",
     "output_type": "stream",
     "text": [
      "[1] 0.009765506 0.416350235 0.103899064 0.469985195\n",
      "Split into classes: A B\n"
     ]
    },
    {
     "name": "stderr",
     "output_type": "stream",
     "text": [
      "boundary (singular) fit: see help('isSingular')\n",
      "\n",
      "boundary (singular) fit: see help('isSingular')\n",
      "\n",
      "boundary (singular) fit: see help('isSingular')\n",
      "\n",
      "boundary (singular) fit: see help('isSingular')\n",
      "\n",
      "boundary (singular) fit: see help('isSingular')\n",
      "\n",
      "boundary (singular) fit: see help('isSingular')\n",
      "\n",
      "boundary (singular) fit: see help('isSingular')\n",
      "\n",
      "boundary (singular) fit: see help('isSingular')\n",
      "\n",
      "boundary (singular) fit: see help('isSingular')\n",
      "\n",
      "boundary (singular) fit: see help('isSingular')\n",
      "\n",
      "boundary (singular) fit: see help('isSingular')\n",
      "\n",
      "boundary (singular) fit: see help('isSingular')\n",
      "\n",
      "boundary (singular) fit: see help('isSingular')\n",
      "\n",
      "boundary (singular) fit: see help('isSingular')\n",
      "\n",
      "boundary (singular) fit: see help('isSingular')\n",
      "\n",
      "boundary (singular) fit: see help('isSingular')\n",
      "\n",
      "boundary (singular) fit: see help('isSingular')\n",
      "\n",
      "boundary (singular) fit: see help('isSingular')\n",
      "\n",
      "boundary (singular) fit: see help('isSingular')\n",
      "\n",
      "boundary (singular) fit: see help('isSingular')\n",
      "\n",
      "boundary (singular) fit: see help('isSingular')\n",
      "\n",
      "boundary (singular) fit: see help('isSingular')\n",
      "\n",
      "boundary (singular) fit: see help('isSingular')\n",
      "\n",
      "boundary (singular) fit: see help('isSingular')\n",
      "\n",
      "boundary (singular) fit: see help('isSingular')\n",
      "\n"
     ]
    },
    {
     "name": "stdout",
     "output_type": "stream",
     "text": [
      "[1] 0.01297929 0.29327072 0.15170163 0.54204835\n"
     ]
    }
   ],
   "source": [
    "metrics_imbal <- lapply(list_imbal, quantify_batch, metadata_imbal)"
   ]
  },
  {
   "cell_type": "code",
   "execution_count": 130,
   "metadata": {},
   "outputs": [],
   "source": [
    "metrics_imbal_short <- metrics_imbal %>%\n",
    "  data.frame() %>%\n",
    "  t() %>%\n",
    "  data.frame() %>%\n",
    "  mutate(batch_delta = substring(rownames(.), 2))"
   ]
  },
  {
   "cell_type": "markdown",
   "metadata": {},
   "source": [
    "## Estimated variance"
   ]
  },
  {
   "cell_type": "code",
   "execution_count": 131,
   "metadata": {},
   "outputs": [],
   "source": [
    "n <- 80\n",
    "ngenes <- 8000\n",
    "var_total <- sapply(list_imbal, function(X) sum(apply(X, 1, var)))\n",
    "metrics_imbal_var <-  data.frame(var_total) %>%\n",
    "  rownames_to_column(var = 'batch_delta') %>%\n",
    "  merge(metrics_imbal_short, by = 'batch_delta') %>%\n",
    "  mutate_all(function(x) as.numeric(as.character(x))) %>%\n",
    "  mutate(var_delta = (batch_delta / 2) ^ 2 * n * ngenes / (n - 1)) %>%\n",
    "  mutate(pct_var = var_delta / var_total)"
   ]
  },
  {
   "cell_type": "markdown",
   "metadata": {},
   "source": [
    "### RVP * Var(X)"
   ]
  },
  {
   "cell_type": "code",
   "execution_count": 142,
   "metadata": {},
   "outputs": [],
   "source": [
    "label1 <- 'Theoretical batch effects variance'\n",
    "metric <- 'gPCA'\n",
    "ax <- ggplot(metrics_imbal_var) +\n",
    "  geom_line(aes(x = var_delta, y = gpca * var_total, col = metric), show.legend = F) + \n",
    "  geom_abline(slope = 1, intercept = 0, col = 'gray', linetype = 'longdash') +\n",
    "  labs(x = label1, y = var_gpca_lab) +\n",
    "  scale_x_continuous(breaks = seq(0, 2e11, by = 1e11)) +\n",
    "  scale_color_manual(values = ggcols, labels = metric) +\n",
    "  theme(text = element_text(size = 10))\n",
    "#   ylim(0, 1.8e11)"
   ]
  },
  {
   "cell_type": "code",
   "execution_count": 143,
   "metadata": {
    "scrolled": false
   },
   "outputs": [
    {
     "data": {
      "image/png": "[encoded data removed]",
      "text/plain": [
       "plot without title"
      ]
     },
     "metadata": {
      "image/png": {
       "height": 240,
       "width": 360
      }
     },
     "output_type": "display_data"
    }
   ],
   "source": [
    "ax"
   ]
  },
  {
   "cell_type": "code",
   "execution_count": 682,
   "metadata": {},
   "outputs": [],
   "source": [
    "file <- '~/Dropbox/tmp/var_imbal-rvp.pdf'\n",
    "ggsave(file, ax, width = 3, height = 2.5)"
   ]
  },
  {
   "cell_type": "markdown",
   "metadata": {},
   "source": [
    "#### Combined"
   ]
  },
  {
   "cell_type": "code",
   "execution_count": 147,
   "metadata": {},
   "outputs": [],
   "source": [
    "var_labs <- c(var_gpca_lab, var_pvca_lab, var_rvp_lab)\n",
    "\n",
    "label1 <- 'Theoretical batch effects variance'\n",
    "label2 <- 'Estimated batch effects variance'\n",
    "ax <- ggplot(metrics_imbal_var) +\n",
    "  geom_line(aes(x = var_delta, y = rvp * var_total, col = 'RVP')) + \n",
    "  geom_line(aes(x = var_delta, y = gpca * var_total, col = 'gPCA')) + \n",
    "  geom_line(aes(x = var_delta, y = pvca.batch * var_total, col = 'PVCA')) + \n",
    "  geom_abline(slope = 1, intercept = 0, col = 'gray', linetype = 'longdash') +\n",
    "  labs(x = label1, y = label2) +\n",
    "  scale_color_manual(values = ggcols, labels = var_labs) +\n",
    "  scale_x_continuous(breaks = seq(0, 2e11, by = 1e11)) +\n",
    "  theme(\n",
    "    legend.text = element_text(size = 8),\n",
    "    legend.position = c(.99, .68),\n",
    "    legend.justification = c(\"right\", \"top\"),\n",
    "    legend.box.just = \"right\",\n",
    "    legend.key = element_rect(fill='transparent'),\n",
    "    legend.background = element_rect(fill='transparent'),\n",
    "    legend.title = element_blank()\n",
    "  )"
   ]
  },
  {
   "cell_type": "code",
   "execution_count": 148,
   "metadata": {
    "scrolled": true
   },
   "outputs": [
    {
     "data": {
      "image/png": "[encoded data removed]",
      "text/plain": [
       "plot without title"
      ]
     },
     "metadata": {
      "image/png": {
       "height": 240,
       "width": 360
      }
     },
     "output_type": "display_data"
    }
   ],
   "source": [
    "ax"
   ]
  },
  {
   "cell_type": "code",
   "execution_count": 915,
   "metadata": {},
   "outputs": [],
   "source": [
    "file <- '~/Dropbox/tmp/var_imbal.pdf'\n",
    "ggsave(file, ax, width = 3.5, height = 3)"
   ]
  },
  {
   "cell_type": "markdown",
   "metadata": {},
   "source": [
    "## Percentage magnitude"
   ]
  },
  {
   "cell_type": "code",
   "execution_count": 149,
   "metadata": {},
   "outputs": [],
   "source": [
    "n <- 80\n",
    "ngenes <- 8000\n",
    "\n",
    "basemean <- 5000\n",
    "basedisp <- 2000\n",
    "ggstep <- 100\n",
    "bdispstep <- 0\n",
    "swvar <- 2000\n",
    "\n",
    "batch_delta <- 1000\n",
    "class_delta <- 10000"
   ]
  },
  {
   "cell_type": "code",
   "execution_count": 150,
   "metadata": {},
   "outputs": [],
   "source": [
    "calc_pct_expression <- function(\n",
    "  delta_k, delta_g, delta_i, \n",
    "  n_i, n_j, alpha, epsilon,\n",
    "  ret.obj = F\n",
    ") {\n",
    "  if (length(delta_i) != n_i)\n",
    "    stop(sprintf('delta_i has to be of length %d', n_i))\n",
    "  \n",
    "  n_k <- n / 2 \n",
    "  n_g <- n / 2\n",
    "  total_batch <- n_i * n_k * delta_k\n",
    "  # Assumption: Two batches with same size and two classes with same size\n",
    "  total_x1 <- n_i * n_j * alpha + n_i * n_j * epsilon * 0.5 +\n",
    "    n_i * n_g * delta_g + n_j * sum(delta_i)\n",
    "  \n",
    "  if (ret.obj)\n",
    "    return(c(total_batch = total_batch, total_x = total_x1))\n",
    "  \n",
    "  total_batch / total_x1\n",
    "}"
   ]
  },
  {
   "cell_type": "code",
   "execution_count": 151,
   "metadata": {},
   "outputs": [],
   "source": [
    "batch_deltas <- seq(0, 10000, by = 1000)\n",
    "delta_i <- seq(0, length.out = ngenes, by = ggstep)\n",
    "pct_magnitude <- sapply(\n",
    "  batch_deltas,\n",
    "  calc_pct_expression,\n",
    "  class_delta, delta_i,\n",
    "  ngenes, n, basemean, swvar\n",
    ")\n",
    "names(pct_magnitude) <- batch_deltas"
   ]
  },
  {
   "cell_type": "code",
   "execution_count": 152,
   "metadata": {},
   "outputs": [],
   "source": [
    "metrics_imbal_magnitude <-  data.frame(pct_magnitude) %>%\n",
    "  rownames_to_column(var = 'batch_delta') %>%\n",
    "  merge(metrics_imbal_short, by = 'batch_delta') %>%\n",
    "  mutate_all(function(x) as.numeric(as.character(x)))"
   ]
  },
  {
   "cell_type": "code",
   "execution_count": 155,
   "metadata": {},
   "outputs": [],
   "source": [
    "gpca_lab <- expression(paste(\"gPCA \", delta))\n",
    "\n",
    "metric <- 'PVCA'\n",
    "ax <- ggplot(metrics_imbal_magnitude) +\n",
    "  geom_line(aes(x = pct_magnitude, y = pvca.batch, col = metric), show.legend = F) + \n",
    "  geom_abline(slope = 1, intercept = 0, col = 'gray', linetype = 'longdash') +\n",
    "  labs(x = 'Percentage of batch effects in data', y = metric) +\n",
    "  scale_color_manual(values = ggcols, labels = metric) +\n",
    "  scale_x_continuous(breaks = seq(0, 0.01, by = 0.005))\n",
    "#   ylim(0, 1)"
   ]
  },
  {
   "cell_type": "code",
   "execution_count": 156,
   "metadata": {
    "scrolled": false
   },
   "outputs": [
    {
     "data": {
      "image/png": "[encoded data removed]",
      "text/plain": [
       "plot without title"
      ]
     },
     "metadata": {
      "image/png": {
       "height": 240,
       "width": 360
      }
     },
     "output_type": "display_data"
    }
   ],
   "source": [
    "ax"
   ]
  },
  {
   "cell_type": "code",
   "execution_count": 663,
   "metadata": {},
   "outputs": [],
   "source": [
    "file <- '~/Dropbox/tmp/pct_magnitude_imbal-pvca.pdf'\n",
    "ggsave(file, ax, width = 3, height = 2.5)"
   ]
  },
  {
   "cell_type": "markdown",
   "metadata": {},
   "source": [
    "#### Combined"
   ]
  },
  {
   "cell_type": "code",
   "execution_count": 162,
   "metadata": {},
   "outputs": [],
   "source": [
    "gpca_lab <- expression(paste(\"gPCA \", delta))\n",
    "metric_labs <- c(gpca_lab, 'PVCA', 'RVP')"
   ]
  },
  {
   "cell_type": "code",
   "execution_count": 163,
   "metadata": {},
   "outputs": [],
   "source": [
    "ax <- ggplot(metrics_imbal_magnitude) +\n",
    "  geom_line(aes(x = pct_magnitude, y = rvp, col = 'RVP')) + \n",
    "  geom_line(aes(x = pct_magnitude, y = gpca, col = 'gPCA')) + \n",
    "  geom_line(aes(x = pct_magnitude, y = pvca.batch, col = 'PVCA')) + \n",
    "  geom_abline(slope = 1, intercept = 0, col = 'gray', linetype = 'longdash') +\n",
    "  labs(x = 'Percentage of batch effects in data', y = 'Metric value') +\n",
    "  scale_x_continuous(breaks = seq(0, 0.01, by = 0.005)) +\n",
    "  ylim(0, 1) +\n",
    "  labs(x = label1, y = label2) +\n",
    "  scale_color_manual(values = ggcols, labels = metric_labs) +\n",
    "  theme(\n",
    "    legend.text = element_text(size = 8),\n",
    "    legend.position = c(.99, .58),\n",
    "    legend.justification = c(\"right\", \"top\"),\n",
    "    legend.box.just = \"right\",\n",
    "    legend.key = element_rect(fill='transparent'),\n",
    "    legend.background = element_rect(fill='transparent'),\n",
    "    legend.title = element_blank()\n",
    "  )"
   ]
  },
  {
   "cell_type": "code",
   "execution_count": 164,
   "metadata": {
    "scrolled": false
   },
   "outputs": [
    {
     "data": {
      "image/png": "[encoded data removed]",
      "text/plain": [
       "plot without title"
      ]
     },
     "metadata": {
      "image/png": {
       "height": 240,
       "width": 360
      }
     },
     "output_type": "display_data"
    }
   ],
   "source": [
    "ax"
   ]
  },
  {
   "cell_type": "code",
   "execution_count": 968,
   "metadata": {},
   "outputs": [],
   "source": [
    "file <- '~/Dropbox/tmp/pct_magnitude_imbal.pdf'\n",
    "ggsave(file, ax, width = 3.5, height = 3)"
   ]
  },
  {
   "cell_type": "markdown",
   "metadata": {},
   "source": [
    "# Theoretical estimates"
   ]
  },
  {
   "cell_type": "code",
   "execution_count": null,
   "metadata": {},
   "outputs": [],
   "source": [
    "s2 <- function(delta, n) {\n",
    "  if (length(delta) != 1)\n",
    "    stop('Delta is not a scalar!')\n",
    "  \n",
    "  corr_factor <- n / (n - 1)\n",
    "  biased_est <- (delta / 2) ^ 2\n",
    "  unbiased_est <- biased_est * corr_factor\n",
    "  \n",
    "  c(unbiased = unbiased_est, biased = biased_est)\n",
    "}"
   ]
  },
  {
   "cell_type": "code",
   "execution_count": 136,
   "metadata": {},
   "outputs": [
    {
     "data": {
      "text/html": [
       "<strong>total_x:</strong> 3.49573913642765e-05"
      ],
      "text/latex": [
       "\\textbf{total\\textbackslash{}\\_x:} 3.49573913642765e-05"
      ],
      "text/markdown": [
       "**total_x:** 3.49573913642765e-05"
      ],
      "text/plain": [
       "     total_x \n",
       "3.495739e-05 "
      ]
     },
     "metadata": {},
     "output_type": "display_data"
    }
   ],
   "source": [
    "# theoretical v.s. empirical expected sum\n",
    "totals <- calc_pct_expression(\n",
    "  0, class_delta, delta_i,\n",
    "  ngenes, n, basemean, swvar, ret.obj = T\n",
    ")\n",
    "\n",
    "X_0 <- list_imbal[['0']]\n",
    "empirical_sum <- sum(rowSums(X_0))\n",
    "theoretical_sum <- totals['total_x']\n",
    "(empirical_sum - theoretical_sum) / empirical_sum"
   ]
  },
  {
   "cell_type": "markdown",
   "metadata": {},
   "source": [
    "## Developing RVP"
   ]
  },
  {
   "cell_type": "code",
   "execution_count": 295,
   "metadata": {},
   "outputs": [],
   "source": [
    "source('../../relapse_prediction/R/misc.R')"
   ]
  },
  {
   "cell_type": "code",
   "execution_count": 296,
   "metadata": {},
   "outputs": [],
   "source": [
    "X <- list_data[[5]]"
   ]
  },
  {
   "cell_type": "code",
   "execution_count": 297,
   "metadata": {},
   "outputs": [
    {
     "name": "stdout",
     "output_type": "stream",
     "text": [
      "[1] \"list\"\n",
      "Split into classes: A.C B.C B.D\n",
      "All samples are from the same batch (pi = 0)\n",
      "All samples are from the same batch (pi = 0)\n"
     ]
    }
   ],
   "source": [
    "batch <- metadata[colnames(X), 'batch']\n",
    "class1 <- metadata[colnames(X), 'class']\n",
    "class2 <- c(rep('C', 90), rep('D', 30))\n",
    "cls <- list(class1, class2)\n",
    "rvp <- RVP(X, batch, cls)"
   ]
  }
 ],
 "metadata": {
  "kernelspec": {
   "display_name": "R",
   "language": "R",
   "name": "ir"
  },
  "language_info": {
   "codemirror_mode": "r",
   "file_extension": ".r",
   "mimetype": "text/x-r-source",
   "name": "R",
   "pygments_lexer": "r",
   "version": "3.5.1"
  }
 },
 "nbformat": 4,
 "nbformat_minor": 2
}

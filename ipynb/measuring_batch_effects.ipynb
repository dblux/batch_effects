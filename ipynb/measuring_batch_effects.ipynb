{
 "cells": [
  {
   "cell_type": "code",
   "execution_count": 652,
   "metadata": {
    "scrolled": true
   },
   "outputs": [
    {
     "name": "stderr",
     "output_type": "stream",
     "text": [
      "\n",
      "Attaching package: ‘dplyr’\n",
      "\n",
      "\n",
      "The following object is masked from ‘package:Biobase’:\n",
      "\n",
      "    combine\n",
      "\n",
      "\n",
      "The following objects are masked from ‘package:BiocGenerics’:\n",
      "\n",
      "    combine, intersect, setdiff, union\n",
      "\n",
      "\n",
      "The following objects are masked from ‘package:stats’:\n",
      "\n",
      "    filter, lag\n",
      "\n",
      "\n",
      "The following objects are masked from ‘package:base’:\n",
      "\n",
      "    intersect, setdiff, setequal, union\n",
      "\n",
      "\n"
     ]
    }
   ],
   "source": [
    "library(dplyr)\n",
    "library(tibble)\n",
    "library(tidyr)\n",
    "\n",
    "library(Biobase)\n",
    "library(gPCA)\n",
    "library(pvca)\n",
    "\n",
    "library(ggplot2)\n",
    "library(cowplot)\n",
    "theme_set(theme_bw())\n",
    "\n",
    "# library(scran)\n",
    "# library(sva)\n",
    "# library(Harman)"
   ]
  },
  {
   "cell_type": "code",
   "execution_count": 2,
   "metadata": {},
   "outputs": [],
   "source": [
    "options(repr.plot.width = 6, repr.plot.height = 4)"
   ]
  },
  {
   "cell_type": "code",
   "execution_count": 553,
   "metadata": {},
   "outputs": [
    {
     "name": "stdout",
     "output_type": "stream",
     "text": [
      "Sourced file: ../../relapse_prediction/R/batch.R\n",
      "Sourced file: ../../relapse_prediction/R/calc.R\n",
      "Sourced file: ../../relapse_prediction/R/misc.R\n",
      "Sourced file: ../../relapse_prediction/R/normalise.R\n",
      "Sourced file: ../../relapse_prediction/R/plot.R\n",
      "Sourced file: ../../relapse_prediction/R/predict.R\n",
      "Sourced file: ../../relapse_prediction/R/subset.R\n",
      "Sourced file: ../../relapse_prediction/R/utils.R\n"
     ]
    }
   ],
   "source": [
    "# source files\n",
    "src_files <- list.files('../../relapse_prediction/R', full.names = TRUE)\n",
    "for (f in src_files) {\n",
    "  source(f)\n",
    "  cat(sprintf('Sourced file: %s\\n', f))\n",
    "}"
   ]
  },
  {
   "cell_type": "markdown",
   "metadata": {},
   "source": [
    "# Import data"
   ]
  },
  {
   "cell_type": "code",
   "execution_count": 4,
   "metadata": {},
   "outputs": [
    {
     "name": "stdout",
     "output_type": "stream",
     "text": [
      "AFX_1_A1 AFX_1_A2 AFX_1_A3 AFX_1_A4 AFX_1_A5 AFX_1_B1 \n",
      "6.167267 4.921776 6.064782 5.998307 5.594024 6.396092 \n",
      "[1] \"No. of ambiguous and AFFY probesets removed: 17320\"\n",
      "[1] \"No. of probesets removed = 18820\"\n"
     ]
    }
   ],
   "source": [
    "file_maqc <- \"../data/MAQC-I/processed/mas5_original-ref.tsv\"\n",
    "raw_maqc <- read.table(file_maqc, sep = \"\\t\", header = T, row.names = 1)\n",
    "\n",
    "# MAQC metadata\n",
    "# Class A - Universal Human Reference RNA (UHRR)\n",
    "# Class B - Human Brain Reference RNA (HBRR)\n",
    "batch_info <- as.factor(rep(1:6, each = 10))\n",
    "class_info <- rep(rep(LETTERS[1:2], each = 5), 6)\n",
    "metadata <- data.frame(\n",
    "  batch_info, class_info,\n",
    "  row.names = colnames(raw_maqc)\n",
    ")\n",
    "\n",
    "# SCALE->REMOVE->FILTER->LOG\n",
    "scaled_maqc <- raw_maqc %>%\n",
    "  normaliseMeanScaling()\n",
    "\n",
    "log_maqc <- scaled_maqc %>%\n",
    "  removeProbesets() %>%\n",
    "  filterProbesets(0.7, metadata) %>%\n",
    "  log2_transform()"
   ]
  },
  {
   "cell_type": "code",
   "execution_count": 33,
   "metadata": {},
   "outputs": [],
   "source": [
    "# log_nozero <- log_maqc[rowSums(log_maqc == 0) == 0, ]"
   ]
  },
  {
   "cell_type": "markdown",
   "metadata": {},
   "source": [
    "# Measuring batch effects\n",
    "- Different batch-class imbalance\n",
    "- No batch effects\n",
    "- Different magnitude of batch effects when there is batch-class imbalance\n",
    "- Measure when there is different number of features\n",
    "- Different batch sizes\n",
    "\n",
    "### Comparisons\n",
    "- gPCA delta: 0-1 (proportion of variance)\n",
    "    - Weak in quantifying small amounts of batch effects?\n",
    "    - Problems when there is no batch effects but there is class imbalance"
   ]
  },
  {
   "cell_type": "code",
   "execution_count": 5,
   "metadata": {
    "scrolled": true
   },
   "outputs": [],
   "source": [
    "# var_pct\n",
    "quantify_batch <- function(X, metadata) {\n",
    "  batch <- metadata[colnames(X), 'batch_info']\n",
    "  class <- metadata[colnames(X), \"class_info\"]\n",
    "  print(batch)\n",
    "  print(class)\n",
    "\n",
    "  batchpct_v1 <- calc_var_pct(X, batch)\n",
    "  batchpct <- calc_var_pct(X, batch, class, ret.obj = T)\n",
    "  rounded_pcts <- sapply(batchpct$pi_classes, round, digits = 4)\n",
    "  pct_classes <- do.call(paste, as.list(c(rounded_pcts, sep = '; ')))\n",
    "  batch_dists <- calc_batch_dist(X, metadata)\n",
    "  gpca <- gPCA.batchdetect(t(X), batch)\n",
    "  \n",
    "  list(\n",
    "    pct_v1 = batchpct_v1,\n",
    "    pct_v2 = pct_classes,\n",
    "    pct_v3 = batchpct$pi_total,\n",
    "    batch_dist = sum(batch_dists),\n",
    "    gpca_delta = gpca$delta,\n",
    "    gpca_pvalue = gpca$p.val\n",
    "  )\n",
    "}"
   ]
  },
  {
   "cell_type": "code",
   "execution_count": 150,
   "metadata": {},
   "outputs": [],
   "source": [
    "# subsetting maqc\n",
    "maqc_bal <- log_maqc[, c(1:4, 6:9, 11:14, 16:19)]\n",
    "maqc_imbal <- log_maqc[, c(1:3, 6:10, 11:15, 16:18)]\n",
    "maqc_fakebatch <- log_maqc[, c(1:4, 6:9)]"
   ]
  },
  {
   "cell_type": "code",
   "execution_count": 152,
   "metadata": {},
   "outputs": [],
   "source": [
    "fake_metadata <- metadata[colnames(maqc_fakebatch), ]"
   ]
  },
  {
   "cell_type": "code",
   "execution_count": 161,
   "metadata": {
    "scrolled": true
   },
   "outputs": [
    {
     "data": {
      "text/html": [
       "<table>\n",
       "<caption>A data.frame: 8 × 2</caption>\n",
       "<thead>\n",
       "\t<tr><th></th><th scope=col>batch_info</th><th scope=col>class_info</th></tr>\n",
       "\t<tr><th></th><th scope=col>&lt;fct&gt;</th><th scope=col>&lt;fct&gt;</th></tr>\n",
       "</thead>\n",
       "<tbody>\n",
       "\t<tr><th scope=row>AFX_1_A1</th><td>1</td><td>A</td></tr>\n",
       "\t<tr><th scope=row>AFX_1_A2</th><td>1</td><td>A</td></tr>\n",
       "\t<tr><th scope=row>AFX_1_A3</th><td>2</td><td>A</td></tr>\n",
       "\t<tr><th scope=row>AFX_1_A4</th><td>2</td><td>A</td></tr>\n",
       "\t<tr><th scope=row>AFX_1_B1</th><td>1</td><td>B</td></tr>\n",
       "\t<tr><th scope=row>AFX_1_B2</th><td>1</td><td>B</td></tr>\n",
       "\t<tr><th scope=row>AFX_1_B3</th><td>2</td><td>B</td></tr>\n",
       "\t<tr><th scope=row>AFX_1_B4</th><td>2</td><td>B</td></tr>\n",
       "</tbody>\n",
       "</table>\n"
      ],
      "text/latex": [
       "A data.frame: 8 × 2\n",
       "\\begin{tabular}{r|ll}\n",
       "  & batch\\_info & class\\_info\\\\\n",
       "  & <fct> & <fct>\\\\\n",
       "\\hline\n",
       "\tAFX\\_1\\_A1 & 1 & A\\\\\n",
       "\tAFX\\_1\\_A2 & 1 & A\\\\\n",
       "\tAFX\\_1\\_A3 & 2 & A\\\\\n",
       "\tAFX\\_1\\_A4 & 2 & A\\\\\n",
       "\tAFX\\_1\\_B1 & 1 & B\\\\\n",
       "\tAFX\\_1\\_B2 & 1 & B\\\\\n",
       "\tAFX\\_1\\_B3 & 2 & B\\\\\n",
       "\tAFX\\_1\\_B4 & 2 & B\\\\\n",
       "\\end{tabular}\n"
      ],
      "text/markdown": [
       "\n",
       "A data.frame: 8 × 2\n",
       "\n",
       "| <!--/--> | batch_info &lt;fct&gt; | class_info &lt;fct&gt; |\n",
       "|---|---|---|\n",
       "| AFX_1_A1 | 1 | A |\n",
       "| AFX_1_A2 | 1 | A |\n",
       "| AFX_1_A3 | 2 | A |\n",
       "| AFX_1_A4 | 2 | A |\n",
       "| AFX_1_B1 | 1 | B |\n",
       "| AFX_1_B2 | 1 | B |\n",
       "| AFX_1_B3 | 2 | B |\n",
       "| AFX_1_B4 | 2 | B |\n",
       "\n"
      ],
      "text/plain": [
       "         batch_info class_info\n",
       "AFX_1_A1 1          A         \n",
       "AFX_1_A2 1          A         \n",
       "AFX_1_A3 2          A         \n",
       "AFX_1_A4 2          A         \n",
       "AFX_1_B1 1          B         \n",
       "AFX_1_B2 1          B         \n",
       "AFX_1_B3 2          B         \n",
       "AFX_1_B4 2          B         "
      ]
     },
     "metadata": {},
     "output_type": "display_data"
    }
   ],
   "source": [
    "fake_metadata[3, 1] <- 2\n",
    "fake_metadata[6, 1] <- 1"
   ]
  },
  {
   "cell_type": "code",
   "execution_count": 156,
   "metadata": {
    "scrolled": true
   },
   "outputs": [
    {
     "name": "stdout",
     "output_type": "stream",
     "text": [
      "[1] 1 1 1 2 1 2 2 2\n",
      "Levels: 1 2 3 4 5 6\n",
      "[1] A A A A B B B B\n",
      "Levels: A B\n",
      "Split into classes: A B\n"
     ]
    },
    {
     "data": {
      "text/html": [
       "<dl>\n",
       "\t<dt>$pct_v1</dt>\n",
       "\t\t<dd>0.215869480855456</dd>\n",
       "\t<dt>$pct_v2</dt>\n",
       "\t\t<dd>'0.3273; 0.3258'</dd>\n",
       "\t<dt>$pct_v3</dt>\n",
       "\t\t<dd>0.0863979782319586</dd>\n",
       "\t<dt>$batch_dist</dt>\n",
       "\t\t<dd>59785.3162292602</dd>\n",
       "\t<dt>$gpca_delta</dt>\n",
       "\t\t<dd>0.858220013864456</dd>\n",
       "\t<dt>$gpca_pvalue</dt>\n",
       "\t\t<dd>0.206</dd>\n",
       "</dl>\n"
      ],
      "text/latex": [
       "\\begin{description}\n",
       "\\item[\\$pct\\_v1] 0.215869480855456\n",
       "\\item[\\$pct\\_v2] '0.3273; 0.3258'\n",
       "\\item[\\$pct\\_v3] 0.0863979782319586\n",
       "\\item[\\$batch\\_dist] 59785.3162292602\n",
       "\\item[\\$gpca\\_delta] 0.858220013864456\n",
       "\\item[\\$gpca\\_pvalue] 0.206\n",
       "\\end{description}\n"
      ],
      "text/markdown": [
       "$pct_v1\n",
       ":   0.215869480855456\n",
       "$pct_v2\n",
       ":   '0.3273; 0.3258'\n",
       "$pct_v3\n",
       ":   0.0863979782319586\n",
       "$batch_dist\n",
       ":   59785.3162292602\n",
       "$gpca_delta\n",
       ":   0.858220013864456\n",
       "$gpca_pvalue\n",
       ":   0.206\n",
       "\n",
       "\n"
      ],
      "text/plain": [
       "$pct_v1\n",
       "[1] 0.2158695\n",
       "\n",
       "$pct_v2\n",
       "[1] \"0.3273; 0.3258\"\n",
       "\n",
       "$pct_v3\n",
       "[1] 0.08639798\n",
       "\n",
       "$batch_dist\n",
       "[1] 59785.32\n",
       "\n",
       "$gpca_delta\n",
       "[1] 0.85822\n",
       "\n",
       "$gpca_pvalue\n",
       "[1] 0.206\n"
      ]
     },
     "metadata": {},
     "output_type": "display_data"
    }
   ],
   "source": [
    "quantify_batch(maqc_fakebatch, fake_metadata)"
   ]
  },
  {
   "cell_type": "markdown",
   "metadata": {},
   "source": [
    "#### PVCA"
   ]
  },
  {
   "cell_type": "code",
   "execution_count": 177,
   "metadata": {},
   "outputs": [],
   "source": [
    "# create expressionset from biobase package\n",
    "meta_metadata <- data.frame(labelDescription = colnames(metadata))\n",
    "pheno_data <- new(\"AnnotatedDataFrame\", data = metadata, varMetadata = meta_metadata)\n",
    "maqc_eset <- ExpressionSet(assayData = as.matrix(log_maqc), phenoData = pheno_data)"
   ]
  },
  {
   "cell_type": "code",
   "execution_count": 178,
   "metadata": {},
   "outputs": [],
   "source": [
    "eset <- maqc_eset[, c(1:4, 6:9, 11:14, 16:19)]"
   ]
  },
  {
   "cell_type": "code",
   "execution_count": 172,
   "metadata": {},
   "outputs": [
    {
     "name": "stdout",
     "output_type": "stream",
     "text": [
      "         batch_info class_info\n",
      "AFX_1_A1          1          A\n",
      "AFX_1_A2          1          A\n",
      "AFX_1_A3          2          A\n",
      "AFX_1_A4          2          A\n",
      "AFX_1_B1          1          B\n",
      "AFX_1_B2          1          B\n",
      "AFX_1_B3          2          B\n",
      "AFX_1_B4          2          B\n"
     ]
    }
   ],
   "source": [
    "# create expressionset from biobase package\n",
    "print(fake_metadata)\n",
    "fake_pheno_data <- new(\"AnnotatedDataFrame\", data = fake_metadata, varMetadata = meta_metadata)\n",
    "fakebatch_eset <- ExpressionSet(assayData = as.matrix(maqc_fakebatch), phenoData = fake_pheno_data)"
   ]
  },
  {
   "cell_type": "code",
   "execution_count": 191,
   "metadata": {
    "scrolled": true
   },
   "outputs": [
    {
     "name": "stderr",
     "output_type": "stream",
     "text": [
      "singular fit\n",
      "singular fit\n",
      "singular fit\n"
     ]
    },
    {
     "name": "stdout",
     "output_type": "stream",
     "text": [
      "[1] \"batch_info:class_info\" \"class_info\"            \"batch_info\"           \n",
      "[4] \"resid\"                \n"
     ]
    },
    {
     "data": {
      "text/html": [
       "'0.0492; 0.8484; 0.1012; 0.0012'"
      ],
      "text/latex": [
       "'0.0492; 0.8484; 0.1012; 0.0012'"
      ],
      "text/markdown": [
       "'0.0492; 0.8484; 0.1012; 0.0012'"
      ],
      "text/plain": [
       "[1] \"0.0492; 0.8484; 0.1012; 0.0012\""
      ]
     },
     "metadata": {},
     "output_type": "display_data"
    }
   ],
   "source": [
    "pvca_obj <- pvcaBatchAssess(eset, c('batch_info', 'class_info'), 0.6)\n",
    "var_prop <- as.vector(pvca_obj$dat)\n",
    "factors <- as.vector(pvca_obj$label)\n",
    "print(factors)\n",
    "rounded_prop <- sapply(var_prop, round, digits = 4)\n",
    "do.call(paste, as.list(c(rounded_prop, sep = '; ')))"
   ]
  },
  {
   "cell_type": "markdown",
   "metadata": {},
   "source": [
    "## Ma-Spore ALL"
   ]
  },
  {
   "cell_type": "code",
   "execution_count": 7,
   "metadata": {},
   "outputs": [],
   "source": [
    "# Metadata\n",
    "METADATA_SID <- \"../../relapse_prediction/data/GSE67684/processed/metadata/sid-metadata_v2.tsv\"\n",
    "METADATA_PID <- \"../../relapse_prediction/data/GSE67684/processed/metadata/pid-metadata_v7.tsv\"\n",
    "metadata_sid <- read.table(METADATA_SID, sep = \"\\t\")\n",
    "metadata_pid <- read.table(METADATA_PID, sep = \"\\t\", row.names = 1, quote = '\"')\n",
    "\n",
    "## Data\n",
    "# Removed outliers, patients with timepoints from different batches and batch 5\n",
    "SUBSET_RPATH <- \"../../relapse_prediction/data/GSE67684/processed/subset_yeoh.tsv\"\n",
    "raw_yeoh <- read.table(SUBSET_RPATH, sep = \"\\t\")"
   ]
  },
  {
   "cell_type": "code",
   "execution_count": 8,
   "metadata": {},
   "outputs": [
    {
     "name": "stdout",
     "output_type": "stream",
     "text": [
      "  P001_D0   P004_D0   P005_D0   P007_D0   P008_D0   P009_D0 \n",
      " 5.796952  4.123342  3.981577  6.317643  4.841458 11.978124 \n",
      "[1] \"No. of ambiguous and AFFY probesets removed: 10503\"\n",
      "[1] \"No. of probesets removed = 6321\"\n"
     ]
    }
   ],
   "source": [
    "# Metadata\n",
    "metadata_sid$label <- as.factor(metadata_sid$label)\n",
    "levels(metadata_sid$label) <- c('Remission', 'Relapse')\n",
    "metadata_sid$batch_info <- as.factor(metadata_sid$batch_info) \n",
    "metadata_pid$label <- as.factor(metadata_pid$label)\n",
    "levels(metadata_pid$label) <- c('Remission', 'Relapse')\n",
    "\n",
    "# SCALE->REMOVE->FILTER->LOG\n",
    "scaled_yeoh <- normaliseMeanScaling(raw_yeoh)\n",
    "selected_yeoh <- removeProbesets(scaled_yeoh)\n",
    "yeoh <- log2_transform(filterProbesets(selected_yeoh, 0.7, metadata_sid))\n",
    "\n",
    "# All features\n",
    "yeoh_allps <- log2_transform(scaled_yeoh)\n",
    "yeoh_unfltr <- log2_transform(selected_yeoh)"
   ]
  },
  {
   "cell_type": "code",
   "execution_count": 15,
   "metadata": {},
   "outputs": [],
   "source": [
    "metadata_telaml1 <- subset(\n",
    "  metadata_sid,\n",
    "  subtype == 'TEL-AML1' &\n",
    "  label == 'Remission' &\n",
    "  batch_info %in% c(2, 9)\n",
    ")"
   ]
  },
  {
   "cell_type": "code",
   "execution_count": 31,
   "metadata": {},
   "outputs": [],
   "source": [
    "bal_sids <- get_sid(c(\n",
    "  'P022', 'P023', 'P024', 'P025',\n",
    "  'P099', 'P106', 'P120', 'P121'\n",
    "))\n",
    "imbal_sids <- c(\n",
    "  'P022_D0', 'P023_D0', 'P024_D0', 'P025_D0', 'P026_D0', 'P022_D8', 'P023_D8', 'P024_D8',\n",
    "  'P099_D0', 'P106_D0', 'P120_D0', 'P099_D8', 'P106_D8', 'P120_D8', 'P121_D8', 'P127_D8'\n",
    ")"
   ]
  },
  {
   "cell_type": "code",
   "execution_count": 33,
   "metadata": {},
   "outputs": [],
   "source": [
    "yeoh_bal <- yeoh[, bal_sids]\n",
    "yeoh_imbal <- yeoh[, imbal_sids]"
   ]
  },
  {
   "cell_type": "code",
   "execution_count": 46,
   "metadata": {},
   "outputs": [],
   "source": [
    "fakebatch_sids <- get_sid(c(\n",
    "  'P022', 'P023', 'P024', 'P025',\n",
    "  'P026', 'P027', 'P035', 'P036'\n",
    "))\n",
    "yeoh_fakebatch <- yeoh[, fakebatch_sids]"
   ]
  },
  {
   "cell_type": "code",
   "execution_count": 47,
   "metadata": {},
   "outputs": [],
   "source": [
    "fake_metadata <- metadata_sid[fakebatch_sids, ]\n",
    "fake_metadata1 <- fake_metadata\n",
    "fake_metadata2 <- fake_metadata\n",
    "fake_metadata1[c(1:4, 9:12), 1] <- 1\n",
    "fake_metadata2[c(1:6, 11:16), 1] <- 1"
   ]
  },
  {
   "cell_type": "code",
   "execution_count": 50,
   "metadata": {},
   "outputs": [
    {
     "name": "stdout",
     "output_type": "stream",
     "text": [
      " [1] 2 2 2 2 9 9 9 9 2 2 2 2 9 9 9 9\n",
      "Levels: 1 2 3 4 5 6 7 8 9 10\n",
      " [1] D0 D0 D0 D0 D0 D0 D0 D0 D8 D8 D8 D8 D8 D8 D8 D8\n",
      "Levels: D0 D8 N\n",
      "Split into classes: D0 D8\n"
     ]
    }
   ],
   "source": [
    "metrics1 <- quantify_batch(yeoh_bal, metadata_sid)"
   ]
  },
  {
   "cell_type": "code",
   "execution_count": 51,
   "metadata": {},
   "outputs": [
    {
     "name": "stdout",
     "output_type": "stream",
     "text": [
      " [1] 2 2 2 2 2 2 2 2 9 9 9 9 9 9 9 9\n",
      "Levels: 1 2 3 4 5 6 7 8 9 10\n",
      " [1] D0 D0 D0 D0 D0 D8 D8 D8 D0 D0 D0 D8 D8 D8 D8 D8\n",
      "Levels: D0 D8 N\n",
      "Split into classes: D0 D8\n"
     ]
    }
   ],
   "source": [
    "metrics2 <- quantify_batch(yeoh_imbal, metadata_sid)"
   ]
  },
  {
   "cell_type": "code",
   "execution_count": 53,
   "metadata": {},
   "outputs": [
    {
     "name": "stdout",
     "output_type": "stream",
     "text": [
      " [1] 1 1 1 1 2 2 2 2 1 1 1 1 2 2 2 2\n",
      "Levels: 1 2 3 4 5 6 7 8 9 10\n",
      " [1] D0 D0 D0 D0 D0 D0 D0 D0 D8 D8 D8 D8 D8 D8 D8 D8\n",
      "Levels: D0 D8 N\n",
      "Split into classes: D0 D8\n"
     ]
    }
   ],
   "source": [
    "metrics3 <- quantify_batch(yeoh_fakebatch, fake_metadata1)"
   ]
  },
  {
   "cell_type": "code",
   "execution_count": 54,
   "metadata": {},
   "outputs": [
    {
     "name": "stdout",
     "output_type": "stream",
     "text": [
      " [1] 1 1 1 1 1 1 2 2 2 2 1 1 1 1 1 1\n",
      "Levels: 1 2 3 4 5 6 7 8 9 10\n",
      " [1] D0 D0 D0 D0 D0 D0 D0 D0 D8 D8 D8 D8 D8 D8 D8 D8\n",
      "Levels: D0 D8 N\n",
      "Split into classes: D0 D8\n"
     ]
    }
   ],
   "source": [
    "metrics4 <- quantify_batch(yeoh_fakebatch, fake_metadata2)"
   ]
  },
  {
   "cell_type": "code",
   "execution_count": 68,
   "metadata": {
    "scrolled": true
   },
   "outputs": [
    {
     "data": {
      "text/html": [
       "<dl>\n",
       "\t<dt>$pct_v1</dt>\n",
       "\t\t<dd>0.0817559957197182</dd>\n",
       "\t<dt>$pct_v2</dt>\n",
       "\t\t<dd>'0.1567; 0.1732'</dd>\n",
       "\t<dt>$pct_v3</dt>\n",
       "\t\t<dd>0.141621575232193</dd>\n",
       "\t<dt>$batch_dist</dt>\n",
       "\t\t<dd>23122.4091529366</dd>\n",
       "\t<dt>$gpca_delta</dt>\n",
       "\t\t<dd>0.54512588149156</dd>\n",
       "\t<dt>$gpca_pvalue</dt>\n",
       "\t\t<dd>0.19</dd>\n",
       "</dl>\n"
      ],
      "text/latex": [
       "\\begin{description}\n",
       "\\item[\\$pct\\_v1] 0.0817559957197182\n",
       "\\item[\\$pct\\_v2] '0.1567; 0.1732'\n",
       "\\item[\\$pct\\_v3] 0.141621575232193\n",
       "\\item[\\$batch\\_dist] 23122.4091529366\n",
       "\\item[\\$gpca\\_delta] 0.54512588149156\n",
       "\\item[\\$gpca\\_pvalue] 0.19\n",
       "\\end{description}\n"
      ],
      "text/markdown": [
       "$pct_v1\n",
       ":   0.0817559957197182\n",
       "$pct_v2\n",
       ":   '0.1567; 0.1732'\n",
       "$pct_v3\n",
       ":   0.141621575232193\n",
       "$batch_dist\n",
       ":   23122.4091529366\n",
       "$gpca_delta\n",
       ":   0.54512588149156\n",
       "$gpca_pvalue\n",
       ":   0.19\n",
       "\n",
       "\n"
      ],
      "text/plain": [
       "$pct_v1\n",
       "[1] 0.081756\n",
       "\n",
       "$pct_v2\n",
       "[1] \"0.1567; 0.1732\"\n",
       "\n",
       "$pct_v3\n",
       "[1] 0.1416216\n",
       "\n",
       "$batch_dist\n",
       "[1] 23122.41\n",
       "\n",
       "$gpca_delta\n",
       "[1] 0.5451259\n",
       "\n",
       "$gpca_pvalue\n",
       "[1] 0.19\n"
      ]
     },
     "metadata": {},
     "output_type": "display_data"
    }
   ],
   "source": [
    "metrics4"
   ]
  },
  {
   "cell_type": "markdown",
   "metadata": {},
   "source": [
    "# PVCA"
   ]
  },
  {
   "cell_type": "code",
   "execution_count": 58,
   "metadata": {},
   "outputs": [],
   "source": [
    "metadata_yeoh <- metadata_sid[colnames(yeoh), ]"
   ]
  },
  {
   "cell_type": "code",
   "execution_count": 59,
   "metadata": {},
   "outputs": [],
   "source": [
    "# create expressionset from biobase package\n",
    "meta_metadata <- data.frame(labelDescription = colnames(metadata_sid))\n",
    "pheno_data <- new(\"AnnotatedDataFrame\", data = metadata_yeoh, varMetadata = meta_metadata)\n",
    "yeoh_eset <- ExpressionSet(assayData = as.matrix(yeoh), phenoData = pheno_data)"
   ]
  },
  {
   "cell_type": "code",
   "execution_count": 69,
   "metadata": {},
   "outputs": [],
   "source": [
    "# TODO\n",
    "eset <- yeoh_eset[, imbal_sids]"
   ]
  },
  {
   "cell_type": "code",
   "execution_count": 70,
   "metadata": {},
   "outputs": [
    {
     "name": "stderr",
     "output_type": "stream",
     "text": [
      "singular fit\n",
      "singular fit\n",
      "singular fit\n",
      "singular fit\n",
      "singular fit\n"
     ]
    },
    {
     "name": "stdout",
     "output_type": "stream",
     "text": [
      "[1] \"batch_info:class_info\" \"class_info\"            \"batch_info\"           \n",
      "[4] \"resid\"                \n"
     ]
    },
    {
     "data": {
      "text/html": [
       "'0.1864; 0.2284; 0.1907; 0.3944'"
      ],
      "text/latex": [
       "'0.1864; 0.2284; 0.1907; 0.3944'"
      ],
      "text/markdown": [
       "'0.1864; 0.2284; 0.1907; 0.3944'"
      ],
      "text/plain": [
       "[1] \"0.1864; 0.2284; 0.1907; 0.3944\""
      ]
     },
     "metadata": {},
     "output_type": "display_data"
    }
   ],
   "source": [
    "pvca_obj <- pvcaBatchAssess(eset, c('batch_info', 'class_info'), 0.6)\n",
    "var_prop <- as.vector(pvca_obj$dat)\n",
    "factors <- as.vector(pvca_obj$label)\n",
    "print(factors)\n",
    "rounded_prop <- sapply(var_prop, round, digits = 4)\n",
    "do.call(paste, as.list(c(rounded_prop, sep = '; ')))"
   ]
  },
  {
   "cell_type": "code",
   "execution_count": 75,
   "metadata": {
    "scrolled": true
   },
   "outputs": [
    {
     "name": "stdout",
     "output_type": "stream",
     "text": [
      "        batch_info class_info  subtype     label\n",
      "P022_D0          1         D0 TEL-AML1 Remission\n",
      "P023_D0          1         D0 TEL-AML1 Remission\n",
      "P024_D0          1         D0 TEL-AML1 Remission\n",
      "P025_D0          1         D0 TEL-AML1 Remission\n",
      "P026_D0          1         D0 TEL-AML1 Remission\n",
      "P027_D0          1         D0 TEL-AML1 Remission\n",
      "P035_D0          2         D0 TEL-AML1 Remission\n",
      "P036_D0          2         D0 TEL-AML1 Remission\n",
      "P022_D8          2         D8 TEL-AML1 Remission\n",
      "P023_D8          2         D8 TEL-AML1 Remission\n",
      "P024_D8          1         D8 TEL-AML1 Remission\n",
      "P025_D8          1         D8 TEL-AML1 Remission\n",
      "P026_D8          1         D8 TEL-AML1 Remission\n",
      "P027_D8          1         D8 TEL-AML1 Remission\n",
      "P035_D8          1         D8 TEL-AML1 Remission\n",
      "P036_D8          1         D8 TEL-AML1 Remission\n"
     ]
    }
   ],
   "source": [
    "# create expressionset from biobase package\n",
    "print(fake_metadata2)\n",
    "fake_pheno_data <- new(\"AnnotatedDataFrame\", data = fake_metadata2, varMetadata = meta_metadata)\n",
    "fakebatch_eset <- ExpressionSet(assayData = as.matrix(yeoh_fakebatch), phenoData = fake_pheno_data)"
   ]
  },
  {
   "cell_type": "code",
   "execution_count": 76,
   "metadata": {},
   "outputs": [
    {
     "name": "stderr",
     "output_type": "stream",
     "text": [
      "singular fit\n",
      "singular fit\n",
      "singular fit\n",
      "singular fit\n",
      "singular fit\n",
      "singular fit\n"
     ]
    },
    {
     "name": "stdout",
     "output_type": "stream",
     "text": [
      "[1] \"batch_info:class_info\" \"class_info\"            \"batch_info\"           \n",
      "[4] \"resid\"                \n"
     ]
    },
    {
     "data": {
      "text/html": [
       "'0.0783; 0.2255; 0.0738; 0.6225'"
      ],
      "text/latex": [
       "'0.0783; 0.2255; 0.0738; 0.6225'"
      ],
      "text/markdown": [
       "'0.0783; 0.2255; 0.0738; 0.6225'"
      ],
      "text/plain": [
       "[1] \"0.0783; 0.2255; 0.0738; 0.6225\""
      ]
     },
     "metadata": {},
     "output_type": "display_data"
    }
   ],
   "source": [
    "pvca_obj <- pvcaBatchAssess(fakebatch_eset, c('batch_info', 'class_info'), 0.6)\n",
    "var_prop <- as.vector(pvca_obj$dat)\n",
    "factors <- as.vector(pvca_obj$label)\n",
    "print(factors)\n",
    "rounded_prop <- sapply(var_prop, round, digits = 4)\n",
    "do.call(paste, as.list(c(rounded_prop, sep = '; ')))"
   ]
  },
  {
   "cell_type": "code",
   "execution_count": 61,
   "metadata": {
    "scrolled": true
   },
   "outputs": [],
   "source": [
    "# table(metadata_sid[colnames(yeoh_imbal), c('batch_info', 'class_info')])"
   ]
  },
  {
   "cell_type": "markdown",
   "metadata": {},
   "source": [
    "# Westlake"
   ]
  },
  {
   "cell_type": "code",
   "execution_count": 112,
   "metadata": {},
   "outputs": [],
   "source": [
    "# # regenerate fake batch data\n",
    "# file1 <- \"../data/westlake-A549_K562/processed/balanced.csv\"\n",
    "# data <- read.table(file1, sep = \",\", header = T, row.names = 1)\n",
    "\n",
    "# file2 <- \"../data/westlake-A549_K562/processed/metadata/fake_batch-balanced.csv\"\n",
    "# metadata <- read.table(file2, sep = \",\", header = T, row.names = 1)\n",
    "\n",
    "# fake_batch <- data[, rownames(metadata)]\n",
    "# file3 <- \"../data/westlake-A549_K562/processed/fake_batch.csv\"\n",
    "# write.csv(fake_batch, file3, quote = F)"
   ]
  },
  {
   "cell_type": "code",
   "execution_count": 120,
   "metadata": {},
   "outputs": [],
   "source": [
    "file1 <- \"../data/westlake-A549_K562/processed/fake_batch.csv\"\n",
    "file2 <- \"../data/westlake-A549_K562/processed/metadata/fake_batch-severe.csv\"\n",
    "\n",
    "data <- read.table(file1, sep = \",\", header = T, row.names = 1)\n",
    "metadata <- read.table(file2, sep = \",\", header = T, row.names = 1)\n",
    "stopifnot(identical(colnames(data), rownames(metadata)))"
   ]
  },
  {
   "cell_type": "markdown",
   "metadata": {},
   "source": [
    "### Time benchmarking: PCA"
   ]
  },
  {
   "cell_type": "code",
   "execution_count": 166,
   "metadata": {},
   "outputs": [],
   "source": [
    "m <- 20000\n",
    "n <- 1000\n",
    "X <- matrix(rnorm(m * n), m, n)\n",
    "\n",
    "start <- Sys.time()\n",
    "obj <- prcomp(X)\n",
    "end <- Sys.time()\n",
    "print(end - start)"
   ]
  },
  {
   "cell_type": "markdown",
   "metadata": {},
   "source": [
    "## Metrics"
   ]
  },
  {
   "cell_type": "code",
   "execution_count": 157,
   "metadata": {
    "scrolled": true
   },
   "outputs": [
    {
     "name": "stdout",
     "output_type": "stream",
     "text": [
      "Split into classes: A549 K562\n",
      "[1] 0.03313766\n",
      "Time difference of 0.430649 secs\n"
     ]
    }
   ],
   "source": [
    "start <- Sys.time()\n",
    "pvb <- PVB(data, metadata$machine, metadata$class)\n",
    "end <- Sys.time()\n",
    "print(pvb)\n",
    "print(end - start)"
   ]
  },
  {
   "cell_type": "code",
   "execution_count": 147,
   "metadata": {
    "scrolled": true
   },
   "outputs": [
    {
     "name": "stdout",
     "output_type": "stream",
     "text": [
      "[1] 0.9424993\n",
      "Time difference of 0.2675877 secs\n"
     ]
    }
   ],
   "source": [
    "start <- Sys.time()\n",
    "gpca <- gPCA.batchdetect(t(data), metadata$machine, nperm = 5)\n",
    "end <- Sys.time()\n",
    "print(gpca$delta)\n",
    "print(end - start)"
   ]
  },
  {
   "cell_type": "code",
   "execution_count": 123,
   "metadata": {},
   "outputs": [],
   "source": [
    "# create expressionset from biobase package\n",
    "meta_metadata <- data.frame(labelDescription = colnames(metadata))\n",
    "pheno_data <- new(\"AnnotatedDataFrame\", data = metadata, varMetadata = meta_metadata)\n",
    "eset <- ExpressionSet(assayData = as.matrix(data), phenoData = pheno_data)"
   ]
  },
  {
   "cell_type": "code",
   "execution_count": 132,
   "metadata": {
    "scrolled": true
   },
   "outputs": [
    {
     "name": "stderr",
     "output_type": "stream",
     "text": [
      "boundary (singular) fit: see help('isSingular')\n",
      "\n",
      "boundary (singular) fit: see help('isSingular')\n",
      "\n",
      "boundary (singular) fit: see help('isSingular')\n",
      "\n"
     ]
    },
    {
     "name": "stdout",
     "output_type": "stream",
     "text": [
      "[1] \"machine:class\" \"class\"         \"machine\"       \"resid\"        \n"
     ]
    },
    {
     "data": {
      "text/html": [
       "'0.009; 0.9263; 0; 0.0646'"
      ],
      "text/latex": [
       "'0.009; 0.9263; 0; 0.0646'"
      ],
      "text/markdown": [
       "'0.009; 0.9263; 0; 0.0646'"
      ],
      "text/plain": [
       "[1] \"0.009; 0.9263; 0; 0.0646\""
      ]
     },
     "metadata": {},
     "output_type": "display_data"
    },
    {
     "name": "stdout",
     "output_type": "stream",
     "text": [
      "Time difference of 1.857537 secs\n"
     ]
    }
   ],
   "source": [
    "# selected number of PCs have to account for >= 0.6 variance\n",
    "start <- Sys.time()\n",
    "pvca_obj <- pvcaBatchAssess(eset, c('machine', 'class'), 0.6)\n",
    "end <- Sys.time()\n",
    "var_prop <- as.vector(pvca_obj$dat)\n",
    "factors <- as.vector(pvca_obj$label)\n",
    "print(factors)\n",
    "rounded_prop <- sapply(var_prop, round, digits = 4)\n",
    "do.call(paste, as.list(c(rounded_prop, sep = '; ')))\n",
    "print(end - start)"
   ]
  },
  {
   "cell_type": "markdown",
   "metadata": {},
   "source": [
    "# BatchQC\n",
    "- RNA-seq\n",
    "$$\n",
    "X_{ijkg} \\sim \\text{NB}(r = \\beta + \\gamma_k, \\mu = \\alpha + \\delta_i + \\delta_k + \\delta_g + \\epsilon * M)\n",
    "$$\n",
    "\n",
    "$$\n",
    "M \\sim \\text{Beta}(2, 2)\n",
    "$$"
   ]
  },
  {
   "cell_type": "code",
   "execution_count": 402,
   "metadata": {},
   "outputs": [],
   "source": [
    "files <- list.files(dir, full.names = T)\n",
    "list_data <- lapply(files, read.table, sep = \"\\t\", header = T, row.names = 1)\n",
    "id <- sapply(\n",
    "  files,\n",
    "  function(x) substring_head(strsplit(x, '_')[[1]][2], 4),\n",
    "  USE.NAMES = FALSE\n",
    ")\n",
    "names(list_data) <- id"
   ]
  },
  {
   "cell_type": "code",
   "execution_count": 403,
   "metadata": {},
   "outputs": [],
   "source": [
    "# metadata\n",
    "ncond <- 20\n",
    "batch <- as.factor(rep(1:2, each = ncond * 2))\n",
    "class <- rep(rep(LETTERS[1:2], each = ncond), 2)\n",
    "metadata <- data.frame(batch, class, row.names = colnames(counts))"
   ]
  },
  {
   "cell_type": "code",
   "execution_count": 439,
   "metadata": {},
   "outputs": [],
   "source": [
    "batch_delta <- '9000'\n",
    "X <- list_data[[batch_delta]]"
   ]
  },
  {
   "cell_type": "code",
   "execution_count": 440,
   "metadata": {},
   "outputs": [
    {
     "data": {
      "text/html": [
       "<strong>png:</strong> 2"
      ],
      "text/latex": [
       "\\textbf{png:} 2"
      ],
      "text/markdown": [
       "**png:** 2"
      ],
      "text/plain": [
       "png \n",
       "  2 "
      ]
     },
     "metadata": {},
     "output_type": "display_data"
    }
   ],
   "source": [
    "file <- sprintf('~/Dropbox/tmp/feature-%s.pdf', batch_delta)\n",
    "pdf(file, width = 4, height = 4)\n",
    "plot(unlist(X[1,]), col = batch, pch = class)\n",
    "dev.off()"
   ]
  },
  {
   "cell_type": "code",
   "execution_count": 230,
   "metadata": {},
   "outputs": [],
   "source": [
    "quantify_batch <- function(X, metadata) {\n",
    "  batch <- metadata[colnames(X), 'batch']\n",
    "  class <- metadata[colnames(X), 'class']\n",
    "  print(batch)\n",
    "  print(class)\n",
    "\n",
    "  pvb <- PVB(X, batch, class)\n",
    "  batch_dists <- calc_batch_dist(X, metadata, batch_name = 'batch', class_name = 'class')\n",
    "  gpca <- gPCA.batchdetect(t(X), batch)\n",
    "  \n",
    "  # create expressionset from biobase package\n",
    "  meta_metadata <- data.frame(labelDescription = colnames(metadata))\n",
    "  pheno_data <- new(\"AnnotatedDataFrame\", data = metadata, varMetadata = meta_metadata)\n",
    "  eset <- ExpressionSet(assayData = as.matrix(X), phenoData = pheno_data)\n",
    "  pvca_obj <- pvcaBatchAssess(eset, c('batch', 'class'), 0.6)\n",
    "  var_prop <- as.vector(pvca_obj$dat)\n",
    "  labels <- as.vector(pvca_obj$label)\n",
    "  names(var_prop) <- labels\n",
    "\n",
    "  c(\n",
    "    gpca.delta = gpca$delta,\n",
    "    gpca.pvalue = gpca$p.val,\n",
    "    pvb = pvb,\n",
    "    batch_dist = sum(batch_dists),\n",
    "    pvca = var_prop['batch']\n",
    "  )\n",
    "}"
   ]
  },
  {
   "cell_type": "code",
   "execution_count": 232,
   "metadata": {},
   "outputs": [
    {
     "name": "stdout",
     "output_type": "stream",
     "text": [
      " [1] 1 1 1 1 1 1 1 1 1 1 1 1 1 1 1 1 1 1 1 1 1 1 1 1 1 1 1 1 1 1 1 1 1 1 1 1 1 1\n",
      "[39] 1 1 2 2 2 2 2 2 2 2 2 2 2 2 2 2 2 2 2 2 2 2 2 2 2 2 2 2 2 2 2 2 2 2 2 2 2 2\n",
      "[77] 2 2 2 2\n",
      "Levels: 1 2\n",
      " [1] A A A A A A A A A A A A A A A A A A A A B B B B B B B B B B B B B B B B B B\n",
      "[39] B B A A A A A A A A A A A A A A A A A A A A B B B B B B B B B B B B B B B B\n",
      "[77] B B B B\n",
      "Levels: A B\n",
      "Split into classes: A B\n"
     ]
    },
    {
     "name": "stderr",
     "output_type": "stream",
     "text": [
      "boundary (singular) fit: see help('isSingular')\n",
      "\n",
      "boundary (singular) fit: see help('isSingular')\n",
      "\n",
      "boundary (singular) fit: see help('isSingular')\n",
      "\n"
     ]
    },
    {
     "name": "stdout",
     "output_type": "stream",
     "text": [
      " [1] 1 1 1 1 1 1 1 1 1 1 1 1 1 1 1 1 1 1 1 1 1 1 1 1 1 1 1 1 1 1 1 1 1 1 1 1 1 1\n",
      "[39] 1 1 2 2 2 2 2 2 2 2 2 2 2 2 2 2 2 2 2 2 2 2 2 2 2 2 2 2 2 2 2 2 2 2 2 2 2 2\n",
      "[77] 2 2 2 2\n",
      "Levels: 1 2\n",
      " [1] A A A A A A A A A A A A A A A A A A A A B B B B B B B B B B B B B B B B B B\n",
      "[39] B B A A A A A A A A A A A A A A A A A A A A B B B B B B B B B B B B B B B B\n",
      "[77] B B B B\n",
      "Levels: A B\n",
      "Split into classes: A B\n"
     ]
    },
    {
     "name": "stderr",
     "output_type": "stream",
     "text": [
      "boundary (singular) fit: see help('isSingular')\n",
      "\n",
      "boundary (singular) fit: see help('isSingular')\n",
      "\n"
     ]
    },
    {
     "name": "stdout",
     "output_type": "stream",
     "text": [
      " [1] 1 1 1 1 1 1 1 1 1 1 1 1 1 1 1 1 1 1 1 1 1 1 1 1 1 1 1 1 1 1 1 1 1 1 1 1 1 1\n",
      "[39] 1 1 2 2 2 2 2 2 2 2 2 2 2 2 2 2 2 2 2 2 2 2 2 2 2 2 2 2 2 2 2 2 2 2 2 2 2 2\n",
      "[77] 2 2 2 2\n",
      "Levels: 1 2\n",
      " [1] A A A A A A A A A A A A A A A A A A A A B B B B B B B B B B B B B B B B B B\n",
      "[39] B B A A A A A A A A A A A A A A A A A A A A B B B B B B B B B B B B B B B B\n",
      "[77] B B B B\n",
      "Levels: A B\n",
      "Split into classes: A B\n"
     ]
    },
    {
     "name": "stderr",
     "output_type": "stream",
     "text": [
      "boundary (singular) fit: see help('isSingular')\n",
      "\n",
      "boundary (singular) fit: see help('isSingular')\n",
      "\n",
      "boundary (singular) fit: see help('isSingular')\n",
      "\n",
      "boundary (singular) fit: see help('isSingular')\n",
      "\n",
      "boundary (singular) fit: see help('isSingular')\n",
      "\n",
      "boundary (singular) fit: see help('isSingular')\n",
      "\n"
     ]
    },
    {
     "name": "stdout",
     "output_type": "stream",
     "text": [
      " [1] 1 1 1 1 1 1 1 1 1 1 1 1 1 1 1 1 1 1 1 1 1 1 1 1 1 1 1 1 1 1 1 1 1 1 1 1 1 1\n",
      "[39] 1 1 2 2 2 2 2 2 2 2 2 2 2 2 2 2 2 2 2 2 2 2 2 2 2 2 2 2 2 2 2 2 2 2 2 2 2 2\n",
      "[77] 2 2 2 2\n",
      "Levels: 1 2\n",
      " [1] A A A A A A A A A A A A A A A A A A A A B B B B B B B B B B B B B B B B B B\n",
      "[39] B B A A A A A A A A A A A A A A A A A A A A B B B B B B B B B B B B B B B B\n",
      "[77] B B B B\n",
      "Levels: A B\n",
      "Split into classes: A B\n"
     ]
    },
    {
     "name": "stderr",
     "output_type": "stream",
     "text": [
      "boundary (singular) fit: see help('isSingular')\n",
      "\n",
      "boundary (singular) fit: see help('isSingular')\n",
      "\n"
     ]
    },
    {
     "name": "stdout",
     "output_type": "stream",
     "text": [
      " [1] 1 1 1 1 1 1 1 1 1 1 1 1 1 1 1 1 1 1 1 1 1 1 1 1 1 1 1 1 1 1 1 1 1 1 1 1 1 1\n",
      "[39] 1 1 2 2 2 2 2 2 2 2 2 2 2 2 2 2 2 2 2 2 2 2 2 2 2 2 2 2 2 2 2 2 2 2 2 2 2 2\n",
      "[77] 2 2 2 2\n",
      "Levels: 1 2\n",
      " [1] A A A A A A A A A A A A A A A A A A A A B B B B B B B B B B B B B B B B B B\n",
      "[39] B B A A A A A A A A A A A A A A A A A A A A B B B B B B B B B B B B B B B B\n",
      "[77] B B B B\n",
      "Levels: A B\n",
      "Split into classes: A B\n"
     ]
    },
    {
     "name": "stderr",
     "output_type": "stream",
     "text": [
      "boundary (singular) fit: see help('isSingular')\n",
      "\n",
      "boundary (singular) fit: see help('isSingular')\n",
      "\n"
     ]
    },
    {
     "name": "stdout",
     "output_type": "stream",
     "text": [
      " [1] 1 1 1 1 1 1 1 1 1 1 1 1 1 1 1 1 1 1 1 1 1 1 1 1 1 1 1 1 1 1 1 1 1 1 1 1 1 1\n",
      "[39] 1 1 2 2 2 2 2 2 2 2 2 2 2 2 2 2 2 2 2 2 2 2 2 2 2 2 2 2 2 2 2 2 2 2 2 2 2 2\n",
      "[77] 2 2 2 2\n",
      "Levels: 1 2\n",
      " [1] A A A A A A A A A A A A A A A A A A A A B B B B B B B B B B B B B B B B B B\n",
      "[39] B B A A A A A A A A A A A A A A A A A A A A B B B B B B B B B B B B B B B B\n",
      "[77] B B B B\n",
      "Levels: A B\n",
      "Split into classes: A B\n"
     ]
    },
    {
     "name": "stderr",
     "output_type": "stream",
     "text": [
      "boundary (singular) fit: see help('isSingular')\n",
      "\n",
      "boundary (singular) fit: see help('isSingular')\n",
      "\n"
     ]
    },
    {
     "name": "stdout",
     "output_type": "stream",
     "text": [
      " [1] 1 1 1 1 1 1 1 1 1 1 1 1 1 1 1 1 1 1 1 1 1 1 1 1 1 1 1 1 1 1 1 1 1 1 1 1 1 1\n",
      "[39] 1 1 2 2 2 2 2 2 2 2 2 2 2 2 2 2 2 2 2 2 2 2 2 2 2 2 2 2 2 2 2 2 2 2 2 2 2 2\n",
      "[77] 2 2 2 2\n",
      "Levels: 1 2\n",
      " [1] A A A A A A A A A A A A A A A A A A A A B B B B B B B B B B B B B B B B B B\n",
      "[39] B B A A A A A A A A A A A A A A A A A A A A B B B B B B B B B B B B B B B B\n",
      "[77] B B B B\n",
      "Levels: A B\n",
      "Split into classes: A B\n"
     ]
    },
    {
     "name": "stderr",
     "output_type": "stream",
     "text": [
      "boundary (singular) fit: see help('isSingular')\n",
      "\n",
      "boundary (singular) fit: see help('isSingular')\n",
      "\n"
     ]
    },
    {
     "name": "stdout",
     "output_type": "stream",
     "text": [
      " [1] 1 1 1 1 1 1 1 1 1 1 1 1 1 1 1 1 1 1 1 1 1 1 1 1 1 1 1 1 1 1 1 1 1 1 1 1 1 1\n",
      "[39] 1 1 2 2 2 2 2 2 2 2 2 2 2 2 2 2 2 2 2 2 2 2 2 2 2 2 2 2 2 2 2 2 2 2 2 2 2 2\n",
      "[77] 2 2 2 2\n",
      "Levels: 1 2\n",
      " [1] A A A A A A A A A A A A A A A A A A A A B B B B B B B B B B B B B B B B B B\n",
      "[39] B B A A A A A A A A A A A A A A A A A A A A B B B B B B B B B B B B B B B B\n",
      "[77] B B B B\n",
      "Levels: A B\n",
      "Split into classes: A B\n"
     ]
    },
    {
     "name": "stderr",
     "output_type": "stream",
     "text": [
      "boundary (singular) fit: see help('isSingular')\n",
      "\n",
      "boundary (singular) fit: see help('isSingular')\n",
      "\n"
     ]
    },
    {
     "name": "stdout",
     "output_type": "stream",
     "text": [
      " [1] 1 1 1 1 1 1 1 1 1 1 1 1 1 1 1 1 1 1 1 1 1 1 1 1 1 1 1 1 1 1 1 1 1 1 1 1 1 1\n",
      "[39] 1 1 2 2 2 2 2 2 2 2 2 2 2 2 2 2 2 2 2 2 2 2 2 2 2 2 2 2 2 2 2 2 2 2 2 2 2 2\n",
      "[77] 2 2 2 2\n",
      "Levels: 1 2\n",
      " [1] A A A A A A A A A A A A A A A A A A A A B B B B B B B B B B B B B B B B B B\n",
      "[39] B B A A A A A A A A A A A A A A A A A A A A B B B B B B B B B B B B B B B B\n",
      "[77] B B B B\n",
      "Levels: A B\n",
      "Split into classes: A B\n"
     ]
    },
    {
     "name": "stderr",
     "output_type": "stream",
     "text": [
      "boundary (singular) fit: see help('isSingular')\n",
      "\n",
      "boundary (singular) fit: see help('isSingular')\n",
      "\n",
      "boundary (singular) fit: see help('isSingular')\n",
      "\n"
     ]
    },
    {
     "name": "stdout",
     "output_type": "stream",
     "text": [
      " [1] 1 1 1 1 1 1 1 1 1 1 1 1 1 1 1 1 1 1 1 1 1 1 1 1 1 1 1 1 1 1 1 1 1 1 1 1 1 1\n",
      "[39] 1 1 2 2 2 2 2 2 2 2 2 2 2 2 2 2 2 2 2 2 2 2 2 2 2 2 2 2 2 2 2 2 2 2 2 2 2 2\n",
      "[77] 2 2 2 2\n",
      "Levels: 1 2\n",
      " [1] A A A A A A A A A A A A A A A A A A A A B B B B B B B B B B B B B B B B B B\n",
      "[39] B B A A A A A A A A A A A A A A A A A A A A B B B B B B B B B B B B B B B B\n",
      "[77] B B B B\n",
      "Levels: A B\n",
      "Split into classes: A B\n"
     ]
    },
    {
     "name": "stderr",
     "output_type": "stream",
     "text": [
      "boundary (singular) fit: see help('isSingular')\n",
      "\n",
      "boundary (singular) fit: see help('isSingular')\n",
      "\n",
      "boundary (singular) fit: see help('isSingular')\n",
      "\n",
      "boundary (singular) fit: see help('isSingular')\n",
      "\n",
      "boundary (singular) fit: see help('isSingular')\n",
      "\n"
     ]
    },
    {
     "name": "stdout",
     "output_type": "stream",
     "text": [
      " [1] 1 1 1 1 1 1 1 1 1 1 1 1 1 1 1 1 1 1 1 1 1 1 1 1 1 1 1 1 1 1 1 1 1 1 1 1 1 1\n",
      "[39] 1 1 2 2 2 2 2 2 2 2 2 2 2 2 2 2 2 2 2 2 2 2 2 2 2 2 2 2 2 2 2 2 2 2 2 2 2 2\n",
      "[77] 2 2 2 2\n",
      "Levels: 1 2\n",
      " [1] A A A A A A A A A A A A A A A A A A A A B B B B B B B B B B B B B B B B B B\n",
      "[39] B B A A A A A A A A A A A A A A A A A A A A B B B B B B B B B B B B B B B B\n",
      "[77] B B B B\n",
      "Levels: A B\n",
      "Split into classes: A B\n"
     ]
    },
    {
     "name": "stderr",
     "output_type": "stream",
     "text": [
      "boundary (singular) fit: see help('isSingular')\n",
      "\n",
      "boundary (singular) fit: see help('isSingular')\n",
      "\n",
      "boundary (singular) fit: see help('isSingular')\n",
      "\n",
      "boundary (singular) fit: see help('isSingular')\n",
      "\n",
      "boundary (singular) fit: see help('isSingular')\n",
      "\n",
      "boundary (singular) fit: see help('isSingular')\n",
      "\n"
     ]
    }
   ],
   "source": [
    "metrics <- lapply(list_data, quantify_batch, metadata)"
   ]
  },
  {
   "cell_type": "code",
   "execution_count": 738,
   "metadata": {},
   "outputs": [],
   "source": [
    "# drop batch_dist and gpca p-value\n",
    "metrics3 <- data.frame(metrics)[-c(2,4), ]\n",
    "M1 <- rownames_to_column(metrics3)\n",
    "colnames(M1)[1] <- 'feature'\n",
    "M2 <- gather(M1, key = 'batch_delta', value = 'value', -feature)\n",
    "M2$value <- as.numeric(M2$value)\n",
    "M2$batch_delta <- as.numeric(substring(M2$batch_delta, 2))"
   ]
  },
  {
   "cell_type": "code",
   "execution_count": 780,
   "metadata": {},
   "outputs": [],
   "source": [
    "metrics_short <- metrics3 %>%\n",
    "  t() %>%\n",
    "  data.frame() %>%\n",
    "  mutate(batch_delta = substring(rownames(.), 2))"
   ]
  },
  {
   "cell_type": "code",
   "execution_count": 321,
   "metadata": {},
   "outputs": [],
   "source": [
    "# ax <- ggplot(M2) +\n",
    "#   geom_line(\n",
    "#     aes(x = batch_delta, y = value, group = feature, col = feature),\n",
    "#     show.legend = T\n",
    "#   )"
   ]
  },
  {
   "cell_type": "code",
   "execution_count": 324,
   "metadata": {},
   "outputs": [],
   "source": [
    "# file <- '~/Dropbox/tmp/batch_delta-metrics1.pdf'\n",
    "# ggsave(file, ax, width = 6, height = 4)"
   ]
  },
  {
   "cell_type": "markdown",
   "metadata": {},
   "source": [
    "# Thoughts\n",
    "- Variance is not affected by shifts in means (same across genes)"
   ]
  },
  {
   "cell_type": "markdown",
   "metadata": {},
   "source": [
    "# Theoretical estimates"
   ]
  },
  {
   "cell_type": "code",
   "execution_count": null,
   "metadata": {},
   "outputs": [],
   "source": [
    "s2 <- function(delta, n) {\n",
    "  if (length(delta) != 1)\n",
    "    stop('Delta is not a scalar!')\n",
    "  \n",
    "  corr_factor <- n / (n - 1)\n",
    "  biased_est <- (delta / 2) ^ 2\n",
    "  unbiased_est <- biased_est * corr_factor\n",
    "  \n",
    "  c(unbiased = unbiased_est, biased = biased_est)\n",
    "}"
   ]
  },
  {
   "cell_type": "markdown",
   "metadata": {},
   "source": [
    "## PVB * SS_T"
   ]
  },
  {
   "cell_type": "code",
   "execution_count": 862,
   "metadata": {},
   "outputs": [],
   "source": [
    "var_total <- sapply(list_data, function(X) sum(apply(X, 1, var)))\n",
    "metrics3a <-  data.frame(var_total) %>%\n",
    "  rownames_to_column(var = 'batch_delta') %>%\n",
    "  merge(metrics_short, by = 'batch_delta') %>%\n",
    "  mutate_all(function(x) as.numeric(as.character(x))) %>%\n",
    "  mutate(var_delta = (batch_delta / 2)^2 * n * ngenes / (n - 1)) %>%\n",
    "  mutate(pct_var = var_delta / var_total)"
   ]
  },
  {
   "cell_type": "code",
   "execution_count": 926,
   "metadata": {},
   "outputs": [],
   "source": [
    "ax <- ggplot(metrics3a) +\n",
    "  geom_line(aes(x = pct_var, y = pvb)) + \n",
    "  geom_abline(slope = 1, intercept = 0, col = 'red') +\n",
    "  ylim(0, 0.2)\n",
    "#   theme(axis.text.x = element_text(angle = 0))"
   ]
  },
  {
   "cell_type": "code",
   "execution_count": 927,
   "metadata": {
    "scrolled": true
   },
   "outputs": [
    {
     "data": {
      "image/png": "[encoded data removed]",
      "text/plain": [
       "plot without title"
      ]
     },
     "metadata": {
      "image/png": {
       "height": 240,
       "width": 360
      }
     },
     "output_type": "display_data"
    }
   ],
   "source": [
    "ax"
   ]
  },
  {
   "cell_type": "code",
   "execution_count": 928,
   "metadata": {},
   "outputs": [],
   "source": [
    "file <- '~/Dropbox/tmp/pct_var-pvb.pdf'\n",
    "ggsave(file, ax, width = 3.5, height = 3)"
   ]
  },
  {
   "cell_type": "markdown",
   "metadata": {},
   "source": [
    "## Percentage magnitude\n",
    "$$\n",
    "BE\n",
    "    = \\frac{\\sum_{i,j,k,g} \\delta_k}{\\sum_{i,j,k,g} X'_{ijkg}}\n",
    "    = \\frac{n_i n_k \\delta_k}{\\sum_{i,j,k,g}\\alpha + \\delta_i + \\delta_k + \\delta_g + \\epsilon M_{ij}}\n",
    "    = \\frac{n_i n_k \\delta_k}\n",
    "    {n_i n_j \\alpha + n_i n_j \\epsilon M_{ij} + n_i \\sum_g n_g \\delta_g + n_j \\sum_i \\delta_i}\n",
    "$$\n",
    "\n",
    "where $X'$ is $X - \\delta_k$.\n",
    "\n",
    "$$ \\mathbb{E}(M) = 0.5 $$"
   ]
  },
  {
   "cell_type": "code",
   "execution_count": 932,
   "metadata": {},
   "outputs": [],
   "source": [
    "nbatch <- 2\n",
    "ncond <- 2\n",
    "npercond <- 20\n",
    "n <- nbatch * ncond * npercond\n",
    "\n",
    "ngenes <- 8000\n",
    "basemean <- 5000\n",
    "basedisp <- 2000\n",
    "ggstep <- 100\n",
    "bdispstep <- 0\n",
    "swvar <- 2000\n",
    "\n",
    "batch_delta <- 1000\n",
    "class_delta <- 10000"
   ]
  },
  {
   "cell_type": "code",
   "execution_count": 933,
   "metadata": {},
   "outputs": [],
   "source": [
    "calc_pct_expression <- function(\n",
    "  delta_k, delta_g, delta_i, \n",
    "  n_i, n_j, alpha, epsilon,\n",
    "  ret.obj = F\n",
    ") {\n",
    "  if (length(delta_i) != n_i)\n",
    "    stop(sprintf('delta_i has to be of length %d', n_i))\n",
    "  \n",
    "  n_k <- n / 2 \n",
    "  n_g <- n / 2\n",
    "  total_batch <- n_i * n_k * delta_k\n",
    "  total_x1 <- n_i * n_j * alpha + n_i * n_j * epsilon * 0.5 +\n",
    "    n_i * n_g * delta_g + n_j * sum(delta_i)\n",
    "  \n",
    "  if (ret.obj)\n",
    "    return(c(total_batch = total_batch, total_x = total_x1))\n",
    "  \n",
    "  total_batch / total_x1\n",
    "}"
   ]
  },
  {
   "cell_type": "code",
   "execution_count": 937,
   "metadata": {},
   "outputs": [],
   "source": [
    "delta_i <- seq(0, length.out = ngenes, by = ggstep)\n",
    "pct_magnitude <- sapply(\n",
    "  batch_deltas,\n",
    "  calc_pct_expression,\n",
    "  class_delta, delta_i,\n",
    "  ngenes, n, basemean, swvar\n",
    ")\n",
    "names(pct_magnitude) <- batch_deltas"
   ]
  },
  {
   "cell_type": "code",
   "execution_count": 943,
   "metadata": {},
   "outputs": [],
   "source": [
    "metrics3b <-  data.frame(pct_magnitude) %>%\n",
    "  rownames_to_column(var = 'batch_delta') %>%\n",
    "  merge(metrics_short, by = 'batch_delta') %>%\n",
    "  mutate_all(function(x) as.numeric(as.character(x)))"
   ]
  },
  {
   "cell_type": "code",
   "execution_count": 965,
   "metadata": {},
   "outputs": [],
   "source": [
    "ax <- ggplot(metrics3b) +\n",
    "  geom_line(aes(x = pct_magnitude, y = gpca.delta)) + \n",
    "  geom_abline(slope = 1, intercept = 0, col = 'red') +\n",
    "  ylim(0, 1)"
   ]
  },
  {
   "cell_type": "code",
   "execution_count": 966,
   "metadata": {
    "scrolled": true
   },
   "outputs": [
    {
     "data": {
      "image/png": "[encoded data removed]",
      "text/plain": [
       "plot without title"
      ]
     },
     "metadata": {
      "image/png": {
       "height": 240,
       "width": 360
      }
     },
     "output_type": "display_data"
    }
   ],
   "source": [
    "ax"
   ]
  },
  {
   "cell_type": "code",
   "execution_count": 967,
   "metadata": {},
   "outputs": [],
   "source": [
    "file <- '~/Dropbox/tmp/pct_magnitude-gpca.pdf'\n",
    "ggsave(file, ax, width = 3.5, height = 3)"
   ]
  },
  {
   "cell_type": "code",
   "execution_count": null,
   "metadata": {},
   "outputs": [],
   "source": []
  },
  {
   "cell_type": "code",
   "execution_count": 507,
   "metadata": {},
   "outputs": [],
   "source": [
    "# theoretical v.s. empirical expected sum\n",
    "totals <- calc_pct_expression(\n",
    "  0, class_delta, delta_i,\n",
    "  ngenes, n, basemean, swvar, ret.obj = T\n",
    ")\n",
    "\n",
    "X_0 <- list_data[['0']]\n",
    "empirical_sum <- sum(rowSums(X_0))\n",
    "theoretical_sum <- totals['total_x']\n",
    "(empirical_sum - theoretical_sum) / empirical_sum"
   ]
  }
 ],
 "metadata": {
  "kernelspec": {
   "display_name": "R",
   "language": "R",
   "name": "ir"
  },
  "language_info": {
   "codemirror_mode": "r",
   "file_extension": ".r",
   "mimetype": "text/x-r-source",
   "name": "R",
   "pygments_lexer": "r",
   "version": "3.5.1"
  }
 },
 "nbformat": 4,
 "nbformat_minor": 2
}

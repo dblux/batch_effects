{
 "cells": [
  {
   "cell_type": "code",
   "execution_count": 2,
   "id": "c3d3075d",
   "metadata": {
    "vscode": {
     "languageId": "r"
    }
   },
   "outputs": [],
   "source": [
    "library(BatchQC)\n",
    "\n",
    "library(ggplot2)\n",
    "library(cowplot)\n",
    "theme_set(theme_bw())"
   ]
  },
  {
   "cell_type": "code",
   "execution_count": 3,
   "id": "5194a471",
   "metadata": {
    "scrolled": true
   },
   "outputs": [
    {
     "name": "stdout",
     "output_type": "stream",
     "text": [
      "Sourced file: ../../relapse_prediction/R/batch.R\n",
      "Sourced file: ../../relapse_prediction/R/calc.R\n",
      "Sourced file: ../../relapse_prediction/R/gpca.R\n",
      "Sourced file: ../../relapse_prediction/R/misc.R\n",
      "Sourced file: ../../relapse_prediction/R/normalise.R\n",
      "Sourced file: ../../relapse_prediction/R/plot.R\n",
      "Sourced file: ../../relapse_prediction/R/predict.R\n",
      "Sourced file: ../../relapse_prediction/R/rvp.R\n",
      "Sourced file: ../../relapse_prediction/R/subset.R\n",
      "Sourced file: ../../relapse_prediction/R/utils.R\n"
     ]
    }
   ],
   "source": [
    "# source files\n",
    "src_files <- list.files('../../relapse_prediction/R', full.names = TRUE)\n",
    "for (f in src_files) {\n",
    "  source(f)\n",
    "  cat(sprintf('Sourced file: %s\\n', f))\n",
    "}"
   ]
  },
  {
   "cell_type": "markdown",
   "id": "b235b029",
   "metadata": {},
   "source": [
    "# BatchQC - RNA-seq data"
   ]
  },
  {
   "cell_type": "markdown",
   "id": "4f4fa6fe",
   "metadata": {},
   "source": [
    "## Balanced (small) - Different magnitudes"
   ]
  },
  {
   "cell_type": "code",
   "execution_count": 2,
   "id": "2451c4ba",
   "metadata": {
    "vscode": {
     "languageId": "r"
    }
   },
   "outputs": [],
   "source": [
    "nbatch <- 2\n",
    "ncond <- 2\n",
    "npercond <- 20\n",
    "n <- nbatch * ncond * npercond\n",
    "\n",
    "metadata <- data.frame(\n",
    "  Batch = as.factor(rep(seq(nbatch), each = npercond * ncond)),\n",
    "  Class = rep(rep(LETTERS[seq(ncond)], each = npercond), nbatch)\n",
    ")\n",
    "sid <- rep(seq(npercond), nbatch * ncond)\n",
    "id <- paste0(\n",
    "  paste0(metadata$Class, metadata$Batch),\n",
    "  sprintf('_%02d', sid)\n",
    ")\n",
    "rownames(metadata) <- id"
   ]
  },
  {
   "cell_type": "code",
   "execution_count": 33,
   "id": "71e5a889",
   "metadata": {
    "vscode": {
     "languageId": "r"
    }
   },
   "outputs": [],
   "source": [
    "ngenes <- 8000\n",
    "basemean <- 5000\n",
    "basedisp <- 2000\n",
    "ggstep <- 100\n",
    "bdispstep <- 0\n",
    "swvar <- 2000\n",
    "\n",
    "batch_delta <- 5000\n",
    "class_delta <- 10000\n",
    "\n",
    "data <- rnaseq_sim(\n",
    "  ngenes = ngenes, nbatch = nbatch, ncond = ncond, npercond = npercond,\n",
    "  basemean = basemean, basedisp = basedisp, swvar = swvar, ggstep = ggstep,\n",
    "  ccstep = class_delta, bbstep = batch_delta, bdispstep = bdispstep\n",
    ")\n",
    "colnames(data) <- id\n",
    "file <- sprintf('data/sizes/batchqc-%d.rds', n)\n",
    "saveRDS(data, file)\n",
    "# write.table(data, file, quote = F, sep = '\\t')"
   ]
  },
  {
   "cell_type": "code",
   "execution_count": 1,
   "id": "a45d3a57",
   "metadata": {
    "scrolled": true,
    "vscode": {
     "languageId": "r"
    }
   },
   "outputs": [
    {
     "ename": "ERROR",
     "evalue": "Error in ggplot_pca(data, metadata, col = \"Batch\", pch = \"Class\"): could not find function \"ggplot_pca\"\n",
     "output_type": "error",
     "traceback": [
      "Error in ggplot_pca(data, metadata, col = \"Batch\", pch = \"Class\"): could not find function \"ggplot_pca\"\nTraceback:\n"
     ]
    }
   ],
   "source": [
    "ax <- ggplot_pca(data, metadata, col = 'Batch', pch = 'Class')\n",
    "ax"
   ]
  },
  {
   "cell_type": "code",
   "execution_count": 9,
   "id": "40e2fd76",
   "metadata": {
    "scrolled": true,
    "vscode": {
     "languageId": "r"
    }
   },
   "outputs": [],
   "source": [
    "file <- sprintf('~/Dropbox/tmp/pca_rnaseq-bal_%d.pdf', batch_delta)\n",
    "ggsave(file, ax, width = 6, height = 4)"
   ]
  },
  {
   "cell_type": "markdown",
   "id": "2d3b22c0",
   "metadata": {},
   "source": [
    "## Imbalanced (small) - Different magnitudes"
   ]
  },
  {
   "cell_type": "code",
   "execution_count": 3,
   "id": "8e463ab4",
   "metadata": {
    "vscode": {
     "languageId": "r"
    }
   },
   "outputs": [],
   "source": [
    "nbatch <- 2\n",
    "ncond <- 2\n",
    "npercond <- 30\n",
    "n <- nbatch * ncond * npercond\n",
    "\n",
    "metadata <- data.frame(\n",
    "  Batch = as.factor(rep(seq(nbatch), each = npercond * ncond)),\n",
    "  Class = rep(rep(LETTERS[seq(ncond)], each = npercond), nbatch)\n",
    ")\n",
    "sid <- rep(seq(npercond), nbatch * ncond)\n",
    "id <- paste0(\n",
    "  paste0(metadata$Class, metadata$Batch),\n",
    "  sprintf('_%02d', sid)\n",
    ")\n",
    "rownames(metadata) <- id"
   ]
  },
  {
   "cell_type": "code",
   "execution_count": 27,
   "id": "04d50a19",
   "metadata": {
    "vscode": {
     "languageId": "r"
    }
   },
   "outputs": [],
   "source": [
    "ngenes <- 8000\n",
    "basemean <- 5000\n",
    "basedisp <- 2000\n",
    "ggstep <- 100\n",
    "bdispstep <- 0\n",
    "swvar <- 2000\n",
    "\n",
    "batch_delta <- 10000\n",
    "class_delta <- 10000\n",
    "\n",
    "data <- rnaseq_sim(\n",
    "  ngenes = ngenes, nbatch = nbatch, ncond = ncond, npercond = npercond,\n",
    "  basemean = basemean, basedisp = basedisp, swvar = swvar, ggstep = ggstep,\n",
    "  ccstep = class_delta, bbstep = batch_delta, bdispstep = bdispstep\n",
    ")\n",
    "colnames(data) <- id\n",
    "file <- sprintf('~/Dropbox/tmp/imbal-%d.tsv', batch_delta)\n",
    "write.table(data, file, quote = F, sep = '\\t')"
   ]
  },
  {
   "cell_type": "code",
   "execution_count": 28,
   "id": "6aeaab8d",
   "metadata": {
    "vscode": {
     "languageId": "r"
    }
   },
   "outputs": [],
   "source": [
    "ax <- ggplot_pca(data, metadata, col = 'Batch', pch = 'Class')\n",
    "file <- sprintf('~/Dropbox/tmp/pca-imbal_%d.pdf', batch_delta)\n",
    "ggsave(file, ax, width = 6, height = 4)"
   ]
  },
  {
   "cell_type": "markdown",
   "id": "8dccff1c",
   "metadata": {},
   "source": [
    "## Different sample sizes"
   ]
  },
  {
   "cell_type": "code",
   "execution_count": null,
   "id": "a9b93419",
   "metadata": {},
   "outputs": [],
   "source": [
    "nbatch <- 2\n",
    "ncond <- 2\n",
    "npercond <- 2500 # (500, 1000, 1500, 2000, 2500)\n",
    "n <- nbatch * ncond * npercond\n",
    "\n",
    "metadata <- data.frame(\n",
    "  Batch = as.factor(rep(seq(nbatch), each = npercond * ncond)),\n",
    "  Class = rep(rep(LETTERS[seq(ncond)], each = npercond), nbatch)\n",
    ")\n",
    "sid <- rep(seq(npercond), nbatch * ncond)\n",
    "id <- paste0(\n",
    "  paste0(metadata$Class, metadata$Batch),\n",
    "  sprintf('_%02d', sid)\n",
    ")\n",
    "rownames(metadata) <- id"
   ]
  },
  {
   "cell_type": "code",
   "execution_count": null,
   "id": "a4a3246e",
   "metadata": {},
   "outputs": [],
   "source": [
    "ngenes <- 8000\n",
    "basemean <- 5000\n",
    "basedisp <- 2000\n",
    "ggstep <- 100\n",
    "bdispstep <- 0\n",
    "swvar <- 2000\n",
    "\n",
    "batch_delta <- 5000\n",
    "class_delta <- 10000\n",
    "\n",
    "data <- rnaseq_sim(\n",
    "  ngenes = ngenes, nbatch = nbatch, ncond = ncond, npercond = npercond,\n",
    "  basemean = basemean, basedisp = basedisp, swvar = swvar, ggstep = ggstep,\n",
    "  ccstep = class_delta, bbstep = batch_delta, bdispstep = bdispstep\n",
    ")\n",
    "colnames(data) <- id\n",
    "file <- sprintf('data/sizes/batchqc-%d.rds', n)\n",
    "saveRDS(data, file)\n",
    "# write.table(data, file, quote = F, sep = '\\t')"
   ]
  },
  {
   "cell_type": "markdown",
   "id": "0ae70990",
   "metadata": {},
   "source": [
    "## Imbalanced (large) - Different magnitudes"
   ]
  },
  {
   "cell_type": "code",
   "execution_count": 3,
   "id": "44f507c1",
   "metadata": {},
   "outputs": [],
   "source": [
    "nbatch <- 2\n",
    "ncond <- 2\n",
    "npercond <- 1500\n",
    "n <- nbatch * ncond * npercond\n",
    "\n",
    "metadata <- data.frame(\n",
    "  Batch = as.factor(rep(seq(nbatch), each = npercond * ncond)),\n",
    "  Class = rep(rep(LETTERS[seq(ncond)], each = npercond), nbatch)\n",
    ")\n",
    "sid <- rep(seq(npercond), nbatch * ncond)\n",
    "id <- paste0(\n",
    "  paste0(metadata$Class, metadata$Batch),\n",
    "  sprintf('_%02d', sid)\n",
    ")\n",
    "rownames(metadata) <- id"
   ]
  },
  {
   "cell_type": "code",
   "execution_count": 4,
   "id": "186330f4",
   "metadata": {},
   "outputs": [],
   "source": [
    "batch_deltas <- seq(0, 10000, 1000)"
   ]
  },
  {
   "cell_type": "code",
   "execution_count": 6,
   "id": "b269b001",
   "metadata": {},
   "outputs": [
    {
     "name": "stdout",
     "output_type": "stream",
     "text": [
      "[1] \"../data/batchqc/large/imbalanced/imbal_large-0.rds\"\n"
     ]
    }
   ],
   "source": [
    "ngenes <- 8000\n",
    "basemean <- 5000\n",
    "basedisp <- 2000\n",
    "ggstep <- 100\n",
    "bdispstep <- 0\n",
    "swvar <- 2000\n",
    "\n",
    "batch_delta <- batch_deltas[1]\n",
    "class_delta <- 10000\n",
    "\n",
    "data <- rnaseq_sim(\n",
    "  ngenes = ngenes, nbatch = nbatch, ncond = ncond, npercond = npercond,\n",
    "  basemean = basemean, basedisp = basedisp, swvar = swvar, ggstep = ggstep,\n",
    "  ccstep = class_delta, bbstep = batch_delta, bdispstep = bdispstep\n",
    ")\n",
    "colnames(data) <- id\n",
    "\n",
    "file <- sprintf('../data/batchqc/large/imbalanced/imbal_large-%d.rds', batch_delta)\n",
    "saveRDS(data, file)\n",
    "print(file)\n",
    "# write.table(data, file, quote = F, sep = '\\t')"
   ]
  },
  {
   "cell_type": "markdown",
   "id": "e8e9db9b",
   "metadata": {},
   "source": [
    "# Simulating additive batch effects\n",
    "#### Poisson distribution\n",
    "Mean = Variance = $\\lambda$"
   ]
  },
  {
   "cell_type": "code",
   "execution_count": 5,
   "id": "0d70160e",
   "metadata": {
    "scrolled": false
   },
   "outputs": [],
   "source": [
    "# assuming two-batch two-class design with batches and classes of the same size\n",
    "add_batch_effects <- function(X, delta) {\n",
    "  p <- nrow(X)\n",
    "  nperbatch <- ncol(X) / 2  # two batches of equal size\n",
    "  epsilon_k <- matrix(rpois(p * nperbatch, delta), p, nperbatch)\n",
    "  epsilon <- cbind(matrix(0, p, nperbatch), epsilon_k)\n",
    "  X + epsilon\n",
    "}"
   ]
  },
  {
   "cell_type": "markdown",
   "id": "8a2b62f2",
   "metadata": {},
   "source": [
    "## Balanced"
   ]
  },
  {
   "cell_type": "code",
   "execution_count": 8,
   "id": "09d1a77a",
   "metadata": {},
   "outputs": [],
   "source": [
    "file <- '../data/batchqc/small/additive/balanced/bal-0.tsv'\n",
    "balanced <- read.table(file, header = TRUE, sep = '\\t', row.names = 1)"
   ]
  },
  {
   "cell_type": "code",
   "execution_count": 9,
   "id": "b5e341fa",
   "metadata": {},
   "outputs": [],
   "source": [
    "# metadata\n",
    "ncond <- 20\n",
    "batch <- as.factor(rep(1:2, each = ncond * 2))\n",
    "class <- rep(rep(LETTERS[1:2], each = ncond), 2)\n",
    "metadata_bal <- data.frame(batch, class, row.names = colnames(balanced))"
   ]
  },
  {
   "cell_type": "code",
   "execution_count": 12,
   "id": "c692ae0a",
   "metadata": {},
   "outputs": [],
   "source": [
    "for (delta in seq(1000, 10000, 1000)) {\n",
    "  X1 <- add_batch_effects(balanced, delta, 40)\n",
    "  file <- sprintf('../data/batchqc/small/additive/balanced/bal-%d.tsv', delta)\n",
    "  write.table(X1, file, quote = F, sep = '\\t')  \n",
    "}"
   ]
  },
  {
   "cell_type": "code",
   "execution_count": 13,
   "id": "6d3cf527",
   "metadata": {
    "scrolled": true
   },
   "outputs": [],
   "source": [
    "# # check variance of original batchqc simulated data\n",
    "# i <- 1\n",
    "# feature <- cbind(value = as.vector(data.matrix(X1[i, ])), metadata_bal)\n",
    "# ax <- ggplot(feature) +\n",
    "#   geom_point(\n",
    "#     aes(x = class, y = value, color = batch),\n",
    "#     position = position_jitterdodge()\n",
    "#   )\n",
    "# ax\n",
    "\n",
    "# file <- sprintf('~/Dropbox/tmp/bal_10000-feat_%d.pdf', i)\n",
    "# ggsave(file, ax, width = 6, height = 4)"
   ]
  },
  {
   "cell_type": "markdown",
   "id": "8b83eefe",
   "metadata": {},
   "source": [
    "## Imbalanced"
   ]
  },
  {
   "cell_type": "code",
   "execution_count": 6,
   "id": "f5e06145",
   "metadata": {},
   "outputs": [],
   "source": [
    "file <- '../data/batchqc/small/additive/imbalanced/imbal-0.tsv'\n",
    "imbalanced <- read.table(file, header = TRUE, sep = '\\t', row.names = 1)"
   ]
  },
  {
   "cell_type": "code",
   "execution_count": 7,
   "id": "c8358651",
   "metadata": {},
   "outputs": [],
   "source": [
    "# metadata\n",
    "ncond <- 30\n",
    "batch <- as.factor(rep(1:2, each = ncond * 2))\n",
    "class <- rep(rep(LETTERS[1:2], each = ncond), 2)\n",
    "metadata_imbal <- data.frame(batch, class, row.names = colnames(imbalanced))"
   ]
  },
  {
   "cell_type": "code",
   "execution_count": 8,
   "id": "5f519e5c",
   "metadata": {},
   "outputs": [],
   "source": [
    "for (delta in seq(1000, 10000, 1000)) {\n",
    "  X1 <- add_batch_effects(imbalanced, delta)\n",
    "  file <- sprintf('../data/batchqc/small/additive/imbalanced/imbal-%d.tsv', delta)\n",
    "  write.table(X1, file, quote = F, sep = '\\t')  \n",
    "}"
   ]
  },
  {
   "cell_type": "markdown",
   "id": "26dcf496",
   "metadata": {},
   "source": [
    "# Real RNA-Seq data\n",
    "- GSE60450"
   ]
  }
 ],
 "metadata": {
  "kernelspec": {
   "display_name": "R",
   "language": "R",
   "name": "ir"
  },
  "language_info": {
   "codemirror_mode": "r",
   "file_extension": ".r",
   "mimetype": "text/x-r-source",
   "name": "R",
   "pygments_lexer": "r",
   "version": "4.2.3"
  }
 },
 "nbformat": 4,
 "nbformat_minor": 5
}

{
 "cells": [
  {
   "cell_type": "code",
   "execution_count": 1,
   "metadata": {
    "scrolled": true
   },
   "outputs": [
    {
     "name": "stderr",
     "output_type": "stream",
     "text": [
      "\n",
      "Attaching package: ‘dplyr’\n",
      "\n",
      "\n",
      "The following objects are masked from ‘package:stats’:\n",
      "\n",
      "    filter, lag\n",
      "\n",
      "\n",
      "The following objects are masked from ‘package:base’:\n",
      "\n",
      "    intersect, setdiff, setequal, union\n",
      "\n",
      "\n",
      "Loading required package: BiocGenerics\n",
      "\n",
      "\n",
      "Attaching package: ‘BiocGenerics’\n",
      "\n",
      "\n",
      "The following objects are masked from ‘package:dplyr’:\n",
      "\n",
      "    combine, intersect, setdiff, union\n",
      "\n",
      "\n",
      "The following objects are masked from ‘package:stats’:\n",
      "\n",
      "    IQR, mad, sd, var, xtabs\n",
      "\n",
      "\n",
      "The following objects are masked from ‘package:base’:\n",
      "\n",
      "    anyDuplicated, aperm, append, as.data.frame, basename, cbind,\n",
      "    colnames, dirname, do.call, duplicated, eval, evalq, Filter, Find,\n",
      "    get, grep, grepl, intersect, is.unsorted, lapply, Map, mapply,\n",
      "    match, mget, order, paste, pmax, pmax.int, pmin, pmin.int,\n",
      "    Position, rank, rbind, Reduce, rownames, sapply, setdiff, sort,\n",
      "    table, tapply, union, unique, unsplit, which.max, which.min\n",
      "\n",
      "\n",
      "Welcome to Bioconductor\n",
      "\n",
      "    Vignettes contain introductory material; view with\n",
      "    'browseVignettes()'. To cite Bioconductor, see\n",
      "    'citation(\"Biobase\")', and for packages 'citation(\"pkgname\")'.\n",
      "\n",
      "\n"
     ]
    }
   ],
   "source": [
    "library(dplyr)\n",
    "library(tibble)\n",
    "library(tidyr)\n",
    "\n",
    "library(Biobase)\n",
    "library(pvca)\n",
    "\n",
    "library(ggplot2)\n",
    "library(cowplot)\n",
    "theme_set(theme_bw())"
   ]
  },
  {
   "cell_type": "code",
   "execution_count": 2,
   "metadata": {},
   "outputs": [],
   "source": [
    "options(repr.plot.width = 6, repr.plot.height = 4)"
   ]
  },
  {
   "cell_type": "code",
   "execution_count": 3,
   "metadata": {},
   "outputs": [
    {
     "name": "stdout",
     "output_type": "stream",
     "text": [
      "Sourced file: ../../relapse_prediction/R/batch.R\n",
      "Sourced file: ../../relapse_prediction/R/calc.R\n",
      "Sourced file: ../../relapse_prediction/R/gpca.R\n",
      "Sourced file: ../../relapse_prediction/R/misc.R\n",
      "Sourced file: ../../relapse_prediction/R/normalise.R\n",
      "Sourced file: ../../relapse_prediction/R/plot.R\n",
      "Sourced file: ../../relapse_prediction/R/predict.R\n",
      "Sourced file: ../../relapse_prediction/R/rvp.R\n",
      "Sourced file: ../../relapse_prediction/R/subset.R\n",
      "Sourced file: ../../relapse_prediction/R/utils.R\n"
     ]
    }
   ],
   "source": [
    "# source files\n",
    "src_files <- list.files('../../relapse_prediction/R', full.names = TRUE)\n",
    "for (f in src_files) {\n",
    "  source(f)\n",
    "  cat(sprintf('Sourced file: %s\\n', f))\n",
    "}"
   ]
  },
  {
   "cell_type": "code",
   "execution_count": 4,
   "metadata": {},
   "outputs": [],
   "source": [
    "quantify_batch <- function(X, metadata) {\n",
    "  batch <- metadata[colnames(X), 'batch']\n",
    "  class <- metadata[colnames(X), 'class']\n",
    "\n",
    "  rvp <- RVP(t(X), batch, class)\n",
    "  gpca <- gPCA.batchdetect(t(X), batch)\n",
    "    \n",
    "  # create expressionset from biobase package\n",
    "  meta_metadata <- data.frame(labelDescription = colnames(metadata))\n",
    "  pheno_data <- new(\n",
    "    \"AnnotatedDataFrame\",\n",
    "    data = metadata, varMetadata = meta_metadata\n",
    "  )\n",
    "  eset <- ExpressionSet(assayData = as.matrix(X), phenoData = pheno_data)\n",
    "  pvca_obj <- pvcaBatchAssess(eset, c('batch', 'class'), 0.6)\n",
    "  var_pcts <- as.vector(pvca_obj$dat)\n",
    "  names(var_pcts) <- as.vector(pvca_obj$label)\n",
    "\n",
    "  c(\n",
    "    gpca = gpca$delta,\n",
    "    pvca = var_pcts['batch'],\n",
    "    rvp = rvp\n",
    "  )\n",
    "}"
   ]
  },
  {
   "cell_type": "markdown",
   "metadata": {},
   "source": [
    "# MAQC"
   ]
  },
  {
   "cell_type": "code",
   "execution_count": 6,
   "metadata": {},
   "outputs": [
    {
     "name": "stdout",
     "output_type": "stream",
     "text": [
      "AFX_1_A1 AFX_1_A2 AFX_1_A3 AFX_1_A4 AFX_1_A5 AFX_1_B1 \n",
      "6.167267 4.921776 6.064782 5.998307 5.594024 6.396092 \n",
      "[1] \"No. of ambiguous and AFFY probesets removed: 17320\"\n",
      "[1] \"No. of probesets removed = 18820\"\n"
     ]
    }
   ],
   "source": [
    "file_maqc <- \"../data/MAQC-I/processed/mas5_original-ref.tsv\"\n",
    "raw_maqc <- read.table(file_maqc, sep = \"\\t\", header = T, row.names = 1)\n",
    "\n",
    "# MAQC metadata\n",
    "# Class A - Universal Human Reference RNA (UHRR)\n",
    "# Class B - Human Brain Reference RNA (HBRR)\n",
    "batch_info <- as.factor(rep(1:6, each = 10))\n",
    "class_info <- rep(rep(LETTERS[1:2], each = 5), 6)\n",
    "metadata_maqc <- data.frame(\n",
    "  batch_info, class_info,\n",
    "  row.names = colnames(raw_maqc)\n",
    ")\n",
    "\n",
    "# SCALE->REMOVE->FILTER->LOG\n",
    "scaled_maqc <- raw_maqc %>%\n",
    "  normaliseMeanScaling()\n",
    "\n",
    "log_maqc <- scaled_maqc %>%\n",
    "  removeProbesets() %>%\n",
    "  filterProbesets(0.7, metadata_maqc) %>%\n",
    "  log2_transform()"
   ]
  },
  {
   "cell_type": "code",
   "execution_count": 29,
   "metadata": {
    "scrolled": false
   },
   "outputs": [
    {
     "data": {
      "text/html": [
       "<style>\n",
       ".list-inline {list-style: none; margin:0; padding: 0}\n",
       ".list-inline>li {display: inline-block}\n",
       ".list-inline>li:not(:last-child)::after {content: \"\\00b7\"; padding: 0 .5ex}\n",
       "</style>\n",
       "<ol class=list-inline><li>'AFX_1_A1'</li><li>'AFX_1_A2'</li><li>'AFX_1_A3'</li><li>'AFX_1_A4'</li><li>'AFX_1_A5'</li><li>'AFX_1_B1'</li><li>'AFX_1_B2'</li><li>'AFX_1_B3'</li><li>'AFX_1_B4'</li><li>'AFX_1_B5'</li><li>'AFX_2_A1'</li><li>'AFX_2_A2'</li><li>'AFX_2_A3'</li><li>'AFX_2_A4'</li><li>'AFX_2_A5'</li><li>'AFX_2_B1'</li><li>'AFX_2_B2'</li><li>'AFX_2_B3'</li><li>'AFX_2_B4'</li><li>'AFX_2_B5'</li><li>'AFX_3_A1'</li><li>'AFX_3_A2'</li><li>'AFX_3_A3'</li><li>'AFX_3_A4'</li><li>'AFX_3_A5'</li><li>'AFX_3_B1'</li><li>'AFX_3_B2'</li><li>'AFX_3_B3'</li><li>'AFX_3_B4'</li><li>'AFX_3_B5'</li><li>'AFX_4_A1'</li><li>'AFX_4_A2'</li><li>'AFX_4_A3'</li><li>'AFX_4_A4'</li><li>'AFX_4_A5'</li><li>'AFX_4_B1'</li><li>'AFX_4_B2'</li><li>'AFX_4_B3'</li><li>'AFX_4_B4'</li><li>'AFX_4_B5'</li><li>'AFX_5_A1'</li><li>'AFX_5_A2'</li><li>'AFX_5_A3'</li><li>'AFX_5_A4'</li><li>'AFX_5_A5'</li><li>'AFX_5_B1'</li><li>'AFX_5_B2'</li><li>'AFX_5_B3'</li><li>'AFX_5_B4'</li><li>'AFX_5_B5'</li><li>'AFX_6_A1'</li><li>'AFX_6_A2'</li><li>'AFX_6_A3'</li><li>'AFX_6_A4'</li><li>'AFX_6_A5'</li><li>'AFX_6_B1'</li><li>'AFX_6_B2'</li><li>'AFX_6_B3'</li><li>'AFX_6_B4'</li><li>'AFX_6_B5'</li></ol>\n"
      ],
      "text/latex": [
       "\\begin{enumerate*}\n",
       "\\item 'AFX\\_1\\_A1'\n",
       "\\item 'AFX\\_1\\_A2'\n",
       "\\item 'AFX\\_1\\_A3'\n",
       "\\item 'AFX\\_1\\_A4'\n",
       "\\item 'AFX\\_1\\_A5'\n",
       "\\item 'AFX\\_1\\_B1'\n",
       "\\item 'AFX\\_1\\_B2'\n",
       "\\item 'AFX\\_1\\_B3'\n",
       "\\item 'AFX\\_1\\_B4'\n",
       "\\item 'AFX\\_1\\_B5'\n",
       "\\item 'AFX\\_2\\_A1'\n",
       "\\item 'AFX\\_2\\_A2'\n",
       "\\item 'AFX\\_2\\_A3'\n",
       "\\item 'AFX\\_2\\_A4'\n",
       "\\item 'AFX\\_2\\_A5'\n",
       "\\item 'AFX\\_2\\_B1'\n",
       "\\item 'AFX\\_2\\_B2'\n",
       "\\item 'AFX\\_2\\_B3'\n",
       "\\item 'AFX\\_2\\_B4'\n",
       "\\item 'AFX\\_2\\_B5'\n",
       "\\item 'AFX\\_3\\_A1'\n",
       "\\item 'AFX\\_3\\_A2'\n",
       "\\item 'AFX\\_3\\_A3'\n",
       "\\item 'AFX\\_3\\_A4'\n",
       "\\item 'AFX\\_3\\_A5'\n",
       "\\item 'AFX\\_3\\_B1'\n",
       "\\item 'AFX\\_3\\_B2'\n",
       "\\item 'AFX\\_3\\_B3'\n",
       "\\item 'AFX\\_3\\_B4'\n",
       "\\item 'AFX\\_3\\_B5'\n",
       "\\item 'AFX\\_4\\_A1'\n",
       "\\item 'AFX\\_4\\_A2'\n",
       "\\item 'AFX\\_4\\_A3'\n",
       "\\item 'AFX\\_4\\_A4'\n",
       "\\item 'AFX\\_4\\_A5'\n",
       "\\item 'AFX\\_4\\_B1'\n",
       "\\item 'AFX\\_4\\_B2'\n",
       "\\item 'AFX\\_4\\_B3'\n",
       "\\item 'AFX\\_4\\_B4'\n",
       "\\item 'AFX\\_4\\_B5'\n",
       "\\item 'AFX\\_5\\_A1'\n",
       "\\item 'AFX\\_5\\_A2'\n",
       "\\item 'AFX\\_5\\_A3'\n",
       "\\item 'AFX\\_5\\_A4'\n",
       "\\item 'AFX\\_5\\_A5'\n",
       "\\item 'AFX\\_5\\_B1'\n",
       "\\item 'AFX\\_5\\_B2'\n",
       "\\item 'AFX\\_5\\_B3'\n",
       "\\item 'AFX\\_5\\_B4'\n",
       "\\item 'AFX\\_5\\_B5'\n",
       "\\item 'AFX\\_6\\_A1'\n",
       "\\item 'AFX\\_6\\_A2'\n",
       "\\item 'AFX\\_6\\_A3'\n",
       "\\item 'AFX\\_6\\_A4'\n",
       "\\item 'AFX\\_6\\_A5'\n",
       "\\item 'AFX\\_6\\_B1'\n",
       "\\item 'AFX\\_6\\_B2'\n",
       "\\item 'AFX\\_6\\_B3'\n",
       "\\item 'AFX\\_6\\_B4'\n",
       "\\item 'AFX\\_6\\_B5'\n",
       "\\end{enumerate*}\n"
      ],
      "text/markdown": [
       "1. 'AFX_1_A1'\n",
       "2. 'AFX_1_A2'\n",
       "3. 'AFX_1_A3'\n",
       "4. 'AFX_1_A4'\n",
       "5. 'AFX_1_A5'\n",
       "6. 'AFX_1_B1'\n",
       "7. 'AFX_1_B2'\n",
       "8. 'AFX_1_B3'\n",
       "9. 'AFX_1_B4'\n",
       "10. 'AFX_1_B5'\n",
       "11. 'AFX_2_A1'\n",
       "12. 'AFX_2_A2'\n",
       "13. 'AFX_2_A3'\n",
       "14. 'AFX_2_A4'\n",
       "15. 'AFX_2_A5'\n",
       "16. 'AFX_2_B1'\n",
       "17. 'AFX_2_B2'\n",
       "18. 'AFX_2_B3'\n",
       "19. 'AFX_2_B4'\n",
       "20. 'AFX_2_B5'\n",
       "21. 'AFX_3_A1'\n",
       "22. 'AFX_3_A2'\n",
       "23. 'AFX_3_A3'\n",
       "24. 'AFX_3_A4'\n",
       "25. 'AFX_3_A5'\n",
       "26. 'AFX_3_B1'\n",
       "27. 'AFX_3_B2'\n",
       "28. 'AFX_3_B3'\n",
       "29. 'AFX_3_B4'\n",
       "30. 'AFX_3_B5'\n",
       "31. 'AFX_4_A1'\n",
       "32. 'AFX_4_A2'\n",
       "33. 'AFX_4_A3'\n",
       "34. 'AFX_4_A4'\n",
       "35. 'AFX_4_A5'\n",
       "36. 'AFX_4_B1'\n",
       "37. 'AFX_4_B2'\n",
       "38. 'AFX_4_B3'\n",
       "39. 'AFX_4_B4'\n",
       "40. 'AFX_4_B5'\n",
       "41. 'AFX_5_A1'\n",
       "42. 'AFX_5_A2'\n",
       "43. 'AFX_5_A3'\n",
       "44. 'AFX_5_A4'\n",
       "45. 'AFX_5_A5'\n",
       "46. 'AFX_5_B1'\n",
       "47. 'AFX_5_B2'\n",
       "48. 'AFX_5_B3'\n",
       "49. 'AFX_5_B4'\n",
       "50. 'AFX_5_B5'\n",
       "51. 'AFX_6_A1'\n",
       "52. 'AFX_6_A2'\n",
       "53. 'AFX_6_A3'\n",
       "54. 'AFX_6_A4'\n",
       "55. 'AFX_6_A5'\n",
       "56. 'AFX_6_B1'\n",
       "57. 'AFX_6_B2'\n",
       "58. 'AFX_6_B3'\n",
       "59. 'AFX_6_B4'\n",
       "60. 'AFX_6_B5'\n",
       "\n",
       "\n"
      ],
      "text/plain": [
       " [1] \"AFX_1_A1\" \"AFX_1_A2\" \"AFX_1_A3\" \"AFX_1_A4\" \"AFX_1_A5\" \"AFX_1_B1\"\n",
       " [7] \"AFX_1_B2\" \"AFX_1_B3\" \"AFX_1_B4\" \"AFX_1_B5\" \"AFX_2_A1\" \"AFX_2_A2\"\n",
       "[13] \"AFX_2_A3\" \"AFX_2_A4\" \"AFX_2_A5\" \"AFX_2_B1\" \"AFX_2_B2\" \"AFX_2_B3\"\n",
       "[19] \"AFX_2_B4\" \"AFX_2_B5\" \"AFX_3_A1\" \"AFX_3_A2\" \"AFX_3_A3\" \"AFX_3_A4\"\n",
       "[25] \"AFX_3_A5\" \"AFX_3_B1\" \"AFX_3_B2\" \"AFX_3_B3\" \"AFX_3_B4\" \"AFX_3_B5\"\n",
       "[31] \"AFX_4_A1\" \"AFX_4_A2\" \"AFX_4_A3\" \"AFX_4_A4\" \"AFX_4_A5\" \"AFX_4_B1\"\n",
       "[37] \"AFX_4_B2\" \"AFX_4_B3\" \"AFX_4_B4\" \"AFX_4_B5\" \"AFX_5_A1\" \"AFX_5_A2\"\n",
       "[43] \"AFX_5_A3\" \"AFX_5_A4\" \"AFX_5_A5\" \"AFX_5_B1\" \"AFX_5_B2\" \"AFX_5_B3\"\n",
       "[49] \"AFX_5_B4\" \"AFX_5_B5\" \"AFX_6_A1\" \"AFX_6_A2\" \"AFX_6_A3\" \"AFX_6_A4\"\n",
       "[55] \"AFX_6_A5\" \"AFX_6_B1\" \"AFX_6_B2\" \"AFX_6_B3\" \"AFX_6_B4\" \"AFX_6_B5\""
      ]
     },
     "metadata": {},
     "output_type": "display_data"
    }
   ],
   "source": [
    "colnames(metadata_maqc)"
   ]
  },
  {
   "cell_type": "code",
   "execution_count": 68,
   "metadata": {
    "scrolled": true
   },
   "outputs": [
    {
     "data": {
      "image/png": "[encoded data removed]",
      "text/plain": [
       "Plot with title “Histogram of log_maqc[, 20]”"
      ]
     },
     "metadata": {
      "image/png": {
       "height": 240,
       "width": 360
      }
     },
     "output_type": "display_data"
    }
   ],
   "source": [
    "hist(log_maqc[, 20])"
   ]
  },
  {
   "cell_type": "code",
   "execution_count": 32,
   "metadata": {},
   "outputs": [
    {
     "data": {
      "image/png": "[encoded data removed]",
      "text/plain": [
       "Plot with title “density.default(x = log_maqc[, 11])”"
      ]
     },
     "metadata": {
      "image/png": {
       "height": 240,
       "width": 360
      }
     },
     "output_type": "display_data"
    }
   ],
   "source": [
    "plot(density(log_maqc[,11]))"
   ]
  },
  {
   "cell_type": "code",
   "execution_count": 80,
   "metadata": {},
   "outputs": [
    {
     "data": {
      "image/png": "[encoded data removed]",
      "text/plain": [
       "plot without title"
      ]
     },
     "metadata": {
      "image/png": {
       "height": 240,
       "width": 360
      }
     },
     "output_type": "display_data"
    }
   ],
   "source": [
    "ggplot_pca(\n",
    "  maqc_bal, metadata_maqc,\n",
    "  col = 'batch_info', pch = 'class_info'\n",
    ")"
   ]
  },
  {
   "cell_type": "code",
   "execution_count": 33,
   "metadata": {},
   "outputs": [],
   "source": [
    "# log_nozero <- log_maqc[rowSums(log_maqc == 0) == 0, ]"
   ]
  },
  {
   "cell_type": "markdown",
   "metadata": {},
   "source": [
    "## Investigate: Batch effects"
   ]
  },
  {
   "cell_type": "code",
   "execution_count": 111,
   "metadata": {},
   "outputs": [],
   "source": [
    "feat_vars <- apply(log_maqc, 1, var)"
   ]
  },
  {
   "cell_type": "code",
   "execution_count": 109,
   "metadata": {},
   "outputs": [
    {
     "name": "stdout",
     "output_type": "stream",
     "text": [
      "203540_at \n",
      " 55.56472 \n"
     ]
    }
   ],
   "source": [
    "i <- 1\n",
    "idx <- order(-feat_vars)\n",
    "print(feat_vars[idx[i]])"
   ]
  },
  {
   "cell_type": "code",
   "execution_count": 345,
   "metadata": {},
   "outputs": [
    {
     "name": "stdout",
     "output_type": "stream",
     "text": [
      "[1] 236\n"
     ]
    },
    {
     "data": {
      "image/png": "[encoded data removed]",
      "text/plain": [
       "plot without title"
      ]
     },
     "metadata": {
      "image/png": {
       "height": 240,
       "width": 360
      }
     },
     "output_type": "display_data"
    }
   ],
   "source": [
    "i <- i + 1\n",
    "print(i)\n",
    "feature <- data.frame(\n",
    "  value = as.vector(data.matrix(log_maqc[idx[i], ])),\n",
    "  batch = metadata_maqc$batch_info,\n",
    "  class = metadata_maqc$class_info\n",
    ")\n",
    "ggplot(feature) +\n",
    "  geom_point(\n",
    "    aes(x = batch, y = value, pch = class, col = batch),\n",
    "    position = position_jitterdodge(jitter.width = 2),\n",
    "    show.legend = FALSE\n",
    "  )"
   ]
  },
  {
   "cell_type": "code",
   "execution_count": null,
   "metadata": {},
   "outputs": [],
   "source": []
  },
  {
   "cell_type": "markdown",
   "metadata": {},
   "source": [
    "# Measuring batch effects\n",
    "- Different batch-class imbalance\n",
    "- No batch effects\n",
    "- Different magnitude of batch effects when there is batch-class imbalance\n",
    "- Measure when there is different number of features\n",
    "- Different batch sizes\n",
    "\n",
    "### Comparisons\n",
    "- gPCA delta: 0-1 (proportion of variance)\n",
    "    - Weak in quantifying small amounts of batch effects?\n",
    "    - Problems when there is no batch effects but there is class imbalance"
   ]
  },
  {
   "cell_type": "code",
   "execution_count": 71,
   "metadata": {},
   "outputs": [],
   "source": [
    "# subsetting maqc\n",
    "maqc_bal <- log_maqc[, c(1:4, 6:9, 11:14, 16:19)]\n",
    "maqc_imbal <- log_maqc[, c(1:3, 6:10, 11:15, 16:18)]\n",
    "maqc_fakebatch <- log_maqc[, c(1:4, 6:9)]"
   ]
  },
  {
   "cell_type": "code",
   "execution_count": 72,
   "metadata": {},
   "outputs": [],
   "source": [
    "fake_metadata <- metadata_maqc[colnames(maqc_fakebatch), ]"
   ]
  },
  {
   "cell_type": "code",
   "execution_count": 73,
   "metadata": {
    "scrolled": true
   },
   "outputs": [],
   "source": [
    "fake_metadata[3, 1] <- 2\n",
    "fake_metadata[6, 1] <- 1"
   ]
  },
  {
   "cell_type": "code",
   "execution_count": 74,
   "metadata": {},
   "outputs": [
    {
     "data": {
      "text/html": [
       "<table class=\"dataframe\">\n",
       "<caption>A data.frame: 6 × 2</caption>\n",
       "<thead>\n",
       "\t<tr><th></th><th scope=col>batch_info</th><th scope=col>class_info</th></tr>\n",
       "\t<tr><th></th><th scope=col>&lt;fct&gt;</th><th scope=col>&lt;chr&gt;</th></tr>\n",
       "</thead>\n",
       "<tbody>\n",
       "\t<tr><th scope=row>AFX_1_A1</th><td>1</td><td>A</td></tr>\n",
       "\t<tr><th scope=row>AFX_1_A2</th><td>1</td><td>A</td></tr>\n",
       "\t<tr><th scope=row>AFX_1_A3</th><td>1</td><td>A</td></tr>\n",
       "\t<tr><th scope=row>AFX_1_A4</th><td>1</td><td>A</td></tr>\n",
       "\t<tr><th scope=row>AFX_1_A5</th><td>1</td><td>A</td></tr>\n",
       "\t<tr><th scope=row>AFX_1_B1</th><td>1</td><td>B</td></tr>\n",
       "</tbody>\n",
       "</table>\n"
      ],
      "text/latex": [
       "A data.frame: 6 × 2\n",
       "\\begin{tabular}{r|ll}\n",
       "  & batch\\_info & class\\_info\\\\\n",
       "  & <fct> & <chr>\\\\\n",
       "\\hline\n",
       "\tAFX\\_1\\_A1 & 1 & A\\\\\n",
       "\tAFX\\_1\\_A2 & 1 & A\\\\\n",
       "\tAFX\\_1\\_A3 & 1 & A\\\\\n",
       "\tAFX\\_1\\_A4 & 1 & A\\\\\n",
       "\tAFX\\_1\\_A5 & 1 & A\\\\\n",
       "\tAFX\\_1\\_B1 & 1 & B\\\\\n",
       "\\end{tabular}\n"
      ],
      "text/markdown": [
       "\n",
       "A data.frame: 6 × 2\n",
       "\n",
       "| <!--/--> | batch_info &lt;fct&gt; | class_info &lt;chr&gt; |\n",
       "|---|---|---|\n",
       "| AFX_1_A1 | 1 | A |\n",
       "| AFX_1_A2 | 1 | A |\n",
       "| AFX_1_A3 | 1 | A |\n",
       "| AFX_1_A4 | 1 | A |\n",
       "| AFX_1_A5 | 1 | A |\n",
       "| AFX_1_B1 | 1 | B |\n",
       "\n"
      ],
      "text/plain": [
       "         batch_info class_info\n",
       "AFX_1_A1 1          A         \n",
       "AFX_1_A2 1          A         \n",
       "AFX_1_A3 1          A         \n",
       "AFX_1_A4 1          A         \n",
       "AFX_1_A5 1          A         \n",
       "AFX_1_B1 1          B         "
      ]
     },
     "metadata": {},
     "output_type": "display_data"
    }
   ],
   "source": [
    "head(metadata_maqc)"
   ]
  },
  {
   "cell_type": "markdown",
   "metadata": {},
   "source": [
    "#### Comparison: Metrics"
   ]
  },
  {
   "cell_type": "code",
   "execution_count": 156,
   "metadata": {
    "scrolled": true
   },
   "outputs": [
    {
     "name": "stdout",
     "output_type": "stream",
     "text": [
      "[1] 1 1 1 2 1 2 2 2\n",
      "Levels: 1 2 3 4 5 6\n",
      "[1] A A A A B B B B\n",
      "Levels: A B\n",
      "Split into classes: A B\n"
     ]
    },
    {
     "data": {
      "text/html": [
       "<dl>\n",
       "\t<dt>$pct_v1</dt>\n",
       "\t\t<dd>0.215869480855456</dd>\n",
       "\t<dt>$pct_v2</dt>\n",
       "\t\t<dd>'0.3273; 0.3258'</dd>\n",
       "\t<dt>$pct_v3</dt>\n",
       "\t\t<dd>0.0863979782319586</dd>\n",
       "\t<dt>$batch_dist</dt>\n",
       "\t\t<dd>59785.3162292602</dd>\n",
       "\t<dt>$gpca_delta</dt>\n",
       "\t\t<dd>0.858220013864456</dd>\n",
       "\t<dt>$gpca_pvalue</dt>\n",
       "\t\t<dd>0.206</dd>\n",
       "</dl>\n"
      ],
      "text/latex": [
       "\\begin{description}\n",
       "\\item[\\$pct\\_v1] 0.215869480855456\n",
       "\\item[\\$pct\\_v2] '0.3273; 0.3258'\n",
       "\\item[\\$pct\\_v3] 0.0863979782319586\n",
       "\\item[\\$batch\\_dist] 59785.3162292602\n",
       "\\item[\\$gpca\\_delta] 0.858220013864456\n",
       "\\item[\\$gpca\\_pvalue] 0.206\n",
       "\\end{description}\n"
      ],
      "text/markdown": [
       "$pct_v1\n",
       ":   0.215869480855456\n",
       "$pct_v2\n",
       ":   '0.3273; 0.3258'\n",
       "$pct_v3\n",
       ":   0.0863979782319586\n",
       "$batch_dist\n",
       ":   59785.3162292602\n",
       "$gpca_delta\n",
       ":   0.858220013864456\n",
       "$gpca_pvalue\n",
       ":   0.206\n",
       "\n",
       "\n"
      ],
      "text/plain": [
       "$pct_v1\n",
       "[1] 0.2158695\n",
       "\n",
       "$pct_v2\n",
       "[1] \"0.3273; 0.3258\"\n",
       "\n",
       "$pct_v3\n",
       "[1] 0.08639798\n",
       "\n",
       "$batch_dist\n",
       "[1] 59785.32\n",
       "\n",
       "$gpca_delta\n",
       "[1] 0.85822\n",
       "\n",
       "$gpca_pvalue\n",
       "[1] 0.206\n"
      ]
     },
     "metadata": {},
     "output_type": "display_data"
    }
   ],
   "source": [
    "quantify_batch(maqc_fakebatch, fake_metadata)"
   ]
  },
  {
   "cell_type": "markdown",
   "metadata": {},
   "source": [
    "#### PVCA"
   ]
  },
  {
   "cell_type": "code",
   "execution_count": 177,
   "metadata": {},
   "outputs": [],
   "source": [
    "# create expressionset from biobase package\n",
    "meta_metadata <- data.frame(labelDescription = colnames(metadata))\n",
    "pheno_data <- new(\"AnnotatedDataFrame\", data = metadata, varMetadata = meta_metadata)\n",
    "maqc_eset <- ExpressionSet(assayData = as.matrix(log_maqc), phenoData = pheno_data)"
   ]
  },
  {
   "cell_type": "code",
   "execution_count": 178,
   "metadata": {},
   "outputs": [],
   "source": [
    "eset <- maqc_eset[, c(1:4, 6:9, 11:14, 16:19)]"
   ]
  },
  {
   "cell_type": "code",
   "execution_count": 172,
   "metadata": {},
   "outputs": [
    {
     "name": "stdout",
     "output_type": "stream",
     "text": [
      "         batch_info class_info\n",
      "AFX_1_A1          1          A\n",
      "AFX_1_A2          1          A\n",
      "AFX_1_A3          2          A\n",
      "AFX_1_A4          2          A\n",
      "AFX_1_B1          1          B\n",
      "AFX_1_B2          1          B\n",
      "AFX_1_B3          2          B\n",
      "AFX_1_B4          2          B\n"
     ]
    }
   ],
   "source": [
    "# create expressionset from biobase package\n",
    "print(fake_metadata)\n",
    "fake_pheno_data <- new(\"AnnotatedDataFrame\", data = fake_metadata, varMetadata = meta_metadata)\n",
    "fakebatch_eset <- ExpressionSet(assayData = as.matrix(maqc_fakebatch), phenoData = fake_pheno_data)"
   ]
  },
  {
   "cell_type": "code",
   "execution_count": 191,
   "metadata": {
    "scrolled": true
   },
   "outputs": [
    {
     "name": "stderr",
     "output_type": "stream",
     "text": [
      "singular fit\n",
      "singular fit\n",
      "singular fit\n"
     ]
    },
    {
     "name": "stdout",
     "output_type": "stream",
     "text": [
      "[1] \"batch_info:class_info\" \"class_info\"            \"batch_info\"           \n",
      "[4] \"resid\"                \n"
     ]
    },
    {
     "data": {
      "text/html": [
       "'0.0492; 0.8484; 0.1012; 0.0012'"
      ],
      "text/latex": [
       "'0.0492; 0.8484; 0.1012; 0.0012'"
      ],
      "text/markdown": [
       "'0.0492; 0.8484; 0.1012; 0.0012'"
      ],
      "text/plain": [
       "[1] \"0.0492; 0.8484; 0.1012; 0.0012\""
      ]
     },
     "metadata": {},
     "output_type": "display_data"
    }
   ],
   "source": [
    "pvca_obj <- pvcaBatchAssess(eset, c('batch_info', 'class_info'), 0.6)\n",
    "var_prop <- as.vector(pvca_obj$dat)\n",
    "factors <- as.vector(pvca_obj$label)\n",
    "print(factors)\n",
    "rounded_prop <- sapply(var_prop, round, digits = 4)\n",
    "do.call(paste, as.list(c(rounded_prop, sep = '; ')))"
   ]
  },
  {
   "cell_type": "markdown",
   "metadata": {},
   "source": [
    "## Ma-Spore ALL"
   ]
  },
  {
   "cell_type": "code",
   "execution_count": 50,
   "metadata": {},
   "outputs": [],
   "source": [
    "# Metadata\n",
    "METADATA_SID <- \"../../relapse_prediction/data/GSE67684/processed/metadata/sid-metadata_v2.tsv\"\n",
    "METADATA_PID <- \"../../relapse_prediction/data/GSE67684/processed/metadata/pid-metadata_v7.tsv\"\n",
    "metadata_sid <- read.table(METADATA_SID, sep = \"\\t\")\n",
    "metadata_pid <- read.table(METADATA_PID, sep = \"\\t\", row.names = 1, quote = '\"')\n",
    "\n",
    "## Data\n",
    "# Removed outliers, patients with timepoints from different batches and batch 5\n",
    "SUBSET_RPATH <- \"../../relapse_prediction/data/GSE67684/processed/subset_yeoh.tsv\"\n",
    "raw_yeoh <- read.table(SUBSET_RPATH, sep = \"\\t\")"
   ]
  },
  {
   "cell_type": "code",
   "execution_count": 51,
   "metadata": {},
   "outputs": [
    {
     "name": "stdout",
     "output_type": "stream",
     "text": [
      "  P001_D0   P004_D0   P005_D0   P007_D0   P008_D0   P009_D0 \n",
      " 5.796952  4.123342  3.981577  6.317643  4.841458 11.978124 \n",
      "[1] \"No. of ambiguous and AFFY probesets removed: 10503\"\n",
      "[1] \"No. of probesets removed = 6321\"\n"
     ]
    }
   ],
   "source": [
    "# Metadata\n",
    "metadata_sid$label <- as.factor(metadata_sid$label)\n",
    "levels(metadata_sid$label) <- c('Remission', 'Relapse')\n",
    "metadata_sid$batch_info <- as.factor(metadata_sid$batch_info) \n",
    "metadata_pid$label <- as.factor(metadata_pid$label)\n",
    "levels(metadata_pid$label) <- c('Remission', 'Relapse')\n",
    "\n",
    "# SCALE->REMOVE->FILTER->LOG\n",
    "scaled_yeoh <- normaliseMeanScaling(raw_yeoh)\n",
    "selected_yeoh <- removeProbesets(scaled_yeoh)\n",
    "yeoh <- log2_transform(filterProbesets(selected_yeoh, 0.7, metadata_sid))\n",
    "\n",
    "# All features\n",
    "yeoh_allps <- log2_transform(scaled_yeoh)\n",
    "yeoh_unfltr <- log2_transform(selected_yeoh)"
   ]
  },
  {
   "cell_type": "code",
   "execution_count": 364,
   "metadata": {},
   "outputs": [],
   "source": [
    "metadata_yeoh <- metadata_sid[colnames(yeoh), ]\n",
    "metadata_telaml1 <- subset(\n",
    "  metadata_sid,\n",
    "  subtype == 'TEL-AML1' &\n",
    "  label == 'Remission' &\n",
    "  batch_info %in% c(2, 9)\n",
    ")"
   ]
  },
  {
   "cell_type": "code",
   "execution_count": 751,
   "metadata": {
    "scrolled": true
   },
   "outputs": [
    {
     "name": "stderr",
     "output_type": "stream",
     "text": [
      "All samples are from the same batch!\n",
      "\n",
      "All samples are from the same batch!\n",
      "\n"
     ]
    }
   ],
   "source": [
    "rvp_sel <- RVP(t(yeoh), metadata_yeoh$batch_info, metadata_yeoh$class_info)\n",
    "rvp_all <- RVP(t(yeoh_allps), metadata_yeoh$batch_info, metadata_yeoh$class_info)"
   ]
  },
  {
   "cell_type": "code",
   "execution_count": 755,
   "metadata": {},
   "outputs": [],
   "source": [
    "del_feat <- setdiff(rownames(yeoh_allps), rownames(yeoh))\n",
    "yeoh_del <- yeoh_allps[del_feat, ]"
   ]
  },
  {
   "cell_type": "code",
   "execution_count": 53,
   "metadata": {},
   "outputs": [],
   "source": [
    "bal_sids <- get_sid(c(\n",
    "  'P022', 'P023', 'P024', 'P025',\n",
    "  'P099', 'P106', 'P120', 'P121'\n",
    "))\n",
    "imbal_sids <- c(\n",
    "  'P022_D0', 'P023_D0', 'P024_D0', 'P025_D0', 'P026_D0', 'P022_D8', 'P023_D8', 'P024_D8',\n",
    "  'P099_D0', 'P106_D0', 'P120_D0', 'P099_D8', 'P106_D8', 'P120_D8', 'P121_D8', 'P127_D8'\n",
    ")"
   ]
  },
  {
   "cell_type": "code",
   "execution_count": 54,
   "metadata": {},
   "outputs": [],
   "source": [
    "yeoh_bal <- yeoh[, bal_sids]\n",
    "yeoh_imbal <- yeoh[, imbal_sids]"
   ]
  },
  {
   "cell_type": "code",
   "execution_count": 55,
   "metadata": {},
   "outputs": [],
   "source": [
    "fakebatch_sids <- get_sid(c(\n",
    "  'P022', 'P023', 'P024', 'P025',\n",
    "  'P026', 'P027', 'P035', 'P036'\n",
    "))\n",
    "yeoh_fakebatch <- yeoh[, fakebatch_sids]"
   ]
  },
  {
   "cell_type": "code",
   "execution_count": 56,
   "metadata": {},
   "outputs": [],
   "source": [
    "fake_metadata <- metadata_sid[fakebatch_sids, ]\n",
    "fake_metadata1 <- fake_metadata\n",
    "fake_metadata2 <- fake_metadata\n",
    "fake_metadata1[c(1:4, 9:12), 1] <- 1\n",
    "fake_metadata2[c(1:6, 11:16), 1] <- 1"
   ]
  },
  {
   "cell_type": "code",
   "execution_count": 356,
   "metadata": {
    "scrolled": true
   },
   "outputs": [
    {
     "data": {
      "text/plain": [
       "\n",
       " 1  2  3  4  5  6  7  8  9 10 \n",
       "39 75 42 31 43 33 27 55 60 56 "
      ]
     },
     "metadata": {},
     "output_type": "display_data"
    }
   ],
   "source": [
    "table(metadata_sid$batch_info)"
   ]
  },
  {
   "cell_type": "code",
   "execution_count": 604,
   "metadata": {},
   "outputs": [],
   "source": [
    "metadata_yeoh1 <- subset(metadata_yeoh, batch_info %in% c(2, 9))\n",
    "pidx <- rownames(metadata_yeoh1)"
   ]
  },
  {
   "cell_type": "code",
   "execution_count": 368,
   "metadata": {
    "scrolled": false
   },
   "outputs": [
    {
     "data": {
      "text/html": [
       "<table class=\"dataframe\">\n",
       "<caption>A data.frame: 6 × 4</caption>\n",
       "<thead>\n",
       "\t<tr><th></th><th scope=col>batch_info</th><th scope=col>class_info</th><th scope=col>subtype</th><th scope=col>label</th></tr>\n",
       "\t<tr><th></th><th scope=col>&lt;fct&gt;</th><th scope=col>&lt;chr&gt;</th><th scope=col>&lt;chr&gt;</th><th scope=col>&lt;fct&gt;</th></tr>\n",
       "</thead>\n",
       "<tbody>\n",
       "\t<tr><th scope=row>P001_D0</th><td>3</td><td>D0</td><td>T-ALL</td><td>Remission</td></tr>\n",
       "\t<tr><th scope=row>P004_D0</th><td>2</td><td>D0</td><td>T-ALL</td><td>Remission</td></tr>\n",
       "\t<tr><th scope=row>P005_D0</th><td>2</td><td>D0</td><td>T-ALL</td><td>Remission</td></tr>\n",
       "\t<tr><th scope=row>P007_D0</th><td>2</td><td>D0</td><td>T-ALL</td><td>Relapse  </td></tr>\n",
       "\t<tr><th scope=row>P008_D0</th><td>3</td><td>D0</td><td>T-ALL</td><td>Remission</td></tr>\n",
       "\t<tr><th scope=row>P009_D0</th><td>1</td><td>D0</td><td>T-ALL</td><td>Remission</td></tr>\n",
       "</tbody>\n",
       "</table>\n"
      ],
      "text/latex": [
       "A data.frame: 6 × 4\n",
       "\\begin{tabular}{r|llll}\n",
       "  & batch\\_info & class\\_info & subtype & label\\\\\n",
       "  & <fct> & <chr> & <chr> & <fct>\\\\\n",
       "\\hline\n",
       "\tP001\\_D0 & 3 & D0 & T-ALL & Remission\\\\\n",
       "\tP004\\_D0 & 2 & D0 & T-ALL & Remission\\\\\n",
       "\tP005\\_D0 & 2 & D0 & T-ALL & Remission\\\\\n",
       "\tP007\\_D0 & 2 & D0 & T-ALL & Relapse  \\\\\n",
       "\tP008\\_D0 & 3 & D0 & T-ALL & Remission\\\\\n",
       "\tP009\\_D0 & 1 & D0 & T-ALL & Remission\\\\\n",
       "\\end{tabular}\n"
      ],
      "text/markdown": [
       "\n",
       "A data.frame: 6 × 4\n",
       "\n",
       "| <!--/--> | batch_info &lt;fct&gt; | class_info &lt;chr&gt; | subtype &lt;chr&gt; | label &lt;fct&gt; |\n",
       "|---|---|---|---|---|\n",
       "| P001_D0 | 3 | D0 | T-ALL | Remission |\n",
       "| P004_D0 | 2 | D0 | T-ALL | Remission |\n",
       "| P005_D0 | 2 | D0 | T-ALL | Remission |\n",
       "| P007_D0 | 2 | D0 | T-ALL | Relapse   |\n",
       "| P008_D0 | 3 | D0 | T-ALL | Remission |\n",
       "| P009_D0 | 1 | D0 | T-ALL | Remission |\n",
       "\n"
      ],
      "text/plain": [
       "        batch_info class_info subtype label    \n",
       "P001_D0 3          D0         T-ALL   Remission\n",
       "P004_D0 2          D0         T-ALL   Remission\n",
       "P005_D0 2          D0         T-ALL   Remission\n",
       "P007_D0 2          D0         T-ALL   Relapse  \n",
       "P008_D0 3          D0         T-ALL   Remission\n",
       "P009_D0 1          D0         T-ALL   Remission"
      ]
     },
     "metadata": {},
     "output_type": "display_data"
    }
   ],
   "source": [
    "head(metadata_sid)"
   ]
  },
  {
   "cell_type": "code",
   "execution_count": 750,
   "metadata": {
    "scrolled": true
   },
   "outputs": [
    {
     "data": {
      "image/png": "[encoded data removed]",
      "text/plain": [
       "Plot with title “Histogram of yeoh[, 1]”"
      ]
     },
     "metadata": {
      "image/png": {
       "height": 240,
       "width": 360
      }
     },
     "output_type": "display_data"
    }
   ],
   "source": [
    "hist(yeoh[,1], breaks = 30)"
   ]
  },
  {
   "cell_type": "code",
   "execution_count": 605,
   "metadata": {
    "scrolled": false
   },
   "outputs": [
    {
     "data": {
      "image/png": "[encoded data removed]",
      "text/plain": [
       "plot without title"
      ]
     },
     "metadata": {
      "image/png": {
       "height": 240,
       "width": 360
      }
     },
     "output_type": "display_data"
    }
   ],
   "source": [
    "ggplot_pca(yeoh[, pidx], metadata_yeoh1, col = 'batch_info', pch = 'class_info')"
   ]
  },
  {
   "cell_type": "code",
   "execution_count": 739,
   "metadata": {},
   "outputs": [
    {
     "name": "stdout",
     "output_type": "stream",
     "text": [
      "[1] 581\n"
     ]
    },
    {
     "data": {
      "image/png": "[encoded data removed]",
      "text/plain": [
       "plot without title"
      ]
     },
     "metadata": {
      "image/png": {
       "height": 240,
       "width": 360
      }
     },
     "output_type": "display_data"
    }
   ],
   "source": [
    "i <- i + 1\n",
    "print(i)\n",
    "feature <- data.frame(\n",
    "  value = as.vector(data.matrix(yeoh[i, pidx])),\n",
    "  batch = metadata_yeoh1$batch_info,\n",
    "  class = metadata_yeoh1$class_info,\n",
    "  subtype = metadata_yeoh1$subtype\n",
    ")\n",
    "ggplot(feature) +\n",
    "  geom_point(\n",
    "    aes(x = batch, y = value, col = subtype, pch = class),\n",
    "    position = position_jitterdodge(jitter.width = .1),\n",
    "    show.legend = FALSE\n",
    "  ) +\n",
    "  ylim(0, 15)"
   ]
  },
  {
   "cell_type": "markdown",
   "metadata": {},
   "source": [
    "## Feature selection"
   ]
  },
  {
   "cell_type": "code",
   "execution_count": null,
   "metadata": {},
   "outputs": [],
   "source": []
  },
  {
   "cell_type": "markdown",
   "metadata": {},
   "source": [
    "## PCA"
   ]
  },
  {
   "cell_type": "code",
   "execution_count": 79,
   "metadata": {
    "scrolled": false
   },
   "outputs": [
    {
     "data": {
      "text/plain": [
       "    \n",
       "     D0 D8  N\n",
       "  1  19 20  0\n",
       "  2  38 34  3\n",
       "  3  21 21  0\n",
       "  4  16 15  0\n",
       "  5   1  0 42\n",
       "  6  16 17  0\n",
       "  7  13 14  0\n",
       "  8  28 27  0\n",
       "  9  28 32  0\n",
       "  10 28 28  0"
      ]
     },
     "metadata": {},
     "output_type": "display_data"
    }
   ],
   "source": [
    "table(metadata_sid$batch_info, metadata_sid$class_info)"
   ]
  },
  {
   "cell_type": "code",
   "execution_count": 58,
   "metadata": {},
   "outputs": [
    {
     "data": {
      "image/png": "[encoded data removed]",
      "text/plain": [
       "plot without title"
      ]
     },
     "metadata": {
      "image/png": {
       "height": 240,
       "width": 360
      }
     },
     "output_type": "display_data"
    }
   ],
   "source": [
    "ggplot_pca(yeoh_bal, metadata_sid, col = 'batch_info', pch = 'class_info')"
   ]
  },
  {
   "cell_type": "code",
   "execution_count": 748,
   "metadata": {},
   "outputs": [
    {
     "data": {
      "text/html": [
       "<style>\n",
       ".list-inline {list-style: none; margin:0; padding: 0}\n",
       ".list-inline>li {display: inline-block}\n",
       ".list-inline>li:not(:last-child)::after {content: \"\\00b7\"; padding: 0 .5ex}\n",
       "</style>\n",
       "<ol class=list-inline><li>1</li><li>1</li><li>1</li><li>1</li><li>1</li><li>0</li><li>1</li><li>1</li><li>0</li><li>1</li><li>0</li><li>1</li><li>1</li><li>1</li><li>1</li><li>1</li><li>1</li><li>0</li><li>1</li><li>0</li><li>0</li><li>1</li><li>1</li><li>0</li><li>1</li><li>1</li><li>1</li><li>1</li><li>1</li><li>1</li><li>1</li><li>1</li><li>1</li><li>1</li><li>1</li><li>1</li><li>1</li><li>1</li><li>1</li><li>0</li><li>0</li><li>0</li><li>1</li><li>0</li><li>1</li><li>1</li><li>1</li><li>1</li><li>1</li><li>1</li><li>1</li><li>1</li><li>1</li><li>1</li><li>1</li><li>1</li><li>1</li><li>1</li><li>0</li><li>1</li><li>1</li><li>1</li><li>1</li><li>0</li><li>1</li><li>1</li><li>1</li><li>0</li><li>1</li><li>1</li><li>1</li><li>1</li><li>0</li><li>1</li><li>1</li><li>1</li><li>1</li><li>1</li><li>1</li><li>1</li><li>1</li><li>0</li><li>1</li><li>1</li><li>1</li><li>1</li><li>1</li><li>1</li><li>1</li><li>1</li><li>1</li><li>1</li><li>1</li><li>1</li><li>1</li><li>1</li><li>1</li><li>1</li><li>1</li><li>1</li></ol>\n"
      ],
      "text/latex": [
       "\\begin{enumerate*}\n",
       "\\item 1\n",
       "\\item 1\n",
       "\\item 1\n",
       "\\item 1\n",
       "\\item 1\n",
       "\\item 0\n",
       "\\item 1\n",
       "\\item 1\n",
       "\\item 0\n",
       "\\item 1\n",
       "\\item 0\n",
       "\\item 1\n",
       "\\item 1\n",
       "\\item 1\n",
       "\\item 1\n",
       "\\item 1\n",
       "\\item 1\n",
       "\\item 0\n",
       "\\item 1\n",
       "\\item 0\n",
       "\\item 0\n",
       "\\item 1\n",
       "\\item 1\n",
       "\\item 0\n",
       "\\item 1\n",
       "\\item 1\n",
       "\\item 1\n",
       "\\item 1\n",
       "\\item 1\n",
       "\\item 1\n",
       "\\item 1\n",
       "\\item 1\n",
       "\\item 1\n",
       "\\item 1\n",
       "\\item 1\n",
       "\\item 1\n",
       "\\item 1\n",
       "\\item 1\n",
       "\\item 1\n",
       "\\item 0\n",
       "\\item 0\n",
       "\\item 0\n",
       "\\item 1\n",
       "\\item 0\n",
       "\\item 1\n",
       "\\item 1\n",
       "\\item 1\n",
       "\\item 1\n",
       "\\item 1\n",
       "\\item 1\n",
       "\\item 1\n",
       "\\item 1\n",
       "\\item 1\n",
       "\\item 1\n",
       "\\item 1\n",
       "\\item 1\n",
       "\\item 1\n",
       "\\item 1\n",
       "\\item 0\n",
       "\\item 1\n",
       "\\item 1\n",
       "\\item 1\n",
       "\\item 1\n",
       "\\item 0\n",
       "\\item 1\n",
       "\\item 1\n",
       "\\item 1\n",
       "\\item 0\n",
       "\\item 1\n",
       "\\item 1\n",
       "\\item 1\n",
       "\\item 1\n",
       "\\item 0\n",
       "\\item 1\n",
       "\\item 1\n",
       "\\item 1\n",
       "\\item 1\n",
       "\\item 1\n",
       "\\item 1\n",
       "\\item 1\n",
       "\\item 1\n",
       "\\item 0\n",
       "\\item 1\n",
       "\\item 1\n",
       "\\item 1\n",
       "\\item 1\n",
       "\\item 1\n",
       "\\item 1\n",
       "\\item 1\n",
       "\\item 1\n",
       "\\item 1\n",
       "\\item 1\n",
       "\\item 1\n",
       "\\item 1\n",
       "\\item 1\n",
       "\\item 1\n",
       "\\item 1\n",
       "\\item 1\n",
       "\\item 1\n",
       "\\item 1\n",
       "\\end{enumerate*}\n"
      ],
      "text/markdown": [
       "1. 1\n",
       "2. 1\n",
       "3. 1\n",
       "4. 1\n",
       "5. 1\n",
       "6. 0\n",
       "7. 1\n",
       "8. 1\n",
       "9. 0\n",
       "10. 1\n",
       "11. 0\n",
       "12. 1\n",
       "13. 1\n",
       "14. 1\n",
       "15. 1\n",
       "16. 1\n",
       "17. 1\n",
       "18. 0\n",
       "19. 1\n",
       "20. 0\n",
       "21. 0\n",
       "22. 1\n",
       "23. 1\n",
       "24. 0\n",
       "25. 1\n",
       "26. 1\n",
       "27. 1\n",
       "28. 1\n",
       "29. 1\n",
       "30. 1\n",
       "31. 1\n",
       "32. 1\n",
       "33. 1\n",
       "34. 1\n",
       "35. 1\n",
       "36. 1\n",
       "37. 1\n",
       "38. 1\n",
       "39. 1\n",
       "40. 0\n",
       "41. 0\n",
       "42. 0\n",
       "43. 1\n",
       "44. 0\n",
       "45. 1\n",
       "46. 1\n",
       "47. 1\n",
       "48. 1\n",
       "49. 1\n",
       "50. 1\n",
       "51. 1\n",
       "52. 1\n",
       "53. 1\n",
       "54. 1\n",
       "55. 1\n",
       "56. 1\n",
       "57. 1\n",
       "58. 1\n",
       "59. 0\n",
       "60. 1\n",
       "61. 1\n",
       "62. 1\n",
       "63. 1\n",
       "64. 0\n",
       "65. 1\n",
       "66. 1\n",
       "67. 1\n",
       "68. 0\n",
       "69. 1\n",
       "70. 1\n",
       "71. 1\n",
       "72. 1\n",
       "73. 0\n",
       "74. 1\n",
       "75. 1\n",
       "76. 1\n",
       "77. 1\n",
       "78. 1\n",
       "79. 1\n",
       "80. 1\n",
       "81. 1\n",
       "82. 0\n",
       "83. 1\n",
       "84. 1\n",
       "85. 1\n",
       "86. 1\n",
       "87. 1\n",
       "88. 1\n",
       "89. 1\n",
       "90. 1\n",
       "91. 1\n",
       "92. 1\n",
       "93. 1\n",
       "94. 1\n",
       "95. 1\n",
       "96. 1\n",
       "97. 1\n",
       "98. 1\n",
       "99. 1\n",
       "100. 1\n",
       "\n",
       "\n"
      ],
      "text/plain": [
       "  [1] 1 1 1 1 1 0 1 1 0 1 0 1 1 1 1 1 1 0 1 0 0 1 1 0 1 1 1 1 1 1 1 1 1 1 1 1 1\n",
       " [38] 1 1 0 0 0 1 0 1 1 1 1 1 1 1 1 1 1 1 1 1 1 0 1 1 1 1 0 1 1 1 0 1 1 1 1 0 1\n",
       " [75] 1 1 1 1 1 1 1 0 1 1 1 1 1 1 1 1 1 1 1 1 1 1 1 1 1 1"
      ]
     },
     "metadata": {},
     "output_type": "display_data"
    }
   ],
   "source": [
    "rbinom(100, 1, .8)"
   ]
  },
  {
   "cell_type": "code",
   "execution_count": 50,
   "metadata": {},
   "outputs": [
    {
     "name": "stdout",
     "output_type": "stream",
     "text": [
      " [1] 2 2 2 2 9 9 9 9 2 2 2 2 9 9 9 9\n",
      "Levels: 1 2 3 4 5 6 7 8 9 10\n",
      " [1] D0 D0 D0 D0 D0 D0 D0 D0 D8 D8 D8 D8 D8 D8 D8 D8\n",
      "Levels: D0 D8 N\n",
      "Split into classes: D0 D8\n"
     ]
    }
   ],
   "source": [
    "metrics1 <- quantify_batch(yeoh_bal, metadata_sid)"
   ]
  },
  {
   "cell_type": "code",
   "execution_count": 51,
   "metadata": {},
   "outputs": [
    {
     "name": "stdout",
     "output_type": "stream",
     "text": [
      " [1] 2 2 2 2 2 2 2 2 9 9 9 9 9 9 9 9\n",
      "Levels: 1 2 3 4 5 6 7 8 9 10\n",
      " [1] D0 D0 D0 D0 D0 D8 D8 D8 D0 D0 D0 D8 D8 D8 D8 D8\n",
      "Levels: D0 D8 N\n",
      "Split into classes: D0 D8\n"
     ]
    }
   ],
   "source": [
    "metrics2 <- quantify_batch(yeoh_imbal, metadata_sid)"
   ]
  },
  {
   "cell_type": "code",
   "execution_count": 53,
   "metadata": {},
   "outputs": [
    {
     "name": "stdout",
     "output_type": "stream",
     "text": [
      " [1] 1 1 1 1 2 2 2 2 1 1 1 1 2 2 2 2\n",
      "Levels: 1 2 3 4 5 6 7 8 9 10\n",
      " [1] D0 D0 D0 D0 D0 D0 D0 D0 D8 D8 D8 D8 D8 D8 D8 D8\n",
      "Levels: D0 D8 N\n",
      "Split into classes: D0 D8\n"
     ]
    }
   ],
   "source": [
    "metrics3 <- quantify_batch(yeoh_fakebatch, fake_metadata1)"
   ]
  },
  {
   "cell_type": "code",
   "execution_count": 54,
   "metadata": {},
   "outputs": [
    {
     "name": "stdout",
     "output_type": "stream",
     "text": [
      " [1] 1 1 1 1 1 1 2 2 2 2 1 1 1 1 1 1\n",
      "Levels: 1 2 3 4 5 6 7 8 9 10\n",
      " [1] D0 D0 D0 D0 D0 D0 D0 D0 D8 D8 D8 D8 D8 D8 D8 D8\n",
      "Levels: D0 D8 N\n",
      "Split into classes: D0 D8\n"
     ]
    }
   ],
   "source": [
    "metrics4 <- quantify_batch(yeoh_fakebatch, fake_metadata2)"
   ]
  },
  {
   "cell_type": "code",
   "execution_count": 68,
   "metadata": {
    "scrolled": false
   },
   "outputs": [
    {
     "data": {
      "text/html": [
       "<dl>\n",
       "\t<dt>$pct_v1</dt>\n",
       "\t\t<dd>0.0817559957197182</dd>\n",
       "\t<dt>$pct_v2</dt>\n",
       "\t\t<dd>'0.1567; 0.1732'</dd>\n",
       "\t<dt>$pct_v3</dt>\n",
       "\t\t<dd>0.141621575232193</dd>\n",
       "\t<dt>$batch_dist</dt>\n",
       "\t\t<dd>23122.4091529366</dd>\n",
       "\t<dt>$gpca_delta</dt>\n",
       "\t\t<dd>0.54512588149156</dd>\n",
       "\t<dt>$gpca_pvalue</dt>\n",
       "\t\t<dd>0.19</dd>\n",
       "</dl>\n"
      ],
      "text/latex": [
       "\\begin{description}\n",
       "\\item[\\$pct\\_v1] 0.0817559957197182\n",
       "\\item[\\$pct\\_v2] '0.1567; 0.1732'\n",
       "\\item[\\$pct\\_v3] 0.141621575232193\n",
       "\\item[\\$batch\\_dist] 23122.4091529366\n",
       "\\item[\\$gpca\\_delta] 0.54512588149156\n",
       "\\item[\\$gpca\\_pvalue] 0.19\n",
       "\\end{description}\n"
      ],
      "text/markdown": [
       "$pct_v1\n",
       ":   0.0817559957197182\n",
       "$pct_v2\n",
       ":   '0.1567; 0.1732'\n",
       "$pct_v3\n",
       ":   0.141621575232193\n",
       "$batch_dist\n",
       ":   23122.4091529366\n",
       "$gpca_delta\n",
       ":   0.54512588149156\n",
       "$gpca_pvalue\n",
       ":   0.19\n",
       "\n",
       "\n"
      ],
      "text/plain": [
       "$pct_v1\n",
       "[1] 0.081756\n",
       "\n",
       "$pct_v2\n",
       "[1] \"0.1567; 0.1732\"\n",
       "\n",
       "$pct_v3\n",
       "[1] 0.1416216\n",
       "\n",
       "$batch_dist\n",
       "[1] 23122.41\n",
       "\n",
       "$gpca_delta\n",
       "[1] 0.5451259\n",
       "\n",
       "$gpca_pvalue\n",
       "[1] 0.19\n"
      ]
     },
     "metadata": {},
     "output_type": "display_data"
    }
   ],
   "source": [
    "metrics4"
   ]
  },
  {
   "cell_type": "markdown",
   "metadata": {},
   "source": [
    "# PVCA"
   ]
  },
  {
   "cell_type": "code",
   "execution_count": 58,
   "metadata": {},
   "outputs": [],
   "source": [
    "metadata_yeoh <- metadata_sid[colnames(yeoh), ]"
   ]
  },
  {
   "cell_type": "code",
   "execution_count": 59,
   "metadata": {},
   "outputs": [],
   "source": [
    "# create expressionset from biobase package\n",
    "meta_metadata <- data.frame(labelDescription = colnames(metadata_sid))\n",
    "pheno_data <- new(\"AnnotatedDataFrame\", data = metadata_yeoh, varMetadata = meta_metadata)\n",
    "yeoh_eset <- ExpressionSet(assayData = as.matrix(yeoh), phenoData = pheno_data)"
   ]
  },
  {
   "cell_type": "code",
   "execution_count": 69,
   "metadata": {},
   "outputs": [],
   "source": [
    "# TODO\n",
    "eset <- yeoh_eset[, imbal_sids]"
   ]
  },
  {
   "cell_type": "code",
   "execution_count": 70,
   "metadata": {},
   "outputs": [
    {
     "name": "stderr",
     "output_type": "stream",
     "text": [
      "singular fit\n",
      "singular fit\n",
      "singular fit\n",
      "singular fit\n",
      "singular fit\n"
     ]
    },
    {
     "name": "stdout",
     "output_type": "stream",
     "text": [
      "[1] \"batch_info:class_info\" \"class_info\"            \"batch_info\"           \n",
      "[4] \"resid\"                \n"
     ]
    },
    {
     "data": {
      "text/html": [
       "'0.1864; 0.2284; 0.1907; 0.3944'"
      ],
      "text/latex": [
       "'0.1864; 0.2284; 0.1907; 0.3944'"
      ],
      "text/markdown": [
       "'0.1864; 0.2284; 0.1907; 0.3944'"
      ],
      "text/plain": [
       "[1] \"0.1864; 0.2284; 0.1907; 0.3944\""
      ]
     },
     "metadata": {},
     "output_type": "display_data"
    }
   ],
   "source": [
    "pvca_obj <- pvcaBatchAssess(eset, c('batch_info', 'class_info'), 0.6)\n",
    "var_prop <- as.vector(pvca_obj$dat)\n",
    "factors <- as.vector(pvca_obj$label)\n",
    "print(factors)\n",
    "rounded_prop <- sapply(var_prop, round, digits = 4)\n",
    "do.call(paste, as.list(c(rounded_prop, sep = '; ')))"
   ]
  },
  {
   "cell_type": "code",
   "execution_count": 75,
   "metadata": {
    "scrolled": true
   },
   "outputs": [
    {
     "name": "stdout",
     "output_type": "stream",
     "text": [
      "        batch_info class_info  subtype     label\n",
      "P022_D0          1         D0 TEL-AML1 Remission\n",
      "P023_D0          1         D0 TEL-AML1 Remission\n",
      "P024_D0          1         D0 TEL-AML1 Remission\n",
      "P025_D0          1         D0 TEL-AML1 Remission\n",
      "P026_D0          1         D0 TEL-AML1 Remission\n",
      "P027_D0          1         D0 TEL-AML1 Remission\n",
      "P035_D0          2         D0 TEL-AML1 Remission\n",
      "P036_D0          2         D0 TEL-AML1 Remission\n",
      "P022_D8          2         D8 TEL-AML1 Remission\n",
      "P023_D8          2         D8 TEL-AML1 Remission\n",
      "P024_D8          1         D8 TEL-AML1 Remission\n",
      "P025_D8          1         D8 TEL-AML1 Remission\n",
      "P026_D8          1         D8 TEL-AML1 Remission\n",
      "P027_D8          1         D8 TEL-AML1 Remission\n",
      "P035_D8          1         D8 TEL-AML1 Remission\n",
      "P036_D8          1         D8 TEL-AML1 Remission\n"
     ]
    }
   ],
   "source": [
    "# create expressionset from biobase package\n",
    "print(fake_metadata2)\n",
    "fake_pheno_data <- new(\"AnnotatedDataFrame\", data = fake_metadata2, varMetadata = meta_metadata)\n",
    "fakebatch_eset <- ExpressionSet(assayData = as.matrix(yeoh_fakebatch), phenoData = fake_pheno_data)"
   ]
  },
  {
   "cell_type": "code",
   "execution_count": 76,
   "metadata": {},
   "outputs": [
    {
     "name": "stderr",
     "output_type": "stream",
     "text": [
      "singular fit\n",
      "singular fit\n",
      "singular fit\n",
      "singular fit\n",
      "singular fit\n",
      "singular fit\n"
     ]
    },
    {
     "name": "stdout",
     "output_type": "stream",
     "text": [
      "[1] \"batch_info:class_info\" \"class_info\"            \"batch_info\"           \n",
      "[4] \"resid\"                \n"
     ]
    },
    {
     "data": {
      "text/html": [
       "'0.0783; 0.2255; 0.0738; 0.6225'"
      ],
      "text/latex": [
       "'0.0783; 0.2255; 0.0738; 0.6225'"
      ],
      "text/markdown": [
       "'0.0783; 0.2255; 0.0738; 0.6225'"
      ],
      "text/plain": [
       "[1] \"0.0783; 0.2255; 0.0738; 0.6225\""
      ]
     },
     "metadata": {},
     "output_type": "display_data"
    }
   ],
   "source": [
    "pvca_obj <- pvcaBatchAssess(fakebatch_eset, c('batch_info', 'class_info'), 0.6)\n",
    "var_prop <- as.vector(pvca_obj$dat)\n",
    "factors <- as.vector(pvca_obj$label)\n",
    "print(factors)\n",
    "rounded_prop <- sapply(var_prop, round, digits = 4)\n",
    "do.call(paste, as.list(c(rounded_prop, sep = '; ')))"
   ]
  },
  {
   "cell_type": "code",
   "execution_count": 61,
   "metadata": {
    "scrolled": true
   },
   "outputs": [],
   "source": [
    "# table(metadata_sid[colnames(yeoh_imbal), c('batch_info', 'class_info')])"
   ]
  },
  {
   "cell_type": "markdown",
   "metadata": {},
   "source": [
    "# Westlake\n",
    "- Metrics used on data that is not log-transformed"
   ]
  },
  {
   "cell_type": "code",
   "execution_count": 112,
   "metadata": {},
   "outputs": [],
   "source": [
    "# # regenerate fake batch data\n",
    "# file1 <- \"../data/westlake-A549_K562/processed/balanced.csv\"\n",
    "# data <- read.table(file1, sep = \",\", header = T, row.names = 1)\n",
    "\n",
    "# file2 <- \"../data/westlake-A549_K562/processed/metadata/fake_batch-balanced.csv\"\n",
    "# metadata <- read.table(file2, sep = \",\", header = T, row.names = 1)\n",
    "\n",
    "# fake_batch <- data[, rownames(metadata)]\n",
    "# file3 <- \"../data/westlake-A549_K562/processed/fake_batch.csv\"\n",
    "# write.csv(fake_batch, file3, quote = F)"
   ]
  },
  {
   "cell_type": "code",
   "execution_count": 22,
   "metadata": {},
   "outputs": [],
   "source": [
    "file1 <- \"../data/westlake-A549_K562/processed/severe.csv\"\n",
    "file2 <- \"../data/westlake-A549_K562/processed/metadata/severe.csv\"\n",
    "\n",
    "data <- read.table(file1, sep = \",\", header = T, row.names = 1)\n",
    "metadata <- read.table(file2, sep = \",\", header = T, row.names = 1)\n",
    "metadata$machine <- as.factor(metadata$machine)\n",
    "stopifnot(identical(colnames(data), rownames(metadata)))"
   ]
  },
  {
   "cell_type": "code",
   "execution_count": 29,
   "metadata": {},
   "outputs": [],
   "source": [
    "rvp <- RVP(t(data), metadata$machine, metadata$class)"
   ]
  },
  {
   "cell_type": "code",
   "execution_count": 9,
   "metadata": {},
   "outputs": [
    {
     "name": "stderr",
     "output_type": "stream",
     "text": [
      "Warning message:\n",
      "“\u001b[1m\u001b[22m`aes_string()` was deprecated in ggplot2 3.0.0.\n",
      "\u001b[36mℹ\u001b[39m Please use tidy evaluation idioms with `aes()`.\n",
      "\u001b[36mℹ\u001b[39m See also `vignette(\"ggplot2-in-packages\")` for more information.”\n"
     ]
    }
   ],
   "source": [
    "ax <- ggplot_pca(data, metadata, col = 'machine', pch = 'class')"
   ]
  },
  {
   "cell_type": "code",
   "execution_count": 4,
   "metadata": {},
   "outputs": [
    {
     "ename": "ERROR",
     "evalue": "Error in ggsave(file, ax, width = 5, height = 3): could not find function \"ggsave\"\n",
     "output_type": "error",
     "traceback": [
      "Error in ggsave(file, ax, width = 5, height = 3): could not find function \"ggsave\"\nTraceback:\n"
     ]
    }
   ],
   "source": [
    "file <- '~/Dropbox/tmp/westlake-severe.pdf'\n",
    "ggsave(file, ax, width = 5, height = 3)"
   ]
  },
  {
   "cell_type": "code",
   "execution_count": 17,
   "metadata": {},
   "outputs": [],
   "source": [
    "sample <- data.frame(\n",
    "  value = as.numeric(data[1,]),\n",
    "  batch = metadata$machine,\n",
    "  class = metadata$class\n",
    ")"
   ]
  },
  {
   "cell_type": "code",
   "execution_count": 20,
   "metadata": {},
   "outputs": [],
   "source": [
    "ax <- ggplot(sample) +\n",
    "  geom_point(\n",
    "    aes(x = class, y = value, col = batch),\n",
    "    position = position_jitterdodge()\n",
    "  )"
   ]
  },
  {
   "cell_type": "code",
   "execution_count": 21,
   "metadata": {},
   "outputs": [],
   "source": [
    "file <- '~/Dropbox/tmp/rvp-sample.pdf'\n",
    "ggsave(file, ax, width = 5, height = 3)"
   ]
  },
  {
   "cell_type": "markdown",
   "metadata": {},
   "source": [
    "# PCA plots"
   ]
  },
  {
   "cell_type": "code",
   "execution_count": 41,
   "metadata": {},
   "outputs": [],
   "source": [
    "metadata_maqc_bal <- metadata_maqc[colnames(maqc_bal), ]"
   ]
  },
  {
   "cell_type": "code",
   "execution_count": 43,
   "metadata": {},
   "outputs": [
    {
     "data": {
      "text/html": [
       "<table class=\"dataframe\">\n",
       "<caption>A data.frame: 6 × 2</caption>\n",
       "<thead>\n",
       "\t<tr><th></th><th scope=col>batch_info</th><th scope=col>class_info</th></tr>\n",
       "\t<tr><th></th><th scope=col>&lt;fct&gt;</th><th scope=col>&lt;chr&gt;</th></tr>\n",
       "</thead>\n",
       "<tbody>\n",
       "\t<tr><th scope=row>AFX_1_A1</th><td>1</td><td>A</td></tr>\n",
       "\t<tr><th scope=row>AFX_1_A2</th><td>1</td><td>A</td></tr>\n",
       "\t<tr><th scope=row>AFX_1_A3</th><td>1</td><td>A</td></tr>\n",
       "\t<tr><th scope=row>AFX_1_A4</th><td>1</td><td>A</td></tr>\n",
       "\t<tr><th scope=row>AFX_1_B1</th><td>1</td><td>B</td></tr>\n",
       "\t<tr><th scope=row>AFX_1_B2</th><td>1</td><td>B</td></tr>\n",
       "</tbody>\n",
       "</table>\n"
      ],
      "text/latex": [
       "A data.frame: 6 × 2\n",
       "\\begin{tabular}{r|ll}\n",
       "  & batch\\_info & class\\_info\\\\\n",
       "  & <fct> & <chr>\\\\\n",
       "\\hline\n",
       "\tAFX\\_1\\_A1 & 1 & A\\\\\n",
       "\tAFX\\_1\\_A2 & 1 & A\\\\\n",
       "\tAFX\\_1\\_A3 & 1 & A\\\\\n",
       "\tAFX\\_1\\_A4 & 1 & A\\\\\n",
       "\tAFX\\_1\\_B1 & 1 & B\\\\\n",
       "\tAFX\\_1\\_B2 & 1 & B\\\\\n",
       "\\end{tabular}\n"
      ],
      "text/markdown": [
       "\n",
       "A data.frame: 6 × 2\n",
       "\n",
       "| <!--/--> | batch_info &lt;fct&gt; | class_info &lt;chr&gt; |\n",
       "|---|---|---|\n",
       "| AFX_1_A1 | 1 | A |\n",
       "| AFX_1_A2 | 1 | A |\n",
       "| AFX_1_A3 | 1 | A |\n",
       "| AFX_1_A4 | 1 | A |\n",
       "| AFX_1_B1 | 1 | B |\n",
       "| AFX_1_B2 | 1 | B |\n",
       "\n"
      ],
      "text/plain": [
       "         batch_info class_info\n",
       "AFX_1_A1 1          A         \n",
       "AFX_1_A2 1          A         \n",
       "AFX_1_A3 1          A         \n",
       "AFX_1_A4 1          A         \n",
       "AFX_1_B1 1          B         \n",
       "AFX_1_B2 1          B         "
      ]
     },
     "metadata": {},
     "output_type": "display_data"
    }
   ],
   "source": [
    "head(metadata_maqc_bal)"
   ]
  },
  {
   "cell_type": "code",
   "execution_count": 45,
   "metadata": {
    "scrolled": true
   },
   "outputs": [],
   "source": [
    "rvp <- RVP(t(maqc_bal), metadata_maqc_bal$batch_info, metadata_maqc_bal$class_info)"
   ]
  },
  {
   "cell_type": "code",
   "execution_count": 51,
   "metadata": {},
   "outputs": [],
   "source": [
    "maqc_prcomp <- prcomp(t(maqc_bal))\n",
    "maqc_pca <- maqc_prcomp$x"
   ]
  },
  {
   "cell_type": "code",
   "execution_count": 52,
   "metadata": {},
   "outputs": [],
   "source": [
    "rvp <- RVP(maqc_pca, metadata_maqc_bal$batch_info, metadata_maqc_bal$class_info)"
   ]
  },
  {
   "cell_type": "code",
   "execution_count": null,
   "metadata": {},
   "outputs": [],
   "source": []
  }
 ],
 "metadata": {
  "kernelspec": {
   "display_name": "R",
   "language": "R",
   "name": "ir"
  },
  "language_info": {
   "codemirror_mode": "r",
   "file_extension": ".r",
   "mimetype": "text/x-r-source",
   "name": "R",
   "pygments_lexer": "r",
   "version": "4.2.3"
  }
 },
 "nbformat": 4,
 "nbformat_minor": 2
}

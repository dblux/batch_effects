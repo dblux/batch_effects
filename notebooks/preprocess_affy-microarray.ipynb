{
 "cells": [
  {
   "cell_type": "code",
   "execution_count": 2,
   "metadata": {
    "scrolled": false
   },
   "outputs": [
    {
     "name": "stderr",
     "output_type": "stream",
     "text": [
      "Loading required package: BiocGenerics\n",
      "Loading required package: parallel\n",
      "\n",
      "Attaching package: ‘BiocGenerics’\n",
      "\n",
      "The following objects are masked from ‘package:parallel’:\n",
      "\n",
      "    clusterApply, clusterApplyLB, clusterCall, clusterEvalQ,\n",
      "    clusterExport, clusterMap, parApply, parCapply, parLapply,\n",
      "    parLapplyLB, parRapply, parSapply, parSapplyLB\n",
      "\n",
      "The following objects are masked from ‘package:stats’:\n",
      "\n",
      "    IQR, mad, sd, var, xtabs\n",
      "\n",
      "The following objects are masked from ‘package:base’:\n",
      "\n",
      "    anyDuplicated, append, as.data.frame, basename, cbind, colMeans,\n",
      "    colnames, colSums, dirname, do.call, duplicated, eval, evalq,\n",
      "    Filter, Find, get, grep, grepl, intersect, is.unsorted, lapply,\n",
      "    lengths, Map, mapply, match, mget, order, paste, pmax, pmax.int,\n",
      "    pmin, pmin.int, Position, rank, rbind, Reduce, rowMeans, rownames,\n",
      "    rowSums, sapply, setdiff, sort, table, tapply, union, unique,\n",
      "    unsplit, which, which.max, which.min\n",
      "\n",
      "Loading required package: Biobase\n",
      "Welcome to Bioconductor\n",
      "\n",
      "    Vignettes contain introductory material; view with\n",
      "    'browseVignettes()'. To cite Bioconductor, see\n",
      "    'citation(\"Biobase\")', and for packages 'citation(\"pkgname\")'.\n",
      "\n"
     ]
    }
   ],
   "source": [
    "library(affy)"
   ]
  },
  {
   "cell_type": "markdown",
   "metadata": {},
   "source": [
    "### GSE24061"
   ]
  },
  {
   "cell_type": "code",
   "execution_count": 2,
   "metadata": {},
   "outputs": [],
   "source": [
    "path <- '../data/GSE24061/raw/GPL1261/'\n",
    "files <- list.files(path, full.names = T)\n",
    "affybatch <- ReadAffy(filenames = files)"
   ]
  },
  {
   "cell_type": "code",
   "execution_count": 3,
   "metadata": {},
   "outputs": [],
   "source": [
    "# Scan dates of microarrays\n",
    "scan_dates <- affybatch@protocolData@data\n",
    "accessions <- sapply(\n",
    "  strsplit(rownames(scan_dates), '_'),\n",
    "  function(x) x[1]\n",
    ")\n",
    "rownames(scan_dates) <- accessions\n",
    "file <- '../data/GSE24061/processed/scan_dates.tsv'\n",
    "write.table(scan_dates, file, quote = F, sep = '\\t')"
   ]
  },
  {
   "cell_type": "code",
   "execution_count": 4,
   "metadata": {
    "scrolled": true
   },
   "outputs": [
    {
     "name": "stdout",
     "output_type": "stream",
     "text": [
      "background correction: mas \n",
      "PM/MM correction : mas \n",
      "expression values: mas \n",
      "background correcting..."
     ]
    },
    {
     "name": "stderr",
     "output_type": "stream",
     "text": [
      "Warning message:\n",
      "“replacing previous import ‘AnnotationDbi::tail’ by ‘utils::tail’ when loading ‘mouse4302cdf’”Warning message:\n",
      "“replacing previous import ‘AnnotationDbi::head’ by ‘utils::head’ when loading ‘mouse4302cdf’”\n"
     ]
    },
    {
     "name": "stdout",
     "output_type": "stream",
     "text": [
      "done.\n",
      "45101 ids to be processed\n",
      "|                    |\n",
      "|####################|\n",
      "Getting probe level data...\n",
      "Computing p-values\n",
      "Making P/M/A Calls\n"
     ]
    }
   ],
   "source": [
    "# Processing CEL\n",
    "# MAS5 without trimmed mean scaling\n",
    "data_eset <- mas5(affybatch, normalize = F)\n",
    "# MAS5 detection call object\n",
    "calls_eset <- mas5calls(affybatch)\n",
    "\n",
    "# # RMA without quantile normalisation\n",
    "# # Use expresso function to mix and match algorithm\n",
    "# rma_data <- expresso(raw_data,\n",
    "#                     bgcorrect.method = \"rma\",\n",
    "#                     normalize = F,\n",
    "#                     pmcorrect.method = \"pmonly\",\n",
    "#                     summary.method = \"medianpolish\")"
   ]
  },
  {
   "cell_type": "code",
   "execution_count": 9,
   "metadata": {},
   "outputs": [],
   "source": [
    "# Extract expression data\n",
    "raw_exprs <- exprs(data_eset)\n",
    "colnames(raw_exprs) <- accessions"
   ]
  },
  {
   "cell_type": "code",
   "execution_count": 15,
   "metadata": {},
   "outputs": [],
   "source": [
    "# Assigns detection calls based on default threshold\n",
    "# M call: 0.04 < p-value <= 0.06\n",
    "mas5_calls <- exprs(calls_eset)\n",
    "colnames(mas5_calls) <- accessions"
   ]
  },
  {
   "cell_type": "code",
   "execution_count": 20,
   "metadata": {},
   "outputs": [],
   "source": [
    "# If call == \"P\" cell -> 1\n",
    "indicator_mat <- (mas5_calls == \"P\") * 1\n",
    "# mas5 data preserving only \"P\" calls\n",
    "filtered_exprs <- raw_exprs * indicator_mat"
   ]
  },
  {
   "cell_type": "code",
   "execution_count": 25,
   "metadata": {},
   "outputs": [],
   "source": [
    "# Extracts pvalues from MAS5 call object\n",
    "mas5_pvalues <- assayData(calls_eset)[[\"se.exprs\"]]\n",
    "colnames(mas5_pvalues) <- accessions"
   ]
  },
  {
   "cell_type": "code",
   "execution_count": 29,
   "metadata": {},
   "outputs": [],
   "source": [
    "file1 <- '../data/GSE24061/processed/GSE24061-mas5_exprs.tsv'\n",
    "write.table(filtered_exprs, file1, sep = \"\\t\", quote = F)\n",
    "file2 <- '../data/GSE24061/processed/GSE24061-mas5_calls.tsv'\n",
    "write.table(mas5_calls, file2, sep = \"\\t\", quote = F)\n",
    "file3 <- '../data/GSE24061/processed/GSE24061-mas5_pvalues.tsv'\n",
    "write.table(mas5_pvalues, file3, sep = \"\\t\", quote = F)"
   ]
  },
  {
   "cell_type": "markdown",
   "metadata": {},
   "source": [
    "### GSE6116"
   ]
  },
  {
   "cell_type": "code",
   "execution_count": 3,
   "metadata": {},
   "outputs": [],
   "source": [
    "path <- '../data/GSE6116/raw/GPL1261/'\n",
    "files <- list.files(path, full.names = T)\n",
    "affybatch <- ReadAffy(filenames = files)"
   ]
  },
  {
   "cell_type": "code",
   "execution_count": 13,
   "metadata": {},
   "outputs": [],
   "source": [
    "# Scan dates of microarrays\n",
    "scan_dates <- affybatch@protocolData@data\n",
    "accessions <- substring(rownames(scan_dates), 0, 9)\n",
    "rownames(scan_dates) <- accessions\n",
    "\n",
    "file <- '../data/GSE6116/processed/scan_dates.tsv'\n",
    "write.table(scan_dates, file, quote = F, sep = '\\t')"
   ]
  },
  {
   "cell_type": "code",
   "execution_count": 14,
   "metadata": {
    "scrolled": true
   },
   "outputs": [
    {
     "name": "stdout",
     "output_type": "stream",
     "text": [
      "background correction: mas \n",
      "PM/MM correction : mas \n",
      "expression values: mas \n",
      "background correcting..."
     ]
    },
    {
     "name": "stderr",
     "output_type": "stream",
     "text": [
      "Warning message:\n",
      "“replacing previous import ‘AnnotationDbi::tail’ by ‘utils::tail’ when loading ‘mouse4302cdf’”Warning message:\n",
      "“replacing previous import ‘AnnotationDbi::head’ by ‘utils::head’ when loading ‘mouse4302cdf’”\n"
     ]
    },
    {
     "name": "stdout",
     "output_type": "stream",
     "text": [
      "done.\n",
      "45101 ids to be processed\n",
      "|                    |\n",
      "|####################|\n",
      "Getting probe level data...\n",
      "Computing p-values\n",
      "Making P/M/A Calls\n"
     ]
    }
   ],
   "source": [
    "# Processing CEL\n",
    "# MAS5 without trimmed mean scaling\n",
    "data_eset <- mas5(affybatch, normalize = F)\n",
    "# MAS5 detection call object\n",
    "calls_eset <- mas5calls(affybatch)\n",
    "\n",
    "# # RMA without quantile normalisation\n",
    "# # Use expresso function to mix and match algorithm\n",
    "# rma_data <- expresso(raw_data,\n",
    "#                     bgcorrect.method = \"rma\",\n",
    "#                     normalize = F,\n",
    "#                     pmcorrect.method = \"pmonly\",\n",
    "#                     summary.method = \"medianpolish\")"
   ]
  },
  {
   "cell_type": "code",
   "execution_count": 15,
   "metadata": {},
   "outputs": [],
   "source": [
    "# Extract expression data\n",
    "raw_exprs <- exprs(data_eset)\n",
    "colnames(raw_exprs) <- accessions"
   ]
  },
  {
   "cell_type": "code",
   "execution_count": 19,
   "metadata": {},
   "outputs": [],
   "source": [
    "# Assigns detection calls based on default threshold\n",
    "# M call: 0.04 < p-value <= 0.06\n",
    "mas5_calls <- exprs(calls_eset)\n",
    "colnames(mas5_calls) <- accessions"
   ]
  },
  {
   "cell_type": "code",
   "execution_count": 20,
   "metadata": {},
   "outputs": [],
   "source": [
    "# If call == \"P\" cell -> 1\n",
    "indicator_mat <- (mas5_calls == \"P\") * 1\n",
    "# mas5 data preserving only \"P\" calls\n",
    "filtered_exprs <- raw_exprs * indicator_mat"
   ]
  },
  {
   "cell_type": "code",
   "execution_count": 21,
   "metadata": {},
   "outputs": [],
   "source": [
    "# Extracts pvalues from MAS5 call object\n",
    "mas5_pvalues <- assayData(calls_eset)[[\"se.exprs\"]]\n",
    "colnames(mas5_pvalues) <- accessions"
   ]
  },
  {
   "cell_type": "code",
   "execution_count": 23,
   "metadata": {},
   "outputs": [],
   "source": [
    "file1 <- '../data/GSE6116/processed/GSE6116-mas5_exprs.tsv'\n",
    "write.table(filtered_exprs, file1, sep = \"\\t\", quote = F)\n",
    "file2 <- '../data/GSE6116/processed/GSE6116-mas5_calls.tsv'\n",
    "write.table(mas5_calls, file2, sep = \"\\t\", quote = F)\n",
    "file3 <- '../data/GSE6116/processed/GSE6116-mas5_pvalues.tsv'\n",
    "write.table(mas5_pvalues, file3, sep = \"\\t\", quote = F)"
   ]
  },
  {
   "cell_type": "markdown",
   "metadata": {},
   "source": [
    "### Microarray QC: Images"
   ]
  },
  {
   "cell_type": "code",
   "execution_count": null,
   "metadata": {},
   "outputs": [],
   "source": [
    "# # Visualise each microarray\n",
    "# # Remove chips with too many artefacts\n",
    "# DIR_WPATH <- sub(\"raw\", \"img\", CEL_DIRPATH)\n",
    "# print(DIR_WPATH)\n",
    "\n",
    "# # Creates new directory\n",
    "# dir.create(DIR_WPATH)\n",
    "\n",
    "# # Saves each microarray image in folder\n",
    "# for (i in 1:length(fpaths)) {\n",
    "#   wpath <- sprintf(\"%s%03d.jpg\", DIR_WPATH, i)\n",
    "#   jpeg(wpath)\n",
    "#   image(raw_data[, i])\n",
    "#   dev.off()\n",
    "# }"
   ]
  },
  {
   "cell_type": "code",
   "execution_count": null,
   "metadata": {},
   "outputs": [],
   "source": [
    "# # Plot boxplots of probe intensities for each microarray\n",
    "# par(mar = c(10,4,4,4),\n",
    "#     cex.axis = 0.8)\n",
    "# boxplot(raw_data, las = 2)\n",
    "\n",
    "# # Plot density curves of microarrays\n",
    "# hist(raw_data)"
   ]
  }
 ],
 "metadata": {
  "kernelspec": {
   "display_name": "R",
   "language": "R",
   "name": "ir"
  },
  "language_info": {
   "codemirror_mode": "r",
   "file_extension": ".r",
   "mimetype": "text/x-r-source",
   "name": "R",
   "pygments_lexer": "r",
   "version": "3.5.1"
  }
 },
 "nbformat": 4,
 "nbformat_minor": 2
}

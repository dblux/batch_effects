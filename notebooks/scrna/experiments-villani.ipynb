{
 "cells": [
  {
   "cell_type": "code",
   "execution_count": 1,
   "id": "c268ab17",
   "metadata": {
    "scrolled": true,
    "vscode": {
     "languageId": "r"
    }
   },
   "outputs": [
    {
     "name": "stderr",
     "output_type": "stream",
     "text": [
      "Loading required package: SummarizedExperiment\n",
      "\n",
      "Loading required package: MatrixGenerics\n",
      "\n",
      "Loading required package: matrixStats\n",
      "\n",
      "\n",
      "Attaching package: ‘MatrixGenerics’\n",
      "\n",
      "\n",
      "The following objects are masked from ‘package:matrixStats’:\n",
      "\n",
      "    colAlls, colAnyNAs, colAnys, colAvgsPerRowSet, colCollapse,\n",
      "    colCounts, colCummaxs, colCummins, colCumprods, colCumsums,\n",
      "    colDiffs, colIQRDiffs, colIQRs, colLogSumExps, colMadDiffs,\n",
      "    colMads, colMaxs, colMeans2, colMedians, colMins, colOrderStats,\n",
      "    colProds, colQuantiles, colRanges, colRanks, colSdDiffs, colSds,\n",
      "    colSums2, colTabulates, colVarDiffs, colVars, colWeightedMads,\n",
      "    colWeightedMeans, colWeightedMedians, colWeightedSds,\n",
      "    colWeightedVars, rowAlls, rowAnyNAs, rowAnys, rowAvgsPerColSet,\n",
      "    rowCollapse, rowCounts, rowCummaxs, rowCummins, rowCumprods,\n",
      "    rowCumsums, rowDiffs, rowIQRDiffs, rowIQRs, rowLogSumExps,\n",
      "    rowMadDiffs, rowMads, rowMaxs, rowMeans2, rowMedians, rowMins,\n",
      "    rowOrderStats, rowProds, rowQuantiles, rowRanges, rowRanks,\n",
      "    rowSdDiffs, rowSds, rowSums2, rowTabulates, rowVarDiffs, rowVars,\n",
      "    rowWeightedMads, rowWeightedMeans, rowWeightedMedians,\n",
      "    rowWeightedSds, rowWeightedVars\n",
      "\n",
      "\n",
      "Loading required package: GenomicRanges\n",
      "\n",
      "Loading required package: stats4\n",
      "\n",
      "Loading required package: BiocGenerics\n",
      "\n",
      "\n",
      "Attaching package: ‘BiocGenerics’\n",
      "\n",
      "\n",
      "The following objects are masked from ‘package:stats’:\n",
      "\n",
      "    IQR, mad, sd, var, xtabs\n",
      "\n",
      "\n",
      "The following objects are masked from ‘package:base’:\n",
      "\n",
      "    anyDuplicated, aperm, append, as.data.frame, basename, cbind,\n",
      "    colnames, dirname, do.call, duplicated, eval, evalq, Filter, Find,\n",
      "    get, grep, grepl, intersect, is.unsorted, lapply, Map, mapply,\n",
      "    match, mget, order, paste, pmax, pmax.int, pmin, pmin.int,\n",
      "    Position, rank, rbind, Reduce, rownames, sapply, setdiff, sort,\n",
      "    table, tapply, union, unique, unsplit, which.max, which.min\n",
      "\n",
      "\n",
      "Loading required package: S4Vectors\n",
      "\n",
      "\n",
      "Attaching package: ‘S4Vectors’\n",
      "\n",
      "\n",
      "The following object is masked from ‘package:utils’:\n",
      "\n",
      "    findMatches\n",
      "\n",
      "\n",
      "The following objects are masked from ‘package:base’:\n",
      "\n",
      "    expand.grid, I, unname\n",
      "\n",
      "\n",
      "Loading required package: IRanges\n",
      "\n",
      "Loading required package: GenomeInfoDb\n",
      "\n",
      "Loading required package: Biobase\n",
      "\n",
      "Welcome to Bioconductor\n",
      "\n",
      "    Vignettes contain introductory material; view with\n",
      "    'browseVignettes()'. To cite Bioconductor, see\n",
      "    'citation(\"Biobase\")', and for packages 'citation(\"pkgname\")'.\n",
      "\n",
      "\n",
      "\n",
      "Attaching package: ‘Biobase’\n",
      "\n",
      "\n",
      "The following object is masked from ‘package:MatrixGenerics’:\n",
      "\n",
      "    rowMedians\n",
      "\n",
      "\n",
      "The following objects are masked from ‘package:matrixStats’:\n",
      "\n",
      "    anyMissing, rowMedians\n",
      "\n",
      "\n"
     ]
    }
   ],
   "source": [
    "library(SingleCellExperiment)\n",
    "\n",
    "library(kBET)\n",
    "library(lisi)\n",
    "\n",
    "library(ggplot2)\n",
    "library(cowplot)\n",
    "theme_set(theme_bw())"
   ]
  },
  {
   "cell_type": "code",
   "execution_count": 2,
   "id": "a3a01078",
   "metadata": {
    "vscode": {
     "languageId": "r"
    }
   },
   "outputs": [],
   "source": [
    "source(\"../R/rvp.R\")\n",
    "# # source files\n",
    "# src_files <- list.files('../../relapse_prediction/R', full.names = TRUE)\n",
    "# for (f in src_files) {\n",
    "#   source(f)\n",
    "#   cat(sprintf('Sourced file: %s\\n', f))\n",
    "# }"
   ]
  },
  {
   "cell_type": "markdown",
   "id": "d55511c3",
   "metadata": {},
   "source": [
    "# Villani"
   ]
  },
  {
   "cell_type": "code",
   "execution_count": 3,
   "id": "31a297f7",
   "metadata": {
    "vscode": {
     "languageId": "r"
    }
   },
   "outputs": [],
   "source": [
    "file <- \"../data/villani/processed/villani.rds\"\n",
    "villani <- readRDS(file)"
   ]
  },
  {
   "cell_type": "code",
   "execution_count": 47,
   "id": "a9d869be",
   "metadata": {
    "scrolled": false,
    "vscode": {
     "languageId": "r"
    }
   },
   "outputs": [],
   "source": [
    "# assays(villani)\n",
    "# colData(villani)\n",
    "# rowData(villani)\n",
    "# reducedDim(villani, \"PCA\")"
   ]
  },
  {
   "cell_type": "code",
   "execution_count": 4,
   "id": "e8366b5a",
   "metadata": {
    "vscode": {
     "languageId": "r"
    }
   },
   "outputs": [],
   "source": [
    "batch_effects <- function(obj, batch, cls) {\n",
    "  X <- assay(obj)\n",
    "  metadata <- colData(obj)\n",
    "  kbet_size <- dim(obj)[2]\n",
    "  \n",
    "  RVP <- rvp(obj, batch, cls)\n",
    "  kbet_estimate <- kBET(\n",
    "    Matrix::t(X),\n",
    "    obj[[batch]],\n",
    "    testSize = kbet_size, n_repeat = 1\n",
    "  )\n",
    "  rejection_rate <- kbet_estimate$summary$kBET.observed[1]\n",
    "  lisi_results <- compute_lisi(\n",
    "    Matrix::t(X),\n",
    "    metadata,\n",
    "    c(batch, cls)\n",
    "  )\n",
    "  print(head(lisi_results))\n",
    "  blisi <- mean(lisi_results[[batch]])\n",
    "  \n",
    "  return(c(rvp = RVP, kbet = rejection_rate, lisi = blisi))\n",
    "}"
   ]
  },
  {
   "cell_type": "code",
   "execution_count": 35,
   "id": "845308d7",
   "metadata": {
    "scrolled": false,
    "vscode": {
     "languageId": "r"
    }
   },
   "outputs": [
    {
     "name": "stdout",
     "output_type": "stream",
     "text": [
      "                 batch celltype\n",
      "CD141_P10_S73 1.003938 1.053252\n",
      "CD141_P10_S74 1.021713 2.287001\n",
      "CD141_P10_S75 1.010505 1.077153\n",
      "CD141_P10_S76 1.089969 1.246269\n",
      "CD141_P10_S77 1.008777 1.223048\n",
      "CD141_P10_S78 1.004377 2.294468\n"
     ]
    }
   ],
   "source": [
    "metrics <- batch_effects(villani, \"batch\", \"celltype\")"
   ]
  },
  {
   "cell_type": "code",
   "execution_count": 36,
   "id": "7361d2a5",
   "metadata": {
    "scrolled": false,
    "vscode": {
     "languageId": "r"
    }
   },
   "outputs": [
    {
     "data": {
      "text/html": [
       "<style>\n",
       ".dl-inline {width: auto; margin:0; padding: 0}\n",
       ".dl-inline>dt, .dl-inline>dd {float: none; width: auto; display: inline-block}\n",
       ".dl-inline>dt::after {content: \":\\0020\"; padding-right: .5ex}\n",
       ".dl-inline>dt:not(:first-of-type) {padding-left: .5ex}\n",
       "</style><dl class=dl-inline><dt>rvp</dt><dd>0.0888539541895157</dd><dt>kbet</dt><dd>0.651041666666667</dd><dt>lisi</dt><dd>1.05572752908902</dd></dl>\n"
      ],
      "text/latex": [
       "\\begin{description*}\n",
       "\\item[rvp] 0.0888539541895157\n",
       "\\item[kbet] 0.651041666666667\n",
       "\\item[lisi] 1.05572752908902\n",
       "\\end{description*}\n"
      ],
      "text/markdown": [
       "rvp\n",
       ":   0.0888539541895157kbet\n",
       ":   0.651041666666667lisi\n",
       ":   1.05572752908902\n",
       "\n"
      ],
      "text/plain": [
       "       rvp       kbet       lisi \n",
       "0.08885395 0.65104167 1.05572753 "
      ]
     },
     "metadata": {},
     "output_type": "display_data"
    }
   ],
   "source": [
    "metrics"
   ]
  },
  {
   "cell_type": "code",
   "execution_count": 5,
   "id": "e5ec48cd",
   "metadata": {
    "vscode": {
     "languageId": "r"
    }
   },
   "outputs": [],
   "source": [
    "RVP <- rvp(villani, \"batch\", \"celltype\")"
   ]
  },
  {
   "cell_type": "code",
   "execution_count": 14,
   "id": "1f1e2ee3",
   "metadata": {
    "vscode": {
     "languageId": "r"
    }
   },
   "outputs": [],
   "source": [
    "SS <- rvp$sum_squares\n",
    "# sort by ss_total\n",
    "SS_t <- SS[order(-SS$ss_total), ]\n",
    "# sort by ss_batch\n",
    "SS_b <- SS[order(-SS$ss_batch), ]\n",
    "# sort by mean\n",
    "villani_counts <- assay(villani)\n",
    "SS_m <- SS[order(-rowMeans(villani_counts)), ]\n",
    "# sort by mean in top 10% cells\n",
    "mean_counts_10 <- apply(villani_counts, 1, function(x) {\n",
    "  pct <- 0.1\n",
    "  mean(sort(x, decreasing = TRUE)[seq_len(pct * ncol(counts))])\n",
    "})\n",
    "SS_m10 <- SS[order(-mean_counts_10), ]"
   ]
  },
  {
   "cell_type": "code",
   "execution_count": 24,
   "id": "252630f3",
   "metadata": {
    "scrolled": true,
    "vscode": {
     "languageId": "r"
    }
   },
   "outputs": [
    {
     "data": {
      "image/png": "[encoded data removed]",
      "text/plain": [
       "plot without title"
      ]
     },
     "metadata": {
      "image/png": {
       "height": 420,
       "width": 420
      }
     },
     "output_type": "display_data"
    }
   ],
   "source": [
    "ax_rvp <- plot.rvp(SS_m10, cex = .5)\n",
    "ax_rvp\n",
    "\n",
    "file <- '~/Dropbox/tmp/ssm10-villani.pdf'\n",
    "ggsave(file, ax_rvp, width = 6, height = 3)"
   ]
  },
  {
   "cell_type": "markdown",
   "id": "176e2a1a",
   "metadata": {},
   "source": [
    "#### Investigate"
   ]
  },
  {
   "cell_type": "code",
   "execution_count": 8,
   "id": "f00d0cd7",
   "metadata": {
    "vscode": {
     "languageId": "r"
    }
   },
   "outputs": [],
   "source": [
    "#' @param X Dataframe of dim (n_features, n_samples)\n",
    "#' @param pct Minimum percentage of samples with value greater than zero\n",
    "remove_features_dropout <- function(X, pct) X[rowSums(X > 0) >= pct * ncol(X), ]\n",
    "\n",
    "#' @param X Dataframe of dim (n_features, n_samples)\n",
    "#' @param pct Minimum percentage of samples with value greater than zero\n",
    "remove_cells_lowcount <- function(X, pct) X[rowSums(X > 0) < pct * ncol]"
   ]
  },
  {
   "cell_type": "code",
   "execution_count": 10,
   "id": "7c7f7e66",
   "metadata": {
    "scrolled": true,
    "vscode": {
     "languageId": "r"
    }
   },
   "outputs": [
    {
     "data": {
      "text/html": [
       "<style>\n",
       ".list-inline {list-style: none; margin:0; padding: 0}\n",
       ".list-inline>li {display: inline-block}\n",
       ".list-inline>li:not(:last-child)::after {content: \"\\00b7\"; padding: 0 .5ex}\n",
       "</style>\n",
       "<ol class=list-inline><li>16293</li><li>768</li></ol>\n"
      ],
      "text/latex": [
       "\\begin{enumerate*}\n",
       "\\item 16293\n",
       "\\item 768\n",
       "\\end{enumerate*}\n"
      ],
      "text/markdown": [
       "1. 16293\n",
       "2. 768\n",
       "\n",
       "\n"
      ],
      "text/plain": [
       "[1] 16293   768"
      ]
     },
     "metadata": {},
     "output_type": "display_data"
    },
    {
     "data": {
      "image/png": "[encoded data removed]",
      "text/plain": [
       "Plot with title “Histogram of colSums(counts2 != 0)”"
      ]
     },
     "metadata": {
      "image/png": {
       "height": 420,
       "width": 420
      }
     },
     "output_type": "display_data"
    }
   ],
   "source": [
    "# filter features\n",
    "counts2 <- remove_features_dropout(counts1, 0.01)\n",
    "dim(counts2)\n",
    "\n",
    "# filter doublets and empty cells\n",
    "# low number of genes detected or low total counts\n",
    "# filter cells with enriched mitochondrial rna\n",
    "hist(colSums(counts2 != 0), breaks = 50)\n",
    "# TODO: Inspect cells with detected < 2000"
   ]
  },
  {
   "cell_type": "code",
   "execution_count": 28,
   "id": "1b17d0dc",
   "metadata": {
    "vscode": {
     "languageId": "r"
    }
   },
   "outputs": [],
   "source": [
    "rvp1 <- RVP(t(counts1), coldata$batch, coldata$celltype, ret.obj = TRUE)\n",
    "rvp2 <- RVP(t(counts2), coldata$batch, coldata$celltype, ret.obj = TRUE)"
   ]
  },
  {
   "cell_type": "code",
   "execution_count": 17,
   "id": "01e58182",
   "metadata": {
    "vscode": {
     "languageId": "r"
    }
   },
   "outputs": [],
   "source": [
    "rvp <- RVP(t(counts2), coldata$batch, coldata$celltype, ret.obj = TRUE)\n",
    "SS <- rvp$sum_squares"
   ]
  },
  {
   "cell_type": "markdown",
   "id": "1a513181",
   "metadata": {},
   "source": [
    "### Plots: PCA"
   ]
  },
  {
   "cell_type": "code",
   "execution_count": 28,
   "id": "77b43b98",
   "metadata": {
    "vscode": {
     "languageId": "r"
    }
   },
   "outputs": [
    {
     "ename": "ERROR",
     "evalue": "Error: subscript contains invalid names\n",
     "output_type": "error",
     "traceback": [
      "Error: subscript contains invalid names\nTraceback:\n",
      "1. ggplot_pca(counts, colData(villani), col = \"batch\", pch = \"celltype\")",
      "2. metadata[rownames(Z), metadata_cols, drop = F]",
      "3. metadata[rownames(Z), metadata_cols, drop = F]",
      "4. extractCOLS(x, j)",
      "5. extractCOLS(x, j)",
      "6. normalizeSingleBracketSubscript(i, xstub)",
      "7. NSBS(i, x, exact = exact, strict.upper.bound = !allow.append, \n .     allow.NAs = allow.NAs)",
      "8. NSBS(i, x, exact = exact, strict.upper.bound = !allow.append, \n .     allow.NAs = allow.NAs)",
      "9. .subscript_error(\"subscript contains invalid \", what)",
      "10. stop(wmsg(...), call. = FALSE)"
     ]
    }
   ],
   "source": [
    "coldata <- colData(villani)\n",
    "ax_pca <- ggplot_pca(counts, coldata, col = 'batch', pch = 'cell_type1') +\n",
    "  labs(subtitle = sprintf(\"RVP = %.4f\", rvp$percentage))\n",
    "ax_pca"
   ]
  },
  {
   "cell_type": "code",
   "execution_count": 55,
   "id": "8d2f5a6a",
   "metadata": {
    "vscode": {
     "languageId": "r"
    }
   },
   "outputs": [],
   "source": [
    "file <- '~/Dropbox/tmp/pca-villani.pdf'\n",
    "ggsave(file, ax2, width = 6, height = 4)"
   ]
  }
 ],
 "metadata": {
  "kernelspec": {
   "display_name": "R",
   "language": "R",
   "name": "ir"
  },
  "language_info": {
   "codemirror_mode": "r",
   "file_extension": ".r",
   "mimetype": "text/x-r-source",
   "name": "R",
   "pygments_lexer": "r",
   "version": "4.3.1"
  }
 },
 "nbformat": 4,
 "nbformat_minor": 5
}
